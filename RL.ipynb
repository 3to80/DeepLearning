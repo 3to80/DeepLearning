{
  "nbformat": 4,
  "nbformat_minor": 0,
  "metadata": {
    "colab": {
      "name": "RL.ipynb",
      "version": "0.3.2",
      "provenance": [],
      "collapsed_sections": [],
      "include_colab_link": true
    },
    "kernelspec": {
      "name": "python3",
      "display_name": "Python 3"
    },
    "accelerator": "GPU"
  },
  "cells": [
    {
      "cell_type": "markdown",
      "metadata": {
        "id": "view-in-github",
        "colab_type": "text"
      },
      "source": [
        "[View in Colaboratory](https://colab.research.google.com/github/3to80/DeepLearning/blob/master/RL.ipynb)"
      ]
    },
    {
      "metadata": {
        "id": "g3QDnzkyNUqI",
        "colab_type": "text"
      },
      "cell_type": "markdown",
      "source": [
        "## ffmpeg 안되는 경우\n",
        "- https://stackoverflow.com/questions/41041138/what-does-matplotlib-need-to-know-about-ffmpegs-installation\n"
      ]
    },
    {
      "metadata": {
        "colab_type": "code",
        "colab": {
          "base_uri": "https://localhost:8080/",
          "height": 11988
        },
        "outputId": "ff7d580a-5753-455a-d6c6-c282d2347e7f",
        "id": "FbTjOBajNunC"
      },
      "cell_type": "code",
      "source": [
        "\n",
        "!apt-get install ffmpeg\n",
        "!apt-get update ffmpeg"
      ],
      "execution_count": 1,
      "outputs": [
        {
          "output_type": "stream",
          "text": [
            "Reading package lists... Done\n",
            "Building dependency tree       \n",
            "Reading state information... Done\n",
            "The following additional packages will be installed:\n",
            "  fontconfig i965-va-driver libaacs0 libasound2 libasound2-data libass9\n",
            "  libasyncns0 libavc1394-0 libavcodec57 libavdevice57 libavfilter6\n",
            "  libavformat57 libavresample3 libavutil55 libbdplus0 libbluray2 libbs2b0\n",
            "  libcaca0 libcairo2 libcdio-cdda2 libcdio-paranoia2 libcdio17 libchromaprint1\n",
            "  libcroco3 libcrystalhd3 libdatrie1 libdc1394-22 libdrm-amdgpu1 libdrm-intel1\n",
            "  libdrm-nouveau2 libdrm-radeon1 libfftw3-double3 libflac8 libflite1\n",
            "  libfribidi0 libgdk-pixbuf2.0-0 libgdk-pixbuf2.0-bin libgdk-pixbuf2.0-common\n",
            "  libgl1 libgl1-mesa-dri libglx-mesa0 libglx0 libgme0 libgsm1 libiec61883-0\n",
            "  libjack-jackd2-0 libjbig0 libllvm6.0 libmp3lame0 libmpg123-0 libmysofa0\n",
            "  libnuma1 libogg0 libopenal-data libopenal1 libopenjp2-7 libopenmpt0 libopus0\n",
            "  libpango-1.0-0 libpangocairo-1.0-0 libpangoft2-1.0-0 libpciaccess0\n",
            "  libpixman-1-0 libpostproc54 libpulse0 libraw1394-11 librsvg2-2\n",
            "  librsvg2-common librubberband2 libsamplerate0 libsdl2-2.0-0 libsensors4\n",
            "  libshine3 libslang2 libsnappy1v5 libsndfile1 libsndio6.1 libsoxr0 libspeex1\n",
            "  libssh-gcrypt-4 libswresample2 libswscale4 libthai-data libthai0 libtheora0\n",
            "  libtiff5 libtwolame0 libusb-1.0-0 libva-drm2 libva-x11-2 libva2 libvdpau1\n",
            "  libvorbis0a libvorbisenc2 libvorbisfile3 libvpx5 libwavpack1\n",
            "  libwayland-cursor0 libwayland-egl1-mesa libwebp6 libwebpmux3 libwrap0\n",
            "  libx264-152 libx265-146 libxcb-glx0 libxcb-render0 libxcb-shape0 libxcb-shm0\n",
            "  libxcursor1 libxdamage1 libxfixes3 libxi6 libxinerama1 libxkbcommon0\n",
            "  libxrandr2 libxv1 libxvidcore4 libxxf86vm1 libzvbi-common libzvbi0\n",
            "  mesa-va-drivers mesa-vdpau-drivers shared-mime-info va-driver-all\n",
            "  vdpau-driver-all xkb-data\n",
            "Suggested packages:\n",
            "  ffmpeg-doc i965-va-driver-shaders libasound2-plugins alsa-utils\n",
            "  libbluray-bdj firmware-crystalhd libfftw3-bin libfftw3-dev jackd2\n",
            "  libportaudio2 opus-tools pciutils pulseaudio libraw1394-doc librsvg2-bin\n",
            "  lm-sensors sndiod speex libvdpau-va-gl1 nvidia-vdpau-driver\n",
            "  nvidia-legacy-340xx-vdpau-driver\n",
            "The following NEW packages will be installed:\n",
            "  ffmpeg fontconfig i965-va-driver libaacs0 libasound2 libasound2-data libass9\n",
            "  libasyncns0 libavc1394-0 libavcodec57 libavdevice57 libavfilter6\n",
            "  libavformat57 libavresample3 libavutil55 libbdplus0 libbluray2 libbs2b0\n",
            "  libcaca0 libcairo2 libcdio-cdda2 libcdio-paranoia2 libcdio17 libchromaprint1\n",
            "  libcroco3 libcrystalhd3 libdatrie1 libdc1394-22 libdrm-amdgpu1 libdrm-intel1\n",
            "  libdrm-nouveau2 libdrm-radeon1 libfftw3-double3 libflac8 libflite1\n",
            "  libfribidi0 libgdk-pixbuf2.0-0 libgdk-pixbuf2.0-bin libgdk-pixbuf2.0-common\n",
            "  libgl1 libgl1-mesa-dri libglx-mesa0 libglx0 libgme0 libgsm1 libiec61883-0\n",
            "  libjack-jackd2-0 libjbig0 libllvm6.0 libmp3lame0 libmpg123-0 libmysofa0\n",
            "  libnuma1 libogg0 libopenal-data libopenal1 libopenjp2-7 libopenmpt0 libopus0\n",
            "  libpango-1.0-0 libpangocairo-1.0-0 libpangoft2-1.0-0 libpciaccess0\n",
            "  libpixman-1-0 libpostproc54 libpulse0 libraw1394-11 librsvg2-2\n",
            "  librsvg2-common librubberband2 libsamplerate0 libsdl2-2.0-0 libsensors4\n",
            "  libshine3 libslang2 libsnappy1v5 libsndfile1 libsndio6.1 libsoxr0 libspeex1\n",
            "  libssh-gcrypt-4 libswresample2 libswscale4 libthai-data libthai0 libtheora0\n",
            "  libtiff5 libtwolame0 libusb-1.0-0 libva-drm2 libva-x11-2 libva2 libvdpau1\n",
            "  libvorbis0a libvorbisenc2 libvorbisfile3 libvpx5 libwavpack1\n",
            "  libwayland-cursor0 libwayland-egl1-mesa libwebp6 libwebpmux3 libwrap0\n",
            "  libx264-152 libx265-146 libxcb-glx0 libxcb-render0 libxcb-shape0 libxcb-shm0\n",
            "  libxcursor1 libxdamage1 libxfixes3 libxi6 libxinerama1 libxkbcommon0\n",
            "  libxrandr2 libxv1 libxvidcore4 libxxf86vm1 libzvbi-common libzvbi0\n",
            "  mesa-va-drivers mesa-vdpau-drivers shared-mime-info va-driver-all\n",
            "  vdpau-driver-all xkb-data\n",
            "0 upgraded, 127 newly installed, 0 to remove and 4 not upgraded.\n",
            "Need to get 60.5 MB of archives.\n",
            "After this operation, 355 MB of additional disk space will be used.\n",
            "Get:1 http://archive.ubuntu.com/ubuntu bionic/main amd64 fontconfig amd64 2.12.6-0ubuntu2 [169 kB]\n",
            "Get:2 http://archive.ubuntu.com/ubuntu bionic/main amd64 libogg0 amd64 1.3.2-1 [17.2 kB]\n",
            "Get:3 http://archive.ubuntu.com/ubuntu bionic/main amd64 libxinerama1 amd64 2:1.1.3-1 [7,908 B]\n",
            "Get:4 http://archive.ubuntu.com/ubuntu bionic/main amd64 libxxf86vm1 amd64 1:1.1.4-1 [10.6 kB]\n",
            "Get:5 http://archive.ubuntu.com/ubuntu bionic/main amd64 libfribidi0 amd64 0.19.7-2 [24.9 kB]\n",
            "Get:6 http://archive.ubuntu.com/ubuntu bionic/main amd64 libslang2 amd64 2.3.1a-3ubuntu1 [424 kB]\n",
            "Get:7 http://archive.ubuntu.com/ubuntu bionic/main amd64 shared-mime-info amd64 1.9-2 [426 kB]\n",
            "Get:8 http://archive.ubuntu.com/ubuntu bionic/main amd64 xkb-data all 2.23.1-1ubuntu1 [325 kB]\n",
            "Get:9 http://archive.ubuntu.com/ubuntu bionic/main amd64 libnuma1 amd64 2.0.11-2.1 [21.6 kB]\n",
            "Get:10 http://archive.ubuntu.com/ubuntu bionic/main amd64 libusb-1.0-0 amd64 2:1.0.21-2 [43.3 kB]\n",
            "Get:11 http://archive.ubuntu.com/ubuntu bionic/universe amd64 libva2 amd64 2.1.0-3 [47.6 kB]\n",
            "Get:12 http://archive.ubuntu.com/ubuntu bionic/universe amd64 libva-drm2 amd64 2.1.0-3 [6,880 B]\n",
            "Get:13 http://archive.ubuntu.com/ubuntu bionic/main amd64 libxfixes3 amd64 1:5.0.3-1 [10.8 kB]\n",
            "Get:14 http://archive.ubuntu.com/ubuntu bionic/universe amd64 libva-x11-2 amd64 2.1.0-3 [11.5 kB]\n",
            "Get:15 http://archive.ubuntu.com/ubuntu bionic/main amd64 libvdpau1 amd64 1.1.1-3ubuntu1 [25.5 kB]\n",
            "Get:16 http://archive.ubuntu.com/ubuntu bionic-updates/universe amd64 libavutil55 amd64 7:3.4.4-0ubuntu0.18.04.1 [190 kB]\n",
            "Get:17 http://archive.ubuntu.com/ubuntu bionic/main amd64 libpixman-1-0 amd64 0.34.0-2 [229 kB]\n",
            "Get:18 http://archive.ubuntu.com/ubuntu bionic/main amd64 libxcb-render0 amd64 1.13-1 [14.7 kB]\n",
            "Get:19 http://archive.ubuntu.com/ubuntu bionic/main amd64 libxcb-shm0 amd64 1.13-1 [5,572 B]\n",
            "Get:20 http://archive.ubuntu.com/ubuntu bionic/main amd64 libcairo2 amd64 1.15.10-2 [580 kB]\n",
            "Get:21 http://archive.ubuntu.com/ubuntu bionic/universe amd64 libcrystalhd3 amd64 1:0.0~git20110715.fdd2f19-12 [45.8 kB]\n",
            "Get:22 http://archive.ubuntu.com/ubuntu bionic/universe amd64 libgsm1 amd64 1.0.13-4build1 [22.4 kB]\n",
            "Get:23 http://archive.ubuntu.com/ubuntu bionic/main amd64 libmp3lame0 amd64 3.100-2 [136 kB]\n",
            "Get:24 http://archive.ubuntu.com/ubuntu bionic/universe amd64 libopenjp2-7 amd64 2.3.0-1 [145 kB]\n",
            "Get:25 http://archive.ubuntu.com/ubuntu bionic/main amd64 libopus0 amd64 1.1.2-1ubuntu1 [159 kB]\n",
            "Get:26 http://archive.ubuntu.com/ubuntu bionic/main amd64 libcroco3 amd64 0.6.12-2 [81.3 kB]\n",
            "Get:27 http://archive.ubuntu.com/ubuntu bionic/main amd64 libjbig0 amd64 2.1-3.1build1 [26.7 kB]\n",
            "Get:28 http://archive.ubuntu.com/ubuntu bionic/main amd64 libtiff5 amd64 4.0.9-5 [152 kB]\n",
            "Get:29 http://archive.ubuntu.com/ubuntu bionic/main amd64 libgdk-pixbuf2.0-common all 2.36.11-2 [4,536 B]\n",
            "Get:30 http://archive.ubuntu.com/ubuntu bionic/main amd64 libgdk-pixbuf2.0-0 amd64 2.36.11-2 [165 kB]\n",
            "Get:31 http://archive.ubuntu.com/ubuntu bionic/main amd64 libthai-data all 0.1.27-2 [133 kB]\n",
            "Get:32 http://archive.ubuntu.com/ubuntu bionic/main amd64 libdatrie1 amd64 0.2.10-7 [17.8 kB]\n",
            "Get:33 http://archive.ubuntu.com/ubuntu bionic/main amd64 libthai0 amd64 0.1.27-2 [18.0 kB]\n",
            "Get:34 http://archive.ubuntu.com/ubuntu bionic-updates/main amd64 libpango-1.0-0 amd64 1.40.14-1ubuntu0.1 [153 kB]\n",
            "Get:35 http://archive.ubuntu.com/ubuntu bionic-updates/main amd64 libpangoft2-1.0-0 amd64 1.40.14-1ubuntu0.1 [33.2 kB]\n",
            "Get:36 http://archive.ubuntu.com/ubuntu bionic-updates/main amd64 libpangocairo-1.0-0 amd64 1.40.14-1ubuntu0.1 [20.8 kB]\n",
            "Get:37 http://archive.ubuntu.com/ubuntu bionic/main amd64 librsvg2-2 amd64 2.40.20-2 [98.6 kB]\n",
            "Get:38 http://archive.ubuntu.com/ubuntu bionic/universe amd64 libshine3 amd64 3.1.1-1 [22.9 kB]\n",
            "Get:39 http://archive.ubuntu.com/ubuntu bionic/main amd64 libsnappy1v5 amd64 1.1.7-1 [16.0 kB]\n",
            "Get:40 http://archive.ubuntu.com/ubuntu bionic/main amd64 libspeex1 amd64 1.2~rc1.2-1ubuntu2 [52.1 kB]\n",
            "Get:41 http://archive.ubuntu.com/ubuntu bionic/universe amd64 libsoxr0 amd64 0.1.2-3 [65.9 kB]\n",
            "Get:42 http://archive.ubuntu.com/ubuntu bionic-updates/universe amd64 libswresample2 amd64 7:3.4.4-0ubuntu0.18.04.1 [55.2 kB]\n",
            "Get:43 http://archive.ubuntu.com/ubuntu bionic/main amd64 libtheora0 amd64 1.1.1+dfsg.1-14 [170 kB]\n",
            "Get:44 http://archive.ubuntu.com/ubuntu bionic/main amd64 libtwolame0 amd64 0.3.13-3 [46.7 kB]\n",
            "Get:45 http://archive.ubuntu.com/ubuntu bionic/main amd64 libvorbis0a amd64 1.3.5-4.2 [86.4 kB]\n",
            "Get:46 http://archive.ubuntu.com/ubuntu bionic/main amd64 libvorbisenc2 amd64 1.3.5-4.2 [70.7 kB]\n",
            "Get:47 http://archive.ubuntu.com/ubuntu bionic/main amd64 libvpx5 amd64 1.7.0-3 [798 kB]\n",
            "Get:48 http://archive.ubuntu.com/ubuntu bionic-updates/main amd64 libwavpack1 amd64 5.1.0-2ubuntu1.1 [76.6 kB]\n",
            "Get:49 http://archive.ubuntu.com/ubuntu bionic/main amd64 libwebp6 amd64 0.6.1-2 [185 kB]\n",
            "Get:50 http://archive.ubuntu.com/ubuntu bionic/main amd64 libwebpmux3 amd64 0.6.1-2 [19.6 kB]\n",
            "Get:51 http://archive.ubuntu.com/ubuntu bionic/universe amd64 libx264-152 amd64 2:0.152.2854+gite9a5903-2 [609 kB]\n",
            "Get:52 http://archive.ubuntu.com/ubuntu bionic/universe amd64 libx265-146 amd64 2.6-3 [1,026 kB]\n",
            "Get:53 http://archive.ubuntu.com/ubuntu bionic/universe amd64 libxvidcore4 amd64 2:1.3.5-1 [200 kB]\n",
            "Get:54 http://archive.ubuntu.com/ubuntu bionic/universe amd64 libzvbi-common all 0.2.35-13 [32.1 kB]\n",
            "Get:55 http://archive.ubuntu.com/ubuntu bionic/universe amd64 libzvbi0 amd64 0.2.35-13 [235 kB]\n",
            "Get:56 http://archive.ubuntu.com/ubuntu bionic-updates/universe amd64 libavcodec57 amd64 7:3.4.4-0ubuntu0.18.04.1 [4,592 kB]\n",
            "Get:57 http://archive.ubuntu.com/ubuntu bionic-updates/main amd64 libasound2-data all 1.1.3-5ubuntu0.1 [36.3 kB]\n",
            "Get:58 http://archive.ubuntu.com/ubuntu bionic-updates/main amd64 libasound2 amd64 1.1.3-5ubuntu0.1 [359 kB]\n",
            "Get:59 http://archive.ubuntu.com/ubuntu bionic/main amd64 libraw1394-11 amd64 2.1.2-1 [30.7 kB]\n",
            "Get:60 http://archive.ubuntu.com/ubuntu bionic/main amd64 libavc1394-0 amd64 0.5.4-4build1 [16.1 kB]\n",
            "Get:61 http://archive.ubuntu.com/ubuntu bionic/universe amd64 libass9 amd64 1:0.14.0-1 [88.2 kB]\n",
            "Get:62 http://archive.ubuntu.com/ubuntu bionic/universe amd64 libbluray2 amd64 1:1.0.2-3 [141 kB]\n",
            "Get:63 http://archive.ubuntu.com/ubuntu bionic/universe amd64 libchromaprint1 amd64 1.4.3-1 [36.8 kB]\n",
            "Get:64 http://archive.ubuntu.com/ubuntu bionic/universe amd64 libgme0 amd64 0.6.2-1 [121 kB]\n",
            "Get:65 http://archive.ubuntu.com/ubuntu bionic/main amd64 libmpg123-0 amd64 1.25.10-1 [125 kB]\n",
            "Get:66 http://archive.ubuntu.com/ubuntu bionic/main amd64 libvorbisfile3 amd64 1.3.5-4.2 [16.0 kB]\n",
            "Get:67 http://archive.ubuntu.com/ubuntu bionic/universe amd64 libopenmpt0 amd64 0.3.6-1 [561 kB]\n",
            "Get:68 http://archive.ubuntu.com/ubuntu bionic/main amd64 libssh-gcrypt-4 amd64 0.8.0~20170825.94fa1e38-1build1 [171 kB]\n",
            "Get:69 http://archive.ubuntu.com/ubuntu bionic-updates/universe amd64 libavformat57 amd64 7:3.4.4-0ubuntu0.18.04.1 [949 kB]\n",
            "Get:70 http://archive.ubuntu.com/ubuntu bionic-updates/universe amd64 libavresample3 amd64 7:3.4.4-0ubuntu0.18.04.1 [52.6 kB]\n",
            "Get:71 http://archive.ubuntu.com/ubuntu bionic/universe amd64 libbs2b0 amd64 3.1.0+dfsg-2.2 [10.5 kB]\n",
            "Get:72 http://archive.ubuntu.com/ubuntu bionic/universe amd64 libflite1 amd64 2.1-release-1 [12.8 MB]\n",
            "Get:73 http://archive.ubuntu.com/ubuntu bionic/universe amd64 libmysofa0 amd64 0.6~dfsg0-2 [37.8 kB]\n",
            "Get:74 http://archive.ubuntu.com/ubuntu bionic-updates/universe amd64 libpostproc54 amd64 7:3.4.4-0ubuntu0.18.04.1 [50.4 kB]\n",
            "Get:75 http://archive.ubuntu.com/ubuntu bionic/main amd64 libfftw3-double3 amd64 3.3.7-1 [735 kB]\n",
            "Get:76 http://archive.ubuntu.com/ubuntu bionic/main amd64 libsamplerate0 amd64 0.1.9-1 [938 kB]\n",
            "Get:77 http://archive.ubuntu.com/ubuntu bionic/universe amd64 librubberband2 amd64 1.8.1-7ubuntu2 [86.7 kB]\n",
            "Get:78 http://archive.ubuntu.com/ubuntu bionic-updates/universe amd64 libswscale4 amd64 7:3.4.4-0ubuntu0.18.04.1 [150 kB]\n",
            "Get:79 http://archive.ubuntu.com/ubuntu bionic-updates/universe amd64 libavfilter6 amd64 7:3.4.4-0ubuntu0.18.04.1 [874 kB]\n",
            "Get:80 http://archive.ubuntu.com/ubuntu bionic/main amd64 libcaca0 amd64 0.99.beta19-2build2~gcc5.3 [202 kB]\n",
            "Get:81 http://archive.ubuntu.com/ubuntu bionic/main amd64 libcdio17 amd64 1.0.0-2ubuntu2 [58.8 kB]\n",
            "Get:82 http://archive.ubuntu.com/ubuntu bionic/main amd64 libcdio-cdda2 amd64 10.2+0.94+2-2build1 [17.7 kB]\n",
            "Get:83 http://archive.ubuntu.com/ubuntu bionic/main amd64 libcdio-paranoia2 amd64 10.2+0.94+2-2build1 [17.2 kB]\n",
            "Get:84 http://archive.ubuntu.com/ubuntu bionic/universe amd64 libdc1394-22 amd64 2.2.5-1 [77.5 kB]\n",
            "Get:85 http://archive.ubuntu.com/ubuntu bionic/main amd64 libxcb-glx0 amd64 1.13-1 [22.0 kB]\n",
            "Get:86 http://archive.ubuntu.com/ubuntu bionic/main amd64 libxdamage1 amd64 1:1.1.4-3 [6,934 B]\n",
            "Get:87 http://archive.ubuntu.com/ubuntu bionic/main amd64 libdrm-amdgpu1 amd64 2.4.91-2 [19.0 kB]\n",
            "Get:88 http://archive.ubuntu.com/ubuntu bionic/main amd64 libpciaccess0 amd64 0.14-1 [17.9 kB]\n",
            "Get:89 http://archive.ubuntu.com/ubuntu bionic/main amd64 libdrm-intel1 amd64 2.4.91-2 [59.8 kB]\n",
            "Get:90 http://archive.ubuntu.com/ubuntu bionic/main amd64 libdrm-nouveau2 amd64 2.4.91-2 [16.5 kB]\n",
            "Get:91 http://archive.ubuntu.com/ubuntu bionic/main amd64 libdrm-radeon1 amd64 2.4.91-2 [21.7 kB]\n",
            "Get:92 http://archive.ubuntu.com/ubuntu bionic/main amd64 libllvm6.0 amd64 1:6.0-1ubuntu2 [14.5 MB]\n",
            "Get:93 http://archive.ubuntu.com/ubuntu bionic/main amd64 libsensors4 amd64 1:3.4.0-4 [28.8 kB]\n",
            "Get:94 http://archive.ubuntu.com/ubuntu bionic-updates/main amd64 libgl1-mesa-dri amd64 18.0.5-0ubuntu0~18.04.1 [6,011 kB]\n",
            "Get:95 http://archive.ubuntu.com/ubuntu bionic-updates/main amd64 libglx-mesa0 amd64 18.0.5-0ubuntu0~18.04.1 [132 kB]\n",
            "Get:96 http://archive.ubuntu.com/ubuntu bionic-updates/main amd64 libglx0 amd64 1.0.0-2ubuntu2.2 [28.1 kB]\n",
            "Get:97 http://archive.ubuntu.com/ubuntu bionic-updates/main amd64 libgl1 amd64 1.0.0-2ubuntu2.2 [84.8 kB]\n",
            "Get:98 http://archive.ubuntu.com/ubuntu bionic/main amd64 libiec61883-0 amd64 1.2.0-2 [23.5 kB]\n",
            "Get:99 http://archive.ubuntu.com/ubuntu bionic/main amd64 libjack-jackd2-0 amd64 1.9.12~dfsg-2 [263 kB]\n",
            "Get:100 http://archive.ubuntu.com/ubuntu bionic/universe amd64 libopenal-data all 1:1.18.2-2 [102 kB]\n",
            "Get:101 http://archive.ubuntu.com/ubuntu bionic/universe amd64 libsndio6.1 amd64 1.1.0-3 [23.4 kB]\n",
            "Get:102 http://archive.ubuntu.com/ubuntu bionic/universe amd64 libopenal1 amd64 1:1.18.2-2 [266 kB]\n",
            "Get:103 http://archive.ubuntu.com/ubuntu bionic/main amd64 libasyncns0 amd64 0.8-6 [12.1 kB]\n",
            "Get:104 http://archive.ubuntu.com/ubuntu bionic/main amd64 libflac8 amd64 1.3.2-1 [213 kB]\n",
            "Get:105 http://archive.ubuntu.com/ubuntu bionic/main amd64 libsndfile1 amd64 1.0.28-4 [169 kB]\n",
            "Get:106 http://archive.ubuntu.com/ubuntu bionic/main amd64 libwrap0 amd64 7.6.q-27 [46.3 kB]\n",
            "Get:107 http://archive.ubuntu.com/ubuntu bionic-updates/main amd64 libpulse0 amd64 1:11.1-1ubuntu7.1 [265 kB]\n",
            "Get:108 http://archive.ubuntu.com/ubuntu bionic/main amd64 libwayland-cursor0 amd64 1.14.0-2 [9,976 B]\n",
            "Get:109 http://archive.ubuntu.com/ubuntu bionic-updates/main amd64 libwayland-egl1-mesa amd64 18.0.5-0ubuntu0~18.04.1 [7,148 B]\n",
            "Get:110 http://archive.ubuntu.com/ubuntu bionic/main amd64 libxcursor1 amd64 1:1.1.15-1 [19.8 kB]\n",
            "Get:111 http://archive.ubuntu.com/ubuntu bionic/main amd64 libxi6 amd64 2:1.7.9-1 [29.2 kB]\n",
            "Get:112 http://archive.ubuntu.com/ubuntu bionic/main amd64 libxkbcommon0 amd64 0.8.0-1 [97.6 kB]\n",
            "Get:113 http://archive.ubuntu.com/ubuntu bionic/main amd64 libxrandr2 amd64 2:1.5.1-1 [18.1 kB]\n",
            "Get:114 http://archive.ubuntu.com/ubuntu bionic-updates/universe amd64 libsdl2-2.0-0 amd64 2.0.8+dfsg1-1ubuntu1.18.04.1 [378 kB]\n",
            "Get:115 http://archive.ubuntu.com/ubuntu bionic/main amd64 libxcb-shape0 amd64 1.13-1 [5,964 B]\n",
            "Get:116 http://archive.ubuntu.com/ubuntu bionic/main amd64 libxv1 amd64 2:1.0.11-1 [10.7 kB]\n",
            "Get:117 http://archive.ubuntu.com/ubuntu bionic-updates/universe amd64 libavdevice57 amd64 7:3.4.4-0ubuntu0.18.04.1 [74.9 kB]\n",
            "Get:118 http://archive.ubuntu.com/ubuntu bionic-updates/universe amd64 ffmpeg amd64 7:3.4.4-0ubuntu0.18.04.1 [1,587 kB]\n",
            "Get:119 http://archive.ubuntu.com/ubuntu bionic/universe amd64 libaacs0 amd64 0.9.0-1 [51.4 kB]\n",
            "Get:120 http://archive.ubuntu.com/ubuntu bionic/universe amd64 libbdplus0 amd64 0.1.2-2 [46.6 kB]\n",
            "Get:121 http://archive.ubuntu.com/ubuntu bionic/main amd64 libgdk-pixbuf2.0-bin amd64 2.36.11-2 [7,864 B]\n",
            "Get:122 http://archive.ubuntu.com/ubuntu bionic/main amd64 librsvg2-common amd64 2.40.20-2 [5,124 B]\n",
            "Get:123 http://archive.ubuntu.com/ubuntu bionic-updates/universe amd64 mesa-va-drivers amd64 18.0.5-0ubuntu0~18.04.1 [1,778 kB]\n",
            "Get:124 http://archive.ubuntu.com/ubuntu bionic-updates/main amd64 mesa-vdpau-drivers amd64 18.0.5-0ubuntu0~18.04.1 [1,902 kB]\n",
            "Get:125 http://archive.ubuntu.com/ubuntu bionic/universe amd64 i965-va-driver amd64 2.1.0-0ubuntu1 [925 kB]\n",
            "Get:126 http://archive.ubuntu.com/ubuntu bionic/universe amd64 va-driver-all amd64 2.1.0-3 [4,376 B]\n",
            "Get:127 http://archive.ubuntu.com/ubuntu bionic/main amd64 vdpau-driver-all amd64 1.1.1-3ubuntu1 [4,674 B]\n",
            "Fetched 60.5 MB in 20s (3,070 kB/s)\n",
            "Extracting templates from packages: 100%\n",
            "Selecting previously unselected package fontconfig.\n",
            "(Reading database ... 21065 files and directories currently installed.)\n",
            "Preparing to unpack .../000-fontconfig_2.12.6-0ubuntu2_amd64.deb ...\n",
            "Unpacking fontconfig (2.12.6-0ubuntu2) ...\n",
            "Selecting previously unselected package libogg0:amd64.\n",
            "Preparing to unpack .../001-libogg0_1.3.2-1_amd64.deb ...\n",
            "Unpacking libogg0:amd64 (1.3.2-1) ...\n",
            "Selecting previously unselected package libxinerama1:amd64.\n",
            "Preparing to unpack .../002-libxinerama1_2%3a1.1.3-1_amd64.deb ...\n",
            "Unpacking libxinerama1:amd64 (2:1.1.3-1) ...\n",
            "Selecting previously unselected package libxxf86vm1:amd64.\n",
            "Preparing to unpack .../003-libxxf86vm1_1%3a1.1.4-1_amd64.deb ...\n",
            "Unpacking libxxf86vm1:amd64 (1:1.1.4-1) ...\n",
            "Selecting previously unselected package libfribidi0:amd64.\n",
            "Preparing to unpack .../004-libfribidi0_0.19.7-2_amd64.deb ...\n",
            "Unpacking libfribidi0:amd64 (0.19.7-2) ...\n",
            "Selecting previously unselected package libslang2:amd64.\n",
            "Preparing to unpack .../005-libslang2_2.3.1a-3ubuntu1_amd64.deb ...\n",
            "Unpacking libslang2:amd64 (2.3.1a-3ubuntu1) ...\n",
            "Selecting previously unselected package shared-mime-info.\n",
            "Preparing to unpack .../006-shared-mime-info_1.9-2_amd64.deb ...\n",
            "Unpacking shared-mime-info (1.9-2) ...\n",
            "Selecting previously unselected package xkb-data.\n",
            "Preparing to unpack .../007-xkb-data_2.23.1-1ubuntu1_all.deb ...\n",
            "Unpacking xkb-data (2.23.1-1ubuntu1) ...\n",
            "Selecting previously unselected package libnuma1:amd64.\n",
            "Preparing to unpack .../008-libnuma1_2.0.11-2.1_amd64.deb ...\n",
            "Unpacking libnuma1:amd64 (2.0.11-2.1) ...\n",
            "Selecting previously unselected package libusb-1.0-0:amd64.\n",
            "Preparing to unpack .../009-libusb-1.0-0_2%3a1.0.21-2_amd64.deb ...\n",
            "Unpacking libusb-1.0-0:amd64 (2:1.0.21-2) ...\n",
            "Selecting previously unselected package libva2:amd64.\n",
            "Preparing to unpack .../010-libva2_2.1.0-3_amd64.deb ...\n",
            "Unpacking libva2:amd64 (2.1.0-3) ...\n",
            "Selecting previously unselected package libva-drm2:amd64.\n",
            "Preparing to unpack .../011-libva-drm2_2.1.0-3_amd64.deb ...\n",
            "Unpacking libva-drm2:amd64 (2.1.0-3) ...\n",
            "Selecting previously unselected package libxfixes3:amd64.\n",
            "Preparing to unpack .../012-libxfixes3_1%3a5.0.3-1_amd64.deb ...\n",
            "Unpacking libxfixes3:amd64 (1:5.0.3-1) ...\n",
            "Selecting previously unselected package libva-x11-2:amd64.\n",
            "Preparing to unpack .../013-libva-x11-2_2.1.0-3_amd64.deb ...\n",
            "Unpacking libva-x11-2:amd64 (2.1.0-3) ...\n",
            "Selecting previously unselected package libvdpau1:amd64.\n",
            "Preparing to unpack .../014-libvdpau1_1.1.1-3ubuntu1_amd64.deb ...\n",
            "Unpacking libvdpau1:amd64 (1.1.1-3ubuntu1) ...\n",
            "Selecting previously unselected package libavutil55:amd64.\n",
            "Preparing to unpack .../015-libavutil55_7%3a3.4.4-0ubuntu0.18.04.1_amd64.deb ...\n",
            "Unpacking libavutil55:amd64 (7:3.4.4-0ubuntu0.18.04.1) ...\n",
            "Selecting previously unselected package libpixman-1-0:amd64.\n",
            "Preparing to unpack .../016-libpixman-1-0_0.34.0-2_amd64.deb ...\n",
            "Unpacking libpixman-1-0:amd64 (0.34.0-2) ...\n",
            "Selecting previously unselected package libxcb-render0:amd64.\n",
            "Preparing to unpack .../017-libxcb-render0_1.13-1_amd64.deb ...\n",
            "Unpacking libxcb-render0:amd64 (1.13-1) ...\n",
            "Selecting previously unselected package libxcb-shm0:amd64.\n",
            "Preparing to unpack .../018-libxcb-shm0_1.13-1_amd64.deb ...\n",
            "Unpacking libxcb-shm0:amd64 (1.13-1) ...\n",
            "Selecting previously unselected package libcairo2:amd64.\n",
            "Preparing to unpack .../019-libcairo2_1.15.10-2_amd64.deb ...\n",
            "Unpacking libcairo2:amd64 (1.15.10-2) ...\n",
            "Selecting previously unselected package libcrystalhd3:amd64.\n",
            "Preparing to unpack .../020-libcrystalhd3_1%3a0.0~git20110715.fdd2f19-12_amd64.deb ...\n",
            "Unpacking libcrystalhd3:amd64 (1:0.0~git20110715.fdd2f19-12) ...\n",
            "Selecting previously unselected package libgsm1:amd64.\n",
            "Preparing to unpack .../021-libgsm1_1.0.13-4build1_amd64.deb ...\n",
            "Unpacking libgsm1:amd64 (1.0.13-4build1) ...\n",
            "Selecting previously unselected package libmp3lame0:amd64.\n",
            "Preparing to unpack .../022-libmp3lame0_3.100-2_amd64.deb ...\n",
            "Unpacking libmp3lame0:amd64 (3.100-2) ...\n",
            "Selecting previously unselected package libopenjp2-7:amd64.\n",
            "Preparing to unpack .../023-libopenjp2-7_2.3.0-1_amd64.deb ...\n",
            "Unpacking libopenjp2-7:amd64 (2.3.0-1) ...\n",
            "Selecting previously unselected package libopus0:amd64.\n",
            "Preparing to unpack .../024-libopus0_1.1.2-1ubuntu1_amd64.deb ...\n",
            "Unpacking libopus0:amd64 (1.1.2-1ubuntu1) ...\n",
            "Selecting previously unselected package libcroco3:amd64.\n",
            "Preparing to unpack .../025-libcroco3_0.6.12-2_amd64.deb ...\n",
            "Unpacking libcroco3:amd64 (0.6.12-2) ...\n",
            "Selecting previously unselected package libjbig0:amd64.\n",
            "Preparing to unpack .../026-libjbig0_2.1-3.1build1_amd64.deb ...\n",
            "Unpacking libjbig0:amd64 (2.1-3.1build1) ...\n",
            "Selecting previously unselected package libtiff5:amd64.\n",
            "Preparing to unpack .../027-libtiff5_4.0.9-5_amd64.deb ...\n",
            "Unpacking libtiff5:amd64 (4.0.9-5) ...\n",
            "Selecting previously unselected package libgdk-pixbuf2.0-common.\n",
            "Preparing to unpack .../028-libgdk-pixbuf2.0-common_2.36.11-2_all.deb ...\n",
            "Unpacking libgdk-pixbuf2.0-common (2.36.11-2) ...\n",
            "Selecting previously unselected package libgdk-pixbuf2.0-0:amd64.\n",
            "Preparing to unpack .../029-libgdk-pixbuf2.0-0_2.36.11-2_amd64.deb ...\n",
            "Unpacking libgdk-pixbuf2.0-0:amd64 (2.36.11-2) ...\n",
            "Selecting previously unselected package libthai-data.\n",
            "Preparing to unpack .../030-libthai-data_0.1.27-2_all.deb ...\n",
            "Unpacking libthai-data (0.1.27-2) ...\n",
            "Selecting previously unselected package libdatrie1:amd64.\n",
            "Preparing to unpack .../031-libdatrie1_0.2.10-7_amd64.deb ...\n",
            "Unpacking libdatrie1:amd64 (0.2.10-7) ...\n",
            "Selecting previously unselected package libthai0:amd64.\n",
            "Preparing to unpack .../032-libthai0_0.1.27-2_amd64.deb ...\n",
            "Unpacking libthai0:amd64 (0.1.27-2) ...\n",
            "Selecting previously unselected package libpango-1.0-0:amd64.\n",
            "Preparing to unpack .../033-libpango-1.0-0_1.40.14-1ubuntu0.1_amd64.deb ...\n",
            "Unpacking libpango-1.0-0:amd64 (1.40.14-1ubuntu0.1) ...\n",
            "Selecting previously unselected package libpangoft2-1.0-0:amd64.\n",
            "Preparing to unpack .../034-libpangoft2-1.0-0_1.40.14-1ubuntu0.1_amd64.deb ...\n",
            "Unpacking libpangoft2-1.0-0:amd64 (1.40.14-1ubuntu0.1) ...\n",
            "Selecting previously unselected package libpangocairo-1.0-0:amd64.\n",
            "Preparing to unpack .../035-libpangocairo-1.0-0_1.40.14-1ubuntu0.1_amd64.deb ...\n",
            "Unpacking libpangocairo-1.0-0:amd64 (1.40.14-1ubuntu0.1) ...\n",
            "Selecting previously unselected package librsvg2-2:amd64.\n",
            "Preparing to unpack .../036-librsvg2-2_2.40.20-2_amd64.deb ...\n",
            "Unpacking librsvg2-2:amd64 (2.40.20-2) ...\n",
            "Selecting previously unselected package libshine3:amd64.\n",
            "Preparing to unpack .../037-libshine3_3.1.1-1_amd64.deb ...\n",
            "Unpacking libshine3:amd64 (3.1.1-1) ...\n",
            "Selecting previously unselected package libsnappy1v5:amd64.\n",
            "Preparing to unpack .../038-libsnappy1v5_1.1.7-1_amd64.deb ...\n",
            "Unpacking libsnappy1v5:amd64 (1.1.7-1) ...\n",
            "Selecting previously unselected package libspeex1:amd64.\n",
            "Preparing to unpack .../039-libspeex1_1.2~rc1.2-1ubuntu2_amd64.deb ...\n",
            "Unpacking libspeex1:amd64 (1.2~rc1.2-1ubuntu2) ...\n",
            "Selecting previously unselected package libsoxr0:amd64.\n",
            "Preparing to unpack .../040-libsoxr0_0.1.2-3_amd64.deb ...\n",
            "Unpacking libsoxr0:amd64 (0.1.2-3) ...\n",
            "Selecting previously unselected package libswresample2:amd64.\n",
            "Preparing to unpack .../041-libswresample2_7%3a3.4.4-0ubuntu0.18.04.1_amd64.deb ...\n",
            "Unpacking libswresample2:amd64 (7:3.4.4-0ubuntu0.18.04.1) ...\n",
            "Selecting previously unselected package libtheora0:amd64.\n",
            "Preparing to unpack .../042-libtheora0_1.1.1+dfsg.1-14_amd64.deb ...\n",
            "Unpacking libtheora0:amd64 (1.1.1+dfsg.1-14) ...\n",
            "Selecting previously unselected package libtwolame0:amd64.\n",
            "Preparing to unpack .../043-libtwolame0_0.3.13-3_amd64.deb ...\n",
            "Unpacking libtwolame0:amd64 (0.3.13-3) ...\n",
            "Selecting previously unselected package libvorbis0a:amd64.\n",
            "Preparing to unpack .../044-libvorbis0a_1.3.5-4.2_amd64.deb ...\n",
            "Unpacking libvorbis0a:amd64 (1.3.5-4.2) ...\n",
            "Selecting previously unselected package libvorbisenc2:amd64.\n",
            "Preparing to unpack .../045-libvorbisenc2_1.3.5-4.2_amd64.deb ...\n",
            "Unpacking libvorbisenc2:amd64 (1.3.5-4.2) ...\n",
            "Selecting previously unselected package libvpx5:amd64.\n",
            "Preparing to unpack .../046-libvpx5_1.7.0-3_amd64.deb ...\n",
            "Unpacking libvpx5:amd64 (1.7.0-3) ...\n",
            "Selecting previously unselected package libwavpack1:amd64.\n",
            "Preparing to unpack .../047-libwavpack1_5.1.0-2ubuntu1.1_amd64.deb ...\n",
            "Unpacking libwavpack1:amd64 (5.1.0-2ubuntu1.1) ...\n",
            "Selecting previously unselected package libwebp6:amd64.\n",
            "Preparing to unpack .../048-libwebp6_0.6.1-2_amd64.deb ...\n",
            "Unpacking libwebp6:amd64 (0.6.1-2) ...\n",
            "Selecting previously unselected package libwebpmux3:amd64.\n",
            "Preparing to unpack .../049-libwebpmux3_0.6.1-2_amd64.deb ...\n",
            "Unpacking libwebpmux3:amd64 (0.6.1-2) ...\n",
            "Selecting previously unselected package libx264-152:amd64.\n",
            "Preparing to unpack .../050-libx264-152_2%3a0.152.2854+gite9a5903-2_amd64.deb ...\n",
            "Unpacking libx264-152:amd64 (2:0.152.2854+gite9a5903-2) ...\n",
            "Selecting previously unselected package libx265-146:amd64.\n",
            "Preparing to unpack .../051-libx265-146_2.6-3_amd64.deb ...\n",
            "Unpacking libx265-146:amd64 (2.6-3) ...\n",
            "Selecting previously unselected package libxvidcore4:amd64.\n",
            "Preparing to unpack .../052-libxvidcore4_2%3a1.3.5-1_amd64.deb ...\n",
            "Unpacking libxvidcore4:amd64 (2:1.3.5-1) ...\n",
            "Selecting previously unselected package libzvbi-common.\n",
            "Preparing to unpack .../053-libzvbi-common_0.2.35-13_all.deb ...\n",
            "Unpacking libzvbi-common (0.2.35-13) ...\n",
            "Selecting previously unselected package libzvbi0:amd64.\n",
            "Preparing to unpack .../054-libzvbi0_0.2.35-13_amd64.deb ...\n",
            "Unpacking libzvbi0:amd64 (0.2.35-13) ...\n",
            "Selecting previously unselected package libavcodec57:amd64.\n",
            "Preparing to unpack .../055-libavcodec57_7%3a3.4.4-0ubuntu0.18.04.1_amd64.deb ...\n",
            "Unpacking libavcodec57:amd64 (7:3.4.4-0ubuntu0.18.04.1) ...\n",
            "Selecting previously unselected package libasound2-data.\n",
            "Preparing to unpack .../056-libasound2-data_1.1.3-5ubuntu0.1_all.deb ...\n",
            "Unpacking libasound2-data (1.1.3-5ubuntu0.1) ...\n",
            "Selecting previously unselected package libasound2:amd64.\n",
            "Preparing to unpack .../057-libasound2_1.1.3-5ubuntu0.1_amd64.deb ...\n",
            "Unpacking libasound2:amd64 (1.1.3-5ubuntu0.1) ...\n",
            "Selecting previously unselected package libraw1394-11:amd64.\n",
            "Preparing to unpack .../058-libraw1394-11_2.1.2-1_amd64.deb ...\n",
            "Unpacking libraw1394-11:amd64 (2.1.2-1) ...\n",
            "Selecting previously unselected package libavc1394-0:amd64.\n",
            "Preparing to unpack .../059-libavc1394-0_0.5.4-4build1_amd64.deb ...\n",
            "Unpacking libavc1394-0:amd64 (0.5.4-4build1) ...\n",
            "Selecting previously unselected package libass9:amd64.\n",
            "Preparing to unpack .../060-libass9_1%3a0.14.0-1_amd64.deb ...\n",
            "Unpacking libass9:amd64 (1:0.14.0-1) ...\n",
            "Selecting previously unselected package libbluray2:amd64.\n",
            "Preparing to unpack .../061-libbluray2_1%3a1.0.2-3_amd64.deb ...\n",
            "Unpacking libbluray2:amd64 (1:1.0.2-3) ...\n",
            "Selecting previously unselected package libchromaprint1:amd64.\n",
            "Preparing to unpack .../062-libchromaprint1_1.4.3-1_amd64.deb ...\n",
            "Unpacking libchromaprint1:amd64 (1.4.3-1) ...\n",
            "Selecting previously unselected package libgme0:amd64.\n",
            "Preparing to unpack .../063-libgme0_0.6.2-1_amd64.deb ...\n",
            "Unpacking libgme0:amd64 (0.6.2-1) ...\n",
            "Selecting previously unselected package libmpg123-0:amd64.\n",
            "Preparing to unpack .../064-libmpg123-0_1.25.10-1_amd64.deb ...\n",
            "Unpacking libmpg123-0:amd64 (1.25.10-1) ...\n",
            "Selecting previously unselected package libvorbisfile3:amd64.\n",
            "Preparing to unpack .../065-libvorbisfile3_1.3.5-4.2_amd64.deb ...\n",
            "Unpacking libvorbisfile3:amd64 (1.3.5-4.2) ...\n",
            "Selecting previously unselected package libopenmpt0:amd64.\n",
            "Preparing to unpack .../066-libopenmpt0_0.3.6-1_amd64.deb ...\n",
            "Unpacking libopenmpt0:amd64 (0.3.6-1) ...\n",
            "Selecting previously unselected package libssh-gcrypt-4:amd64.\n",
            "Preparing to unpack .../067-libssh-gcrypt-4_0.8.0~20170825.94fa1e38-1build1_amd64.deb ...\n",
            "Unpacking libssh-gcrypt-4:amd64 (0.8.0~20170825.94fa1e38-1build1) ...\n",
            "Selecting previously unselected package libavformat57:amd64.\n",
            "Preparing to unpack .../068-libavformat57_7%3a3.4.4-0ubuntu0.18.04.1_amd64.deb ...\n",
            "Unpacking libavformat57:amd64 (7:3.4.4-0ubuntu0.18.04.1) ...\n",
            "Selecting previously unselected package libavresample3:amd64.\n",
            "Preparing to unpack .../069-libavresample3_7%3a3.4.4-0ubuntu0.18.04.1_amd64.deb ...\n",
            "Unpacking libavresample3:amd64 (7:3.4.4-0ubuntu0.18.04.1) ...\n",
            "Selecting previously unselected package libbs2b0:amd64.\n",
            "Preparing to unpack .../070-libbs2b0_3.1.0+dfsg-2.2_amd64.deb ...\n",
            "Unpacking libbs2b0:amd64 (3.1.0+dfsg-2.2) ...\n",
            "Selecting previously unselected package libflite1:amd64.\n",
            "Preparing to unpack .../071-libflite1_2.1-release-1_amd64.deb ...\n",
            "Unpacking libflite1:amd64 (2.1-release-1) ...\n",
            "Selecting previously unselected package libmysofa0:amd64.\n",
            "Preparing to unpack .../072-libmysofa0_0.6~dfsg0-2_amd64.deb ...\n",
            "Unpacking libmysofa0:amd64 (0.6~dfsg0-2) ...\n",
            "Selecting previously unselected package libpostproc54:amd64.\n",
            "Preparing to unpack .../073-libpostproc54_7%3a3.4.4-0ubuntu0.18.04.1_amd64.deb ...\n",
            "Unpacking libpostproc54:amd64 (7:3.4.4-0ubuntu0.18.04.1) ...\n",
            "Selecting previously unselected package libfftw3-double3:amd64.\n",
            "Preparing to unpack .../074-libfftw3-double3_3.3.7-1_amd64.deb ...\n",
            "Unpacking libfftw3-double3:amd64 (3.3.7-1) ...\n",
            "Selecting previously unselected package libsamplerate0:amd64.\n",
            "Preparing to unpack .../075-libsamplerate0_0.1.9-1_amd64.deb ...\n",
            "Unpacking libsamplerate0:amd64 (0.1.9-1) ...\n",
            "Selecting previously unselected package librubberband2:amd64.\n",
            "Preparing to unpack .../076-librubberband2_1.8.1-7ubuntu2_amd64.deb ...\n",
            "Unpacking librubberband2:amd64 (1.8.1-7ubuntu2) ...\n",
            "Selecting previously unselected package libswscale4:amd64.\n",
            "Preparing to unpack .../077-libswscale4_7%3a3.4.4-0ubuntu0.18.04.1_amd64.deb ...\n",
            "Unpacking libswscale4:amd64 (7:3.4.4-0ubuntu0.18.04.1) ...\n",
            "Selecting previously unselected package libavfilter6:amd64.\n",
            "Preparing to unpack .../078-libavfilter6_7%3a3.4.4-0ubuntu0.18.04.1_amd64.deb ...\n",
            "Unpacking libavfilter6:amd64 (7:3.4.4-0ubuntu0.18.04.1) ...\n",
            "Selecting previously unselected package libcaca0:amd64.\n",
            "Preparing to unpack .../079-libcaca0_0.99.beta19-2build2~gcc5.3_amd64.deb ...\n",
            "Unpacking libcaca0:amd64 (0.99.beta19-2build2~gcc5.3) ...\n",
            "Selecting previously unselected package libcdio17:amd64.\n",
            "Preparing to unpack .../080-libcdio17_1.0.0-2ubuntu2_amd64.deb ...\n",
            "Unpacking libcdio17:amd64 (1.0.0-2ubuntu2) ...\n",
            "Selecting previously unselected package libcdio-cdda2:amd64.\n",
            "Preparing to unpack .../081-libcdio-cdda2_10.2+0.94+2-2build1_amd64.deb ...\n",
            "Unpacking libcdio-cdda2:amd64 (10.2+0.94+2-2build1) ...\n",
            "Selecting previously unselected package libcdio-paranoia2:amd64.\n",
            "Preparing to unpack .../082-libcdio-paranoia2_10.2+0.94+2-2build1_amd64.deb ...\n",
            "Unpacking libcdio-paranoia2:amd64 (10.2+0.94+2-2build1) ...\n",
            "Selecting previously unselected package libdc1394-22:amd64.\n",
            "Preparing to unpack .../083-libdc1394-22_2.2.5-1_amd64.deb ...\n",
            "Unpacking libdc1394-22:amd64 (2.2.5-1) ...\n",
            "Selecting previously unselected package libxcb-glx0:amd64.\n",
            "Preparing to unpack .../084-libxcb-glx0_1.13-1_amd64.deb ...\n",
            "Unpacking libxcb-glx0:amd64 (1.13-1) ...\n",
            "Selecting previously unselected package libxdamage1:amd64.\n",
            "Preparing to unpack .../085-libxdamage1_1%3a1.1.4-3_amd64.deb ...\n",
            "Unpacking libxdamage1:amd64 (1:1.1.4-3) ...\n",
            "Selecting previously unselected package libdrm-amdgpu1:amd64.\n",
            "Preparing to unpack .../086-libdrm-amdgpu1_2.4.91-2_amd64.deb ...\n",
            "Unpacking libdrm-amdgpu1:amd64 (2.4.91-2) ...\n",
            "Selecting previously unselected package libpciaccess0:amd64.\n",
            "Preparing to unpack .../087-libpciaccess0_0.14-1_amd64.deb ...\n",
            "Unpacking libpciaccess0:amd64 (0.14-1) ...\n",
            "Selecting previously unselected package libdrm-intel1:amd64.\n",
            "Preparing to unpack .../088-libdrm-intel1_2.4.91-2_amd64.deb ...\n",
            "Unpacking libdrm-intel1:amd64 (2.4.91-2) ...\n",
            "Selecting previously unselected package libdrm-nouveau2:amd64.\n",
            "Preparing to unpack .../089-libdrm-nouveau2_2.4.91-2_amd64.deb ...\n",
            "Unpacking libdrm-nouveau2:amd64 (2.4.91-2) ...\n",
            "Selecting previously unselected package libdrm-radeon1:amd64.\n",
            "Preparing to unpack .../090-libdrm-radeon1_2.4.91-2_amd64.deb ...\n",
            "Unpacking libdrm-radeon1:amd64 (2.4.91-2) ...\n",
            "Selecting previously unselected package libllvm6.0:amd64.\n",
            "Preparing to unpack .../091-libllvm6.0_1%3a6.0-1ubuntu2_amd64.deb ...\n",
            "Unpacking libllvm6.0:amd64 (1:6.0-1ubuntu2) ...\n",
            "Selecting previously unselected package libsensors4:amd64.\n",
            "Preparing to unpack .../092-libsensors4_1%3a3.4.0-4_amd64.deb ...\n",
            "Unpacking libsensors4:amd64 (1:3.4.0-4) ...\n",
            "Selecting previously unselected package libgl1-mesa-dri:amd64.\n",
            "Preparing to unpack .../093-libgl1-mesa-dri_18.0.5-0ubuntu0~18.04.1_amd64.deb ...\n",
            "Unpacking libgl1-mesa-dri:amd64 (18.0.5-0ubuntu0~18.04.1) ...\n",
            "Selecting previously unselected package libglx-mesa0:amd64.\n",
            "Preparing to unpack .../094-libglx-mesa0_18.0.5-0ubuntu0~18.04.1_amd64.deb ...\n",
            "Unpacking libglx-mesa0:amd64 (18.0.5-0ubuntu0~18.04.1) ...\n",
            "Selecting previously unselected package libglx0:amd64.\n",
            "Preparing to unpack .../095-libglx0_1.0.0-2ubuntu2.2_amd64.deb ...\n",
            "Unpacking libglx0:amd64 (1.0.0-2ubuntu2.2) ...\n",
            "Selecting previously unselected package libgl1:amd64.\n",
            "Preparing to unpack .../096-libgl1_1.0.0-2ubuntu2.2_amd64.deb ...\n",
            "Unpacking libgl1:amd64 (1.0.0-2ubuntu2.2) ...\n",
            "Selecting previously unselected package libiec61883-0:amd64.\n",
            "Preparing to unpack .../097-libiec61883-0_1.2.0-2_amd64.deb ...\n",
            "Unpacking libiec61883-0:amd64 (1.2.0-2) ...\n",
            "Selecting previously unselected package libjack-jackd2-0:amd64.\n",
            "Preparing to unpack .../098-libjack-jackd2-0_1.9.12~dfsg-2_amd64.deb ...\n",
            "Unpacking libjack-jackd2-0:amd64 (1.9.12~dfsg-2) ...\n",
            "Selecting previously unselected package libopenal-data.\n",
            "Preparing to unpack .../099-libopenal-data_1%3a1.18.2-2_all.deb ...\n",
            "Unpacking libopenal-data (1:1.18.2-2) ...\n",
            "Selecting previously unselected package libsndio6.1:amd64.\n",
            "Preparing to unpack .../100-libsndio6.1_1.1.0-3_amd64.deb ...\n",
            "Unpacking libsndio6.1:amd64 (1.1.0-3) ...\n",
            "Selecting previously unselected package libopenal1:amd64.\n",
            "Preparing to unpack .../101-libopenal1_1%3a1.18.2-2_amd64.deb ...\n",
            "Unpacking libopenal1:amd64 (1:1.18.2-2) ...\n",
            "Selecting previously unselected package libasyncns0:amd64.\n",
            "Preparing to unpack .../102-libasyncns0_0.8-6_amd64.deb ...\n",
            "Unpacking libasyncns0:amd64 (0.8-6) ...\n",
            "Selecting previously unselected package libflac8:amd64.\n",
            "Preparing to unpack .../103-libflac8_1.3.2-1_amd64.deb ...\n",
            "Unpacking libflac8:amd64 (1.3.2-1) ...\n",
            "Selecting previously unselected package libsndfile1:amd64.\n",
            "Preparing to unpack .../104-libsndfile1_1.0.28-4_amd64.deb ...\n",
            "Unpacking libsndfile1:amd64 (1.0.28-4) ...\n",
            "Selecting previously unselected package libwrap0:amd64.\n",
            "Preparing to unpack .../105-libwrap0_7.6.q-27_amd64.deb ...\n",
            "Unpacking libwrap0:amd64 (7.6.q-27) ...\n",
            "Selecting previously unselected package libpulse0:amd64.\n",
            "Preparing to unpack .../106-libpulse0_1%3a11.1-1ubuntu7.1_amd64.deb ...\n",
            "Unpacking libpulse0:amd64 (1:11.1-1ubuntu7.1) ...\n",
            "Selecting previously unselected package libwayland-cursor0:amd64.\n",
            "Preparing to unpack .../107-libwayland-cursor0_1.14.0-2_amd64.deb ...\n",
            "Unpacking libwayland-cursor0:amd64 (1.14.0-2) ...\n",
            "Selecting previously unselected package libwayland-egl1-mesa:amd64.\n",
            "Preparing to unpack .../108-libwayland-egl1-mesa_18.0.5-0ubuntu0~18.04.1_amd64.deb ...\n",
            "Unpacking libwayland-egl1-mesa:amd64 (18.0.5-0ubuntu0~18.04.1) ...\n",
            "Selecting previously unselected package libxcursor1:amd64.\n",
            "Preparing to unpack .../109-libxcursor1_1%3a1.1.15-1_amd64.deb ...\n",
            "Unpacking libxcursor1:amd64 (1:1.1.15-1) ...\n",
            "Selecting previously unselected package libxi6:amd64.\n",
            "Preparing to unpack .../110-libxi6_2%3a1.7.9-1_amd64.deb ...\n",
            "Unpacking libxi6:amd64 (2:1.7.9-1) ...\n",
            "Selecting previously unselected package libxkbcommon0:amd64.\n",
            "Preparing to unpack .../111-libxkbcommon0_0.8.0-1_amd64.deb ...\n",
            "Unpacking libxkbcommon0:amd64 (0.8.0-1) ...\n",
            "Selecting previously unselected package libxrandr2:amd64.\n",
            "Preparing to unpack .../112-libxrandr2_2%3a1.5.1-1_amd64.deb ...\n",
            "Unpacking libxrandr2:amd64 (2:1.5.1-1) ...\n",
            "Selecting previously unselected package libsdl2-2.0-0:amd64.\n",
            "Preparing to unpack .../113-libsdl2-2.0-0_2.0.8+dfsg1-1ubuntu1.18.04.1_amd64.deb ...\n",
            "Unpacking libsdl2-2.0-0:amd64 (2.0.8+dfsg1-1ubuntu1.18.04.1) ...\n",
            "Selecting previously unselected package libxcb-shape0:amd64.\n",
            "Preparing to unpack .../114-libxcb-shape0_1.13-1_amd64.deb ...\n",
            "Unpacking libxcb-shape0:amd64 (1.13-1) ...\n",
            "Selecting previously unselected package libxv1:amd64.\n",
            "Preparing to unpack .../115-libxv1_2%3a1.0.11-1_amd64.deb ...\n",
            "Unpacking libxv1:amd64 (2:1.0.11-1) ...\n",
            "Selecting previously unselected package libavdevice57:amd64.\n",
            "Preparing to unpack .../116-libavdevice57_7%3a3.4.4-0ubuntu0.18.04.1_amd64.deb ...\n",
            "Unpacking libavdevice57:amd64 (7:3.4.4-0ubuntu0.18.04.1) ...\n",
            "Selecting previously unselected package ffmpeg.\n",
            "Preparing to unpack .../117-ffmpeg_7%3a3.4.4-0ubuntu0.18.04.1_amd64.deb ...\n",
            "Unpacking ffmpeg (7:3.4.4-0ubuntu0.18.04.1) ...\n",
            "Selecting previously unselected package libaacs0:amd64.\n",
            "Preparing to unpack .../118-libaacs0_0.9.0-1_amd64.deb ...\n",
            "Unpacking libaacs0:amd64 (0.9.0-1) ...\n",
            "Selecting previously unselected package libbdplus0:amd64.\n",
            "Preparing to unpack .../119-libbdplus0_0.1.2-2_amd64.deb ...\n",
            "Unpacking libbdplus0:amd64 (0.1.2-2) ...\n",
            "Selecting previously unselected package libgdk-pixbuf2.0-bin.\n",
            "Preparing to unpack .../120-libgdk-pixbuf2.0-bin_2.36.11-2_amd64.deb ...\n",
            "Unpacking libgdk-pixbuf2.0-bin (2.36.11-2) ...\n",
            "Selecting previously unselected package librsvg2-common:amd64.\n",
            "Preparing to unpack .../121-librsvg2-common_2.40.20-2_amd64.deb ...\n",
            "Unpacking librsvg2-common:amd64 (2.40.20-2) ...\n",
            "Selecting previously unselected package mesa-va-drivers:amd64.\n",
            "Preparing to unpack .../122-mesa-va-drivers_18.0.5-0ubuntu0~18.04.1_amd64.deb ...\n",
            "Unpacking mesa-va-drivers:amd64 (18.0.5-0ubuntu0~18.04.1) ...\n",
            "Selecting previously unselected package mesa-vdpau-drivers:amd64.\n",
            "Preparing to unpack .../123-mesa-vdpau-drivers_18.0.5-0ubuntu0~18.04.1_amd64.deb ...\n",
            "Unpacking mesa-vdpau-drivers:amd64 (18.0.5-0ubuntu0~18.04.1) ...\n",
            "Selecting previously unselected package i965-va-driver:amd64.\n",
            "Preparing to unpack .../124-i965-va-driver_2.1.0-0ubuntu1_amd64.deb ...\n",
            "Unpacking i965-va-driver:amd64 (2.1.0-0ubuntu1) ...\n",
            "Selecting previously unselected package va-driver-all:amd64.\n",
            "Preparing to unpack .../125-va-driver-all_2.1.0-3_amd64.deb ...\n",
            "Unpacking va-driver-all:amd64 (2.1.0-3) ...\n",
            "Selecting previously unselected package vdpau-driver-all:amd64.\n",
            "Preparing to unpack .../126-vdpau-driver-all_1.1.1-3ubuntu1_amd64.deb ...\n",
            "Unpacking vdpau-driver-all:amd64 (1.1.1-3ubuntu1) ...\n",
            "Setting up libxi6:amd64 (2:1.7.9-1) ...\n",
            "Setting up libxinerama1:amd64 (2:1.1.3-1) ...\n",
            "Setting up libxcb-glx0:amd64 (1.13-1) ...\n",
            "Setting up libtwolame0:amd64 (0.3.13-3) ...\n",
            "Setting up libraw1394-11:amd64 (2.1.2-1) ...\n",
            "Setting up libx264-152:amd64 (2:0.152.2854+gite9a5903-2) ...\n",
            "Setting up libxcb-render0:amd64 (1.13-1) ...\n",
            "Setting up libopenjp2-7:amd64 (2.3.0-1) ...\n",
            "Setting up libasyncns0:amd64 (0.8-6) ...\n",
            "Setting up libxdamage1:amd64 (1:1.1.4-3) ...\n",
            "Setting up libxfixes3:amd64 (1:5.0.3-1) ...\n",
            "Setting up libdrm-amdgpu1:amd64 (2.4.91-2) ...\n",
            "Setting up libllvm6.0:amd64 (1:6.0-1ubuntu2) ...\n",
            "Setting up libwavpack1:amd64 (5.1.0-2ubuntu1.1) ...\n",
            "Setting up libjbig0:amd64 (2.1-3.1build1) ...\n",
            "Setting up libaacs0:amd64 (0.9.0-1) ...\n",
            "Setting up libnuma1:amd64 (2.0.11-2.1) ...\n",
            "Setting up libsoxr0:amd64 (0.1.2-3) ...\n",
            "Setting up libssh-gcrypt-4:amd64 (0.8.0~20170825.94fa1e38-1build1) ...\n",
            "Setting up libasound2-data (1.1.3-5ubuntu0.1) ...\n",
            "Setting up xkb-data (2.23.1-1ubuntu1) ...\n",
            "Setting up libbluray2:amd64 (1:1.0.2-3) ...\n",
            "Setting up libvdpau1:amd64 (1.1.1-3ubuntu1) ...\n",
            "Setting up libgdk-pixbuf2.0-common (2.36.11-2) ...\n",
            "Setting up libdatrie1:amd64 (0.2.10-7) ...\n",
            "Setting up libtiff5:amd64 (4.0.9-5) ...\n",
            "Setting up libshine3:amd64 (3.1.1-1) ...\n",
            "Setting up libva2:amd64 (2.1.0-3) ...\n",
            "Setting up libiec61883-0:amd64 (1.2.0-2) ...\n",
            "Setting up libspeex1:amd64 (1.2~rc1.2-1ubuntu2) ...\n",
            "Setting up libfftw3-double3:amd64 (3.3.7-1) ...\n",
            "Setting up libxvidcore4:amd64 (2:1.3.5-1) ...\n",
            "Setting up libopus0:amd64 (1.1.2-1ubuntu1) ...\n",
            "Setting up libx265-146:amd64 (2.6-3) ...\n",
            "Setting up libasound2:amd64 (1.1.3-5ubuntu0.1) ...\n",
            "Setting up libopenal-data (1:1.18.2-2) ...\n",
            "Setting up libbs2b0:amd64 (3.1.0+dfsg-2.2) ...\n",
            "Setting up libcroco3:amd64 (0.6.12-2) ...\n",
            "Setting up libogg0:amd64 (1.3.2-1) ...\n",
            "Setting up libpixman-1-0:amd64 (0.34.0-2) ...\n",
            "Setting up libmp3lame0:amd64 (3.100-2) ...\n",
            "Setting up libxcursor1:amd64 (1:1.1.15-1) ...\n",
            "Setting up libusb-1.0-0:amd64 (2:1.0.21-2) ...\n",
            "Setting up libcrystalhd3:amd64 (1:0.0~git20110715.fdd2f19-12) ...\n",
            "Processing triggers for libc-bin (2.27-3ubuntu1) ...\n",
            "Setting up libsnappy1v5:amd64 (1.1.7-1) ...\n",
            "Setting up libwayland-egl1-mesa:amd64 (18.0.5-0ubuntu0~18.04.1) ...\n",
            "Setting up libva-drm2:amd64 (2.1.0-3) ...\n",
            "Setting up libavc1394-0:amd64 (0.5.4-4build1) ...\n",
            "Setting up libzvbi-common (0.2.35-13) ...\n",
            "Setting up libfribidi0:amd64 (0.19.7-2) ...\n",
            "Setting up libxcb-shm0:amd64 (1.13-1) ...\n",
            "Setting up libxcb-shape0:amd64 (1.13-1) ...\n",
            "Setting up libpciaccess0:amd64 (0.14-1) ...\n",
            "Setting up libxv1:amd64 (2:1.0.11-1) ...\n",
            "Setting up libsensors4:amd64 (1:3.4.0-4) ...\n",
            "Setting up shared-mime-info (1.9-2) ...\n",
            "Setting up libxkbcommon0:amd64 (0.8.0-1) ...\n",
            "Setting up libvpx5:amd64 (1.7.0-3) ...\n",
            "Setting up libdrm-radeon1:amd64 (2.4.91-2) ...\n",
            "Setting up libgme0:amd64 (0.6.2-1) ...\n",
            "Setting up libthai-data (0.1.27-2) ...\n",
            "Setting up libbdplus0:amd64 (0.1.2-2) ...\n",
            "Setting up libxxf86vm1:amd64 (1:1.1.4-1) ...\n",
            "Setting up libzvbi0:amd64 (0.2.35-13) ...\n",
            "Setting up libva-x11-2:amd64 (2.1.0-3) ...\n",
            "Setting up libdrm-nouveau2:amd64 (2.4.91-2) ...\n",
            "Setting up libsamplerate0:amd64 (0.1.9-1) ...\n",
            "Setting up libsndio6.1:amd64 (1.1.0-3) ...\n",
            "Setting up libvorbis0a:amd64 (1.3.5-4.2) ...\n",
            "Setting up libmpg123-0:amd64 (1.25.10-1) ...\n",
            "Setting up libslang2:amd64 (2.3.1a-3ubuntu1) ...\n",
            "Setting up libwayland-cursor0:amd64 (1.14.0-2) ...\n",
            "Setting up libgsm1:amd64 (1.0.13-4build1) ...\n",
            "Setting up libmysofa0:amd64 (0.6~dfsg0-2) ...\n",
            "Setting up libcdio17:amd64 (1.0.0-2ubuntu2) ...\n",
            "Setting up libxrandr2:amd64 (2:1.5.1-1) ...\n",
            "Setting up fontconfig (2.12.6-0ubuntu2) ...\n",
            "Regenerating fonts cache... done.\n",
            "Setting up libwrap0:amd64 (7.6.q-27) ...\n",
            "Setting up libwebp6:amd64 (0.6.1-2) ...\n",
            "Setting up libvorbisfile3:amd64 (1.3.5-4.2) ...\n",
            "Setting up libcairo2:amd64 (1.15.10-2) ...\n",
            "Setting up libavutil55:amd64 (7:3.4.4-0ubuntu0.18.04.1) ...\n",
            "Setting up libopenmpt0:amd64 (0.3.6-1) ...\n",
            "Setting up libflite1:amd64 (2.1-release-1) ...\n",
            "Setting up mesa-vdpau-drivers:amd64 (18.0.5-0ubuntu0~18.04.1) ...\n",
            "Setting up libgdk-pixbuf2.0-0:amd64 (2.36.11-2) ...\n",
            "Setting up libass9:amd64 (1:0.14.0-1) ...\n",
            "Setting up libflac8:amd64 (1.3.2-1) ...\n",
            "Setting up libgdk-pixbuf2.0-bin (2.36.11-2) ...\n",
            "Setting up libdc1394-22:amd64 (2.2.5-1) ...\n",
            "Setting up libcdio-cdda2:amd64 (10.2+0.94+2-2build1) ...\n",
            "Setting up libthai0:amd64 (0.1.27-2) ...\n",
            "Setting up libswresample2:amd64 (7:3.4.4-0ubuntu0.18.04.1) ...\n",
            "Setting up libdrm-intel1:amd64 (2.4.91-2) ...\n",
            "Setting up librubberband2:amd64 (1.8.1-7ubuntu2) ...\n",
            "Setting up libswscale4:amd64 (7:3.4.4-0ubuntu0.18.04.1) ...\n",
            "Setting up libwebpmux3:amd64 (0.6.1-2) ...\n",
            "Setting up mesa-va-drivers:amd64 (18.0.5-0ubuntu0~18.04.1) ...\n",
            "Setting up libpango-1.0-0:amd64 (1.40.14-1ubuntu0.1) ...\n",
            "Setting up libcdio-paranoia2:amd64 (10.2+0.94+2-2build1) ...\n",
            "Setting up libpostproc54:amd64 (7:3.4.4-0ubuntu0.18.04.1) ...\n",
            "Setting up libjack-jackd2-0:amd64 (1.9.12~dfsg-2) ...\n",
            "Setting up libopenal1:amd64 (1:1.18.2-2) ...\n",
            "Setting up libvorbisenc2:amd64 (1.3.5-4.2) ...\n",
            "Setting up libcaca0:amd64 (0.99.beta19-2build2~gcc5.3) ...\n",
            "Setting up libtheora0:amd64 (1.1.1+dfsg.1-14) ...\n",
            "Setting up vdpau-driver-all:amd64 (1.1.1-3ubuntu1) ...\n",
            "Setting up libavresample3:amd64 (7:3.4.4-0ubuntu0.18.04.1) ...\n",
            "Setting up libgl1-mesa-dri:amd64 (18.0.5-0ubuntu0~18.04.1) ...\n",
            "Setting up libpangoft2-1.0-0:amd64 (1.40.14-1ubuntu0.1) ...\n",
            "Setting up libsndfile1:amd64 (1.0.28-4) ...\n",
            "Setting up i965-va-driver:amd64 (2.1.0-0ubuntu1) ...\n",
            "Setting up va-driver-all:amd64 (2.1.0-3) ...\n",
            "Setting up libglx-mesa0:amd64 (18.0.5-0ubuntu0~18.04.1) ...\n",
            "Setting up libpangocairo-1.0-0:amd64 (1.40.14-1ubuntu0.1) ...\n",
            "Setting up libpulse0:amd64 (1:11.1-1ubuntu7.1) ...\n",
            "Setting up libsdl2-2.0-0:amd64 (2.0.8+dfsg1-1ubuntu1.18.04.1) ...\n",
            "Setting up libglx0:amd64 (1.0.0-2ubuntu2.2) ...\n",
            "Setting up librsvg2-2:amd64 (2.40.20-2) ...\n",
            "Setting up libavcodec57:amd64 (7:3.4.4-0ubuntu0.18.04.1) ...\n",
            "Setting up librsvg2-common:amd64 (2.40.20-2) ...\n",
            "Setting up libgl1:amd64 (1.0.0-2ubuntu2.2) ...\n",
            "Setting up libchromaprint1:amd64 (1.4.3-1) ...\n",
            "Setting up libavformat57:amd64 (7:3.4.4-0ubuntu0.18.04.1) ...\n",
            "Setting up libavfilter6:amd64 (7:3.4.4-0ubuntu0.18.04.1) ...\n",
            "Setting up libavdevice57:amd64 (7:3.4.4-0ubuntu0.18.04.1) ...\n",
            "Setting up ffmpeg (7:3.4.4-0ubuntu0.18.04.1) ...\n",
            "Processing triggers for libc-bin (2.27-3ubuntu1) ...\n",
            "Processing triggers for libgdk-pixbuf2.0-0:amd64 (2.36.11-2) ...\n",
            "E: The update command takes no arguments\n"
          ],
          "name": "stdout"
        }
      ]
    },
    {
      "metadata": {
        "colab_type": "code",
        "colab": {
          "base_uri": "https://localhost:8080/",
          "height": 34
        },
        "outputId": "078a5318-5df5-4eae-f7d6-38fe150f6a22",
        "id": "p5PBsqshNunb"
      },
      "cell_type": "code",
      "source": [
        "import matplotlib.animation as ma\n",
        "ma.FFMpegWriter.bin_path()"
      ],
      "execution_count": 2,
      "outputs": [
        {
          "output_type": "execute_result",
          "data": {
            "text/plain": [
              "'ffmpeg'"
            ]
          },
          "metadata": {
            "tags": []
          },
          "execution_count": 2
        }
      ]
    },
    {
      "metadata": {
        "colab_type": "code",
        "colab": {
          "base_uri": "https://localhost:8080/",
          "height": 34
        },
        "outputId": "4fcccf22-f1c2-4203-eac7-744454d81606",
        "id": "g3jrIDSWNunh"
      },
      "cell_type": "code",
      "source": [
        "ma.FFMpegWriter.exec_key"
      ],
      "execution_count": 3,
      "outputs": [
        {
          "output_type": "execute_result",
          "data": {
            "text/plain": [
              "'animation.ffmpeg_path'"
            ]
          },
          "metadata": {
            "tags": []
          },
          "execution_count": 3
        }
      ]
    },
    {
      "metadata": {
        "colab_type": "code",
        "colab": {
          "base_uri": "https://localhost:8080/",
          "height": 34
        },
        "outputId": "fdb53648-46d8-4180-cf1b-ba4b11903b82",
        "id": "qXA1SaLZNuno"
      },
      "cell_type": "code",
      "source": [
        "ma.FFMpegWriter.isAvailable()"
      ],
      "execution_count": 4,
      "outputs": [
        {
          "output_type": "execute_result",
          "data": {
            "text/plain": [
              "True"
            ]
          },
          "metadata": {
            "tags": []
          },
          "execution_count": 4
        }
      ]
    },
    {
      "metadata": {
        "colab_type": "code",
        "colab": {
          "base_uri": "https://localhost:8080/",
          "height": 34
        },
        "outputId": "7db46710-43d1-4221-f381-9b9330e03d42",
        "id": "t09LJBZkNunt"
      },
      "cell_type": "code",
      "source": [
        "import matplotlib as mpl\n",
        "\n",
        "mpl.rcParams['animation.ffmpeg_path']"
      ],
      "execution_count": 5,
      "outputs": [
        {
          "output_type": "execute_result",
          "data": {
            "text/plain": [
              "'ffmpeg'"
            ]
          },
          "metadata": {
            "tags": []
          },
          "execution_count": 5
        }
      ]
    },
    {
      "metadata": {
        "colab_type": "code",
        "colab": {
          "base_uri": "https://localhost:8080/",
          "height": 34
        },
        "outputId": "f79f1fdd-c339-44e4-a73a-3cb6845b7de6",
        "id": "GjwggnuHNunw"
      },
      "cell_type": "code",
      "source": [
        "mpl.rcParams['animation.ffmpeg_path'] = 'jibberish'\n",
        "ma.FFMpegWriter.isAvailable()"
      ],
      "execution_count": 6,
      "outputs": [
        {
          "output_type": "execute_result",
          "data": {
            "text/plain": [
              "False"
            ]
          },
          "metadata": {
            "tags": []
          },
          "execution_count": 6
        }
      ]
    },
    {
      "metadata": {
        "colab_type": "code",
        "colab": {},
        "id": "uTWmPqxvNun0"
      },
      "cell_type": "code",
      "source": [
        "mpl.rcParams['animation.ffmpeg_path'] = 'ffmpeg'"
      ],
      "execution_count": 0,
      "outputs": []
    },
    {
      "metadata": {
        "colab_type": "code",
        "colab": {
          "base_uri": "https://localhost:8080/",
          "height": 34
        },
        "outputId": "fcd19282-d50d-48d7-a040-0fcaffab06f7",
        "id": "_FNvrIIcNun5"
      },
      "cell_type": "code",
      "source": [
        "ma.FFMpegWriter.isAvailable()"
      ],
      "execution_count": 8,
      "outputs": [
        {
          "output_type": "execute_result",
          "data": {
            "text/plain": [
              "True"
            ]
          },
          "metadata": {
            "tags": []
          },
          "execution_count": 8
        }
      ]
    },
    {
      "metadata": {
        "colab_type": "code",
        "colab": {
          "base_uri": "https://localhost:8080/",
          "height": 34
        },
        "outputId": "87ad50e0-43ba-46cf-d14e-617b267693fc",
        "id": "AC4kQnuRNun9"
      },
      "cell_type": "code",
      "source": [
        "import matplotlib.animation as animation\n",
        "print(animation.writers.list())"
      ],
      "execution_count": 9,
      "outputs": [
        {
          "output_type": "stream",
          "text": [
            "['ffmpeg', 'ffmpeg_file', 'html']\n"
          ],
          "name": "stdout"
        }
      ]
    },
    {
      "metadata": {
        "id": "LUO2c18CTX5S",
        "colab_type": "code",
        "colab": {}
      },
      "cell_type": "code",
      "source": [
        "# 파이썬 2와 파이썬 3 지원\n",
        "from __future__ import division, print_function, unicode_literals\n",
        "\n",
        "# 공통\n",
        "import numpy as np\n",
        "import os\n",
        "import sys\n",
        "\n",
        "# 일관된 출력을 위해 유사난수 초기화\n",
        "def reset_graph(seed=42):\n",
        "    tf.reset_default_graph()\n",
        "    tf.set_random_seed(seed)\n",
        "    np.random.seed(seed)\n",
        "\n",
        "# 맷플롯립 설정\n",
        "from IPython.display import HTML\n",
        "import matplotlib\n",
        "import matplotlib.animation as animation\n",
        "import matplotlib.pyplot as plt\n",
        "plt.rcParams['axes.labelsize'] = 14\n",
        "plt.rcParams['xtick.labelsize'] = 12\n",
        "plt.rcParams['ytick.labelsize'] = 12\n",
        "\n",
        "# 한글출력\n",
        "plt.rcParams['font.family'] = 'NanumBarunGothic'\n",
        "plt.rcParams['axes.unicode_minus'] = False\n",
        "\n",
        "# 그림을 저장할 폴더\n",
        "PROJECT_ROOT_DIR = \".\"\n",
        "CHAPTER_ID = \"rl\"\n",
        "\n",
        "def save_fig(fig_id, tight_layout=True):\n",
        "    path = os.path.join(PROJECT_ROOT_DIR, \"images\", CHAPTER_ID, fig_id + \".png\")\n",
        "    if tight_layout:\n",
        "        plt.tight_layout()\n",
        "    plt.savefig(path, format='png', dpi=300)"
      ],
      "execution_count": 0,
      "outputs": []
    },
    {
      "metadata": {
        "id": "peX9LDHcL5HI",
        "colab_type": "code",
        "colab": {
          "base_uri": "https://localhost:8080/",
          "height": 119
        },
        "outputId": "37f38a18-d16c-4232-ec73-2c26d7e64103"
      },
      "cell_type": "code",
      "source": [
        "!apt-get install ffmpeg\n",
        "!apt-get update ffmpeg"
      ],
      "execution_count": 11,
      "outputs": [
        {
          "output_type": "stream",
          "text": [
            "Reading package lists... Done\n",
            "Building dependency tree       \n",
            "Reading state information... Done\n",
            "ffmpeg is already the newest version (7:3.4.4-0ubuntu0.18.04.1).\n",
            "0 upgraded, 0 newly installed, 0 to remove and 4 not upgraded.\n",
            "E: The update command takes no arguments\n"
          ],
          "name": "stdout"
        }
      ]
    },
    {
      "metadata": {
        "id": "fmaNzY1UTbm8",
        "colab_type": "code",
        "colab": {}
      },
      "cell_type": "code",
      "source": [
        "from PIL import Image, ImageDraw\n",
        "\n",
        "try:\n",
        "    from pyglet.gl import gl_info\n",
        "    openai_cart_pole_rendering = True   # 문제없음, OpenAI 짐의 렌더링 함수를 사용합니다\n",
        "except Exception:\n",
        "    openai_cart_pole_rendering = False  # 가능한 X 서버가 없다면, 자체 렌더링 함수를 사용합니다\n",
        "\n",
        "def render_cart_pole(env, obs):\n",
        "    if openai_cart_pole_rendering:\n",
        "        # OpenAI 짐의 렌더링 함수를 사용합니다\n",
        "        return env.render(mode=\"rgb_array\")\n",
        "    else:\n",
        "        # Cart-Pole 환경을 위한 렌더링 (OpenAI 짐이 처리할 수 없는 경우)\n",
        "        img_w = 600\n",
        "        img_h = 400\n",
        "        cart_w = img_w // 12\n",
        "        cart_h = img_h // 15\n",
        "        pole_len = img_h // 3.5\n",
        "        pole_w = img_w // 80 + 1\n",
        "        x_width = 2\n",
        "        max_ang = 0.2\n",
        "        bg_col = (255, 255, 255)\n",
        "        cart_col = 0x000000 # 파랑 초록 빨강\n",
        "        pole_col = 0x669acc # 파랑 초록 빨강\n",
        "\n",
        "        pos, vel, ang, ang_vel = obs\n",
        "        img = Image.new('RGB', (img_w, img_h), bg_col)\n",
        "        draw = ImageDraw.Draw(img)\n",
        "        cart_x = pos * img_w // x_width + img_w // x_width\n",
        "        cart_y = img_h * 95 // 100\n",
        "        top_pole_x = cart_x + pole_len * np.sin(ang)\n",
        "        top_pole_y = cart_y - cart_h // 2 - pole_len * np.cos(ang)\n",
        "        draw.line((0, cart_y, img_w, cart_y), fill=0)\n",
        "        draw.rectangle((cart_x - cart_w // 2, cart_y - cart_h // 2, cart_x + cart_w // 2, cart_y + cart_h // 2), fill=cart_col) # draw cart\n",
        "        draw.line((cart_x, cart_y - cart_h // 2, top_pole_x, top_pole_y), fill=pole_col, width=pole_w) # draw pole\n",
        "        return np.array(img)\n",
        "\n",
        "def plot_cart_pole(env, obs):\n",
        "    img = render_cart_pole(env, obs)\n",
        "    plt.imshow(img)\n",
        "    plt.axis(\"off\")\n",
        "    plt.show()\n",
        "    \n",
        "def update_scene(num, frames, patch):\n",
        "    plt.close()  # 이전 그래프를 닫지 않으면 두 개의 그래프가 출력되는 matplotlib의 버그로 보입니다.\n",
        "    patch.set_data(frames[num])\n",
        "    return patch,\n",
        "\n",
        "def plot_animation(frames, figsize=(5,6), repeat=False, interval=40):\n",
        "    fig = plt.figure(figsize=figsize)\n",
        "    patch = plt.imshow(frames[0])\n",
        "    plt.axis('off')\n",
        "    return animation.FuncAnimation(fig, update_scene, fargs=(frames, patch), \n",
        "                                   frames=len(frames), repeat=repeat, interval=interval)    "
      ],
      "execution_count": 0,
      "outputs": []
    },
    {
      "metadata": {
        "id": "0_xAPczhGeCE",
        "colab_type": "code",
        "colab": {
          "base_uri": "https://localhost:8080/",
          "height": 394
        },
        "outputId": "203c9683-f15d-4203-bbbb-a74efd6f3a38"
      },
      "cell_type": "code",
      "source": [
        "!pip3 install --upgrade gym"
      ],
      "execution_count": 13,
      "outputs": [
        {
          "output_type": "stream",
          "text": [
            "Collecting gym\n",
            "\u001b[?25l  Downloading https://files.pythonhosted.org/packages/c3/44/3a63e8b87f642db49ac81239620e68df8cfae223dcfda4f8508aec88d204/gym-0.10.8.tar.gz (1.5MB)\n",
            "\u001b[K    100% |████████████████████████████████| 1.5MB 12.0MB/s \n",
            "\u001b[?25hRequirement already satisfied, skipping upgrade: scipy in /usr/local/lib/python3.6/dist-packages (from gym) (0.19.1)\n",
            "Requirement already satisfied, skipping upgrade: numpy>=1.10.4 in /usr/local/lib/python3.6/dist-packages (from gym) (1.14.6)\n",
            "Requirement already satisfied, skipping upgrade: requests>=2.0 in /usr/local/lib/python3.6/dist-packages (from gym) (2.18.4)\n",
            "Requirement already satisfied, skipping upgrade: six in /usr/local/lib/python3.6/dist-packages (from gym) (1.11.0)\n",
            "Collecting pyglet>=1.2.0 (from gym)\n",
            "\u001b[?25l  Downloading https://files.pythonhosted.org/packages/1c/fc/dad5eaaab68f0c21e2f906a94ddb98175662cc5a654eee404d59554ce0fa/pyglet-1.3.2-py2.py3-none-any.whl (1.0MB)\n",
            "\u001b[K    100% |████████████████████████████████| 1.0MB 21.6MB/s \n",
            "\u001b[?25hRequirement already satisfied, skipping upgrade: urllib3<1.23,>=1.21.1 in /usr/local/lib/python3.6/dist-packages (from requests>=2.0->gym) (1.22)\n",
            "Requirement already satisfied, skipping upgrade: idna<2.7,>=2.5 in /usr/local/lib/python3.6/dist-packages (from requests>=2.0->gym) (2.6)\n",
            "Requirement already satisfied, skipping upgrade: certifi>=2017.4.17 in /usr/local/lib/python3.6/dist-packages (from requests>=2.0->gym) (2018.8.24)\n",
            "Requirement already satisfied, skipping upgrade: chardet<3.1.0,>=3.0.2 in /usr/local/lib/python3.6/dist-packages (from requests>=2.0->gym) (3.0.4)\n",
            "Requirement already satisfied, skipping upgrade: future in /usr/local/lib/python3.6/dist-packages (from pyglet>=1.2.0->gym) (0.16.0)\n",
            "Building wheels for collected packages: gym\n",
            "  Running setup.py bdist_wheel for gym ... \u001b[?25l-\b \b\\\b \b|\b \b/\b \bdone\n",
            "\u001b[?25h  Stored in directory: /root/.cache/pip/wheels/ea/ec/dd/33bcc8801d345f0b640fced8a0864a7c8474828564bc5ccf70\n",
            "Successfully built gym\n",
            "Installing collected packages: pyglet, gym\n",
            "Successfully installed gym-0.10.8 pyglet-1.3.2\n"
          ],
          "name": "stdout"
        }
      ]
    },
    {
      "metadata": {
        "id": "XLQpS2z5NAbT",
        "colab_type": "code",
        "colab": {
          "base_uri": "https://localhost:8080/",
          "height": 407
        },
        "outputId": "c6660994-8fc7-4e03-f351-ff939d20fb52"
      },
      "cell_type": "code",
      "source": [
        "import gym\n",
        "env = gym.make(\"CartPole-v0\")\n",
        "obs =env.reset()\n",
        "plot_cart_pole(env, obs)"
      ],
      "execution_count": 14,
      "outputs": [
        {
          "output_type": "stream",
          "text": [
            "/usr/local/lib/python3.6/dist-packages/matplotlib/font_manager.py:1320: UserWarning: findfont: Font family ['NanumBarunGothic'] not found. Falling back to DejaVu Sans\n",
            "  (prop.get_family(), self.defaultFamily[fontext]))\n"
          ],
          "name": "stderr"
        },
        {
          "output_type": "display_data",
          "data": {
            "image/png": "[encoded data removed]",
            "text/plain": [
              "<matplotlib.figure.Figure at 0x7f3c826f38d0>"
            ]
          },
          "metadata": {
            "tags": []
          }
        }
      ]
    },
    {
      "metadata": {
        "id": "A0gsBl3iNMz8",
        "colab_type": "code",
        "colab": {
          "base_uri": "https://localhost:8080/",
          "height": 34
        },
        "outputId": "c16b1574-bd35-458c-d185-6ef596659db5"
      },
      "cell_type": "code",
      "source": [
        "env.action_space"
      ],
      "execution_count": 15,
      "outputs": [
        {
          "output_type": "execute_result",
          "data": {
            "text/plain": [
              "Discrete(2)"
            ]
          },
          "metadata": {
            "tags": []
          },
          "execution_count": 15
        }
      ]
    },
    {
      "metadata": {
        "id": "9igk1AARNg8p",
        "colab_type": "code",
        "colab": {
          "base_uri": "https://localhost:8080/",
          "height": 407
        },
        "outputId": "1a6a4f7a-42b6-4c00-be69-ebfd1a0530dc"
      },
      "cell_type": "code",
      "source": [
        "action = 1\n",
        "obs, reward, done, info = env.step(action)\n",
        "\n",
        "plot_cart_pole(env, obs)"
      ],
      "execution_count": 16,
      "outputs": [
        {
          "output_type": "stream",
          "text": [
            "/usr/local/lib/python3.6/dist-packages/matplotlib/font_manager.py:1320: UserWarning: findfont: Font family ['NanumBarunGothic'] not found. Falling back to DejaVu Sans\n",
            "  (prop.get_family(), self.defaultFamily[fontext]))\n"
          ],
          "name": "stderr"
        },
        {
          "output_type": "display_data",
          "data": {
            "image/png": "[encoded data removed]",
            "text/plain": [
              "<matplotlib.figure.Figure at 0x7f3c7425f0f0>"
            ]
          },
          "metadata": {
            "tags": []
          }
        }
      ]
    },
    {
      "metadata": {
        "id": "SOp7pW0NGmky",
        "colab_type": "code",
        "colab": {
          "base_uri": "https://localhost:8080/",
          "height": 424
        },
        "outputId": "c49070ad-5479-4da2-91f0-b17d7309bf9d"
      },
      "cell_type": "code",
      "source": [
        "action = 1\n",
        "env.reset()\n",
        "action = 1- action\n",
        "\n",
        "obs, reward, done, info = env.step(action)\n",
        "obs, reward, done, info = env.step(action)\n",
        "obs, reward, done, info = env.step(action)\n",
        "obs, reward, done, info = env.step(action)\n",
        "obs, reward, done, info = env.step(action)\n",
        "obs, reward, done, info = env.step(action)\n",
        "obs, reward, done, info = env.step(action)\n",
        "obs, reward, done, info = env.step(action)\n",
        "obs, reward, done, info = env.step(action)\n",
        "obs, reward, done, info = env.step(action)\n",
        "obs, reward, done, info = env.step(action)\n",
        "obs, reward, done, info = env.step(action)\n",
        "obs, reward, done, info = env.step(action)\n",
        "obs, reward, done, info = env.step(action)\n",
        "obs, reward, done, info = env.step(action)\n",
        "obs, reward, done, info = env.step(action)\n",
        "plot_cart_pole(env, obs)"
      ],
      "execution_count": 17,
      "outputs": [
        {
          "output_type": "stream",
          "text": [
            "\u001b[33mWARN: You are calling 'step()' even though this environment has already returned done = True. You should always call 'reset()' once you receive 'done = True' -- any further steps are undefined behavior.\u001b[0m\n"
          ],
          "name": "stdout"
        },
        {
          "output_type": "stream",
          "text": [
            "/usr/local/lib/python3.6/dist-packages/matplotlib/font_manager.py:1320: UserWarning: findfont: Font family ['NanumBarunGothic'] not found. Falling back to DejaVu Sans\n",
            "  (prop.get_family(), self.defaultFamily[fontext]))\n"
          ],
          "name": "stderr"
        },
        {
          "output_type": "display_data",
          "data": {
            "image/png": "[encoded data removed]",
            "text/plain": [
              "<matplotlib.figure.Figure at 0x7f3c74a51358>"
            ]
          },
          "metadata": {
            "tags": []
          }
        }
      ]
    },
    {
      "metadata": {
        "id": "UgKrlO5oGpl-",
        "colab_type": "code",
        "colab": {}
      },
      "cell_type": "code",
      "source": [
        "def basic_policy(obs):\n",
        "  angle = obs[2]\n",
        "  return 0 if angle < 0 else 1"
      ],
      "execution_count": 0,
      "outputs": []
    },
    {
      "metadata": {
        "id": "AxPBbQRnNkHh",
        "colab_type": "code",
        "colab": {}
      },
      "cell_type": "code",
      "source": [
        "frames = []\n",
        "\n",
        "n_max_steps = 10000\n",
        "n_change_steps = 10\n",
        "\n",
        "obs = env.reset()\n",
        "for step in range(n_max_steps):\n",
        "    img = render_cart_pole(env, obs)\n",
        "    frames.append(img)\n",
        "\n",
        "    # hard-coded policy\n",
        "    action = basic_policy(obs)\n",
        "\n",
        "    obs, reward, done, info = env.step(action)\n",
        "    if done:\n",
        "        break"
      ],
      "execution_count": 0,
      "outputs": []
    },
    {
      "metadata": {
        "id": "fF7zPloxNuD-",
        "colab_type": "code",
        "colab": {
          "base_uri": "https://localhost:8080/",
          "height": 308
        },
        "outputId": "8b35b914-405c-4ec0-e348-b101ebe1cc68"
      },
      "cell_type": "code",
      "source": [
        "video = plot_animation(frames, figsize=(6,4))\n",
        "HTML(video.to_html5_video())  "
      ],
      "execution_count": 20,
      "outputs": [
        {
          "output_type": "execute_result",
          "data": {
            "text/html": [
              "<video width=\"432\" height=\"288\" controls autoplay>\n",
              "  <source type=\"video/mp4\" src=\"data:video/mp4;base64,AAAAHGZ0eXBNNFYgAAACAGlzb21pc28yYXZjMQAAAAhmcmVlAAANt21kYXQAAAKuBgX//6rcRem9\n",
              "5tlIt5Ys2CDZI+7veDI2NCAtIGNvcmUgMTUyIHIyODU0IGU5YTU5MDMgLSBILjI2NC9NUEVHLTQg\n",
              "QVZDIGNvZGVjIC0gQ29weWxlZnQgMjAwMy0yMDE3IC0gaHR0cDovL3d3dy52aWRlb2xhbi5vcmcv\n",
              "eDI2NC5odG1sIC0gb3B0aW9uczogY2FiYWM9MSByZWY9MyBkZWJsb2NrPTE6MDowIGFuYWx5c2U9\n",
              "MHgzOjB4MTEzIG1lPWhleCBzdWJtZT03IHBzeT0xIHBzeV9yZD0xLjAwOjAuMDAgbWl4ZWRfcmVm\n",
              "PTEgbWVfcmFuZ2U9MTYgY2hyb21hX21lPTEgdHJlbGxpcz0xIDh4OGRjdD0xIGNxbT0wIGRlYWR6\n",
              "b25lPTIxLDExIGZhc3RfcHNraXA9MSBjaHJvbWFfcXBfb2Zmc2V0PS0yIHRocmVhZHM9MyBsb29r\n",
              "YWhlYWRfdGhyZWFkcz0xIHNsaWNlZF90aHJlYWRzPTAgbnI9MCBkZWNpbWF0ZT0xIGludGVybGFj\n",
              "ZWQ9MCBibHVyYXlfY29tcGF0PTAgY29uc3RyYWluZWRfaW50cmE9MCBiZnJhbWVzPTMgYl9weXJh\n",
              "bWlkPTIgYl9hZGFwdD0xIGJfYmlhcz0wIGRpcmVjdD0xIHdlaWdodGI9MSBvcGVuX2dvcD0wIHdl\n",
              "aWdodHA9MiBrZXlpbnQ9MjUwIGtleWludF9taW49MjUgc2NlbmVjdXQ9NDAgaW50cmFfcmVmcmVz\n",
              "aD0wIHJjX2xvb2thaGVhZD00MCByYz1jcmYgbWJ0cmVlPTEgY3JmPTIzLjAgcWNvbXA9MC42MCBx\n",
              "cG1pbj0wIHFwbWF4PTY5IHFwc3RlcD00IGlwX3JhdGlvPTEuNDAgYXE9MToxLjAwAIAAAAFVZYiE\n",
              "ADv//vdOvwKbRZdqA5JXCvbKpCZZuVJrAfKmAAADAAARsG58lw15q9IkAACtgAI4M4+FsteG/NKy\n",
              "0x+B0QgKWuGNenAmhrCAzo1W1+qRfFCRIwI1nNgR093wI+JEt5coamM6UwkPKwrSHuT3kqcU9HZI\n",
              "9wW+piJ9altr08vvapHveHb+5p0x+D8zeIcUOygtr9W9O+QZ68lieo3deX5Bo1SSWyGCnqCfv6VA\n",
              "gOi8rycgO6j95sWFQ9TED51nC1fKUSluRUrHX+F1eS5lkfQL39oGR3CuYjWdfYINe1HarLCVz1ab\n",
              "7MOtqSg8LDSDA5qQ/y5lGquLNjaYFH5yqfgfEYJ7kZzzzIAnjYEPQAWmAoCgr0flmv7mkQZ47Ca+\n",
              "0mzQoEJLTn2xuB83+Sj/I+fajWa5v/ZUCEQ7knTqalBBvzRn0Mjsk4WUt0bVn40cs2QAz4EAAABg\n",
              "QZokbEO//qmWAACt+Tu6AFg6l8kVW0ZiStRO4qGQoK8qU66rrpBeUsJuvsSSsWOOAX3IP6RrefWq\n",
              "c0m1z6i2MO/kfqKnnjd3pQ7tOGdCryr6WYd6PfYllN8coFa51NQ0AAAALUGeQniF/wAAzftWhUQx\n",
              "E79/nwuPZSIASRZjrc0II/3OQfruPQTblrX1rkjALQAAABYBnmF0Qr8AARV0R0ykGnPCE0yYUpeA\n",
              "AAAAHwGeY2pCvwABFX7qUjsMpYgOEn0QM9YtW7Bs/cO29sEAAABtQZpoSahBaJlMCHf//qmWAACu\n",
              "/AFe4jNsCxvee/9gBAlwP4zLS9hymjWBqXs1peOY7+8owsNkqaiWVD3L+Hcj3RcBNW3PJ0qf50vy\n",
              "91mm4NTdPkXZE/to+iILrZrhrErof16ZeD0x9GDtG2xEIQAAADdBnoZFESwv/wAAzgX1jhXrBgwj\n",
              "TDmF+qLXyYgVVhIAJ3P3JYYTyCkzMv0+UGa9c+kAhXlRTMTBAAAAMQGepXRCvwABFXOrazLUB8rH\n",
              "ZCaRCAEx59z9pBI8LdMYQQttp5n+d2Cxig29KR8pnlUAAAAzAZ6nakK/AAEN3gVgButpj7qdgWXX\n",
              "rg6cO/Bsb7aw4TEgZ71ZeHcYvZqzn84JNJLoU/ZUAAAAWkGarEmoQWyZTAhv//6nhAABUTym5KQB\n",
              "Hw2x+bY+QY/7b7GJpQVQP4kMDu7blBaJx/Q1rObEcknQB5aa47tTDLu9umSjBeU0bdCBXS9MxrE4\n",
              "SCvMGP0jQdGIgAAAAC9BnspFFSwv/wAAyP36nfioUZcXTNpC7YlooIATSyUDn4pppxqsDncUI1b6\n",
              "sT0KgQAAABkBnul0Qr8AAQ3xRWik78BLpY620D9pzWGsAAAALQGe62pCvwABDgoQOOGFMNsI0Bj2\n",
              "XNCB957MAE6z5SfwkUohtiv/i5YKnJ3EwAAAAElBmu5JqEFsmUwUTDv//qmWAACt6BBXoXyUMkCE\n",
              "5OZl/Zr5tndip36r1Eg2x5Jb5HJAaVNb1zSFOgC+Amr1DdZn8+0OWA2WOB7pAAAAMgGfDWpCvwAB\n",
              "FXrtnGIlLlu0a2kmvom4FWwAjwMvF6blo5aOl04hrkyVlLjYAhnnBpaBAAAAgEGbEUnhClJlMCHf\n",
              "/qmWAACt6I4tuxoVZUj1AAKNIYlWoCdTp3f7apB3q7Pg45OXBLLfvXy52V+pO9lp/sPF6Y4gnN8c\n",
              "1lcU+JvxuF73aTTfyNVweEfF0pbdh+MVhgbSiHwVCTnvrKwXiuGo9ELeNnPF7frvnXeAl7rk1EI0\n",
              "jnaLAAAAQEGfL0U0TCv/AAEWCO3KAdVYJIASnPoxXf08MWajmTvqFXTnbHzwPSFGS2DxCpd2BQY5\n",
              "DMeZzwpS4QZyvspRK7AAAAA5AZ9QakK/AAEVz3EKxt1OQGro9gOwvABJFyfcDR+DvWorNh512Zoq\n",
              "hHFKqDaD/WVZsV7Jr6EgrA+LAAAAaUGbVUmoQWiZTAh3//6plgAAricljY+gA43b3Ogfoi47PK0s\n",
              "NG/IemoJtpjLpkpy96afduqobTcz1aUKNV3O+JsaaB8JY+f3nNKXZV7M4/Ud66siBpCYoRVfzM4C\n",
              "qw7P6AmbdsjGTX8W4QAAADJBn3NFESwv/wAAzgajiw2bAfm0PhaIeTLCxplPNX3rNXLo+wAFDfZk\n",
              "uzxCvDIs5cRx2AAAACgBn5J0Qr8AARXhIVDIoxNY8h0bLGIjWlagmUnjS43NT/I/RSefvCgzAAAA\n",
              "GAGflGpCvwAAjut46w9zdm7u42+W9XsGQQAAAF5Bm5lJqEFsmUwIb//+p4QAAVkPE87gCtNiPotb\n",
              "O777SWDA5eqbJ7L9DoftZkyDSUykMn08gXoJDHNV/huJv+Yuedi9DKN5LFsVrjfw0L3avc3Mndh6\n",
              "EMJhUDo4ONUQAAAAPUGft0UVLC//AADON3RmADQiE9Y614RFMJceG9GzOoheVuFgi8aSZu83/UxF\n",
              "r+Ohu49wxkNDAxbONF6/2IEAAAAsAZ/WdEK/AAEV8UVoQw5X3Af9QNqaf5YTzYMokPdocMAA7Iax\n",
              "uY4TAjD/I2EAAAArAZ/YakK/AAEVz9F7L1f8Ig0x8BTSmCjf9QmZbv+IeMa6qR4GaeomE0DnhAAA\n",
              "AFVBm9tJqEFsmUwUTDf//qeEAAFYwpg5TjmAFQdXZgPIY47inttssPbtKSGh+qFlT8xgZ1Sx/WIq\n",
              "sktn8yI/MdShUvEj20cUo3RTM05dBuGBOlkEE0xdAAAAQAGf+mpCvwABFgjaFQZog0s10AEyjEU7\n",
              "/ZHp6S5aJV3Ly1o2aO858JG0HXpKQ7U6HQ6KNkcqXYkzsESEhgldiNgAAACoQZv/SeEKUmUwIZ/+\n",
              "nhAABUeZc/uMtOJcALYhf370RVOGxcmgqKk5Df2LYtKeiN2HDaA/1HPA9w51XBK6onUYcBDJGPSx\n",
              "6FRvz15RxCU3GXKdDbNXrzjmc6YY4GMn7DImWke6za0ZioDyAtN4N++G2uUWdFvmvonpBhzVez0y\n",
              "NXmavWv8g4xbfAUpKafdYlRUZ5TvOXnX3/9sEiTU1E6+hqA78FlMXh6hAAAAVEGeHUU0TC//AADO\n",
              "Bi2qXOMQ6k+5GrvJhUSJYAJ1GCGzHVNEWQ0Hv843Qc7UZkCJ7z7JWHwwM+NpMXgcjJADD5vg+C4b\n",
              "kjzEecb/hJOth0zGMHQ8tQAAAD0Bnjx0Qr8AARVzqPqCRbNyMMAE7bTHPYzsui58CWdlhvF0sBAM\n",
              "kZfhVZT48yfr58tPqP7PC8b4lVOYu7dgAAAATQGePmpCvwABDcs2jRjjkSSbeAHwJFLcYzPLOQpE\n",
              "4xpheVgBMDSd3Iac4MxR7LG5yhkLnekguWwhyakNeecH+AIDeIGwsn0ngZy5Aj/gAAAAfEGaIkmo\n",
              "QWiZTAhX//44QAAT3mynn+sAIuM3wrXY0rrBsSteg+loRhIP3i93FOsExc59o7Wz5NclQqJWM3I5\n",
              "b6lKRmfDngm3cu5Oq//w1lT440eqsSL1Wp/nFnUkQz277aGKsjYzkohVsk/LXVDQsFhi0GbHN3J1\n",
              "juk75UEAAABbQZ5ARREsK/8AAQ3QEbIAHHooz8dyBzQ5Fgjy3e/Bm89FFsY+6JtZXBg9NkK+AYtv\n",
              "I6nc+rB0Bo3Ly/O1J82mK4fs9SWTL+YNRg0qUWbNz5gqFRLIg0bDK8PyQwAAAFABnmFqQr8AAQ1G\n",
              "1QdcBzTUXUwXiuYASQlLfQAOWqCSx025FGFCAYeT6BfTNz3yAWigiAC+3sGsJ9c71zfM3p1PSS2B\n",
              "b14570joSMsPHisFQwAABMJtb292AAAAbG12aGQAAAAAAAAAAAAAAAAAAAPoAAAFeAABAAABAAAA\n",
              "AAAAAAAAAAAAAQAAAAAAAAAAAAAAAAAAAAEAAAAAAAAAAAAAAAAAAEAAAAAAAAAAAAAAAAAAAAAA\n",
              "AAAAAAAAAAAAAAAAAAACAAAD7HRyYWsAAABcdGtoZAAAAAMAAAAAAAAAAAAAAAEAAAAAAAAFeAAA\n",
              "AAAAAAAAAAAAAAAAAAAAAQAAAAAAAAAAAAAAAAAAAAEAAAAAAAAAAAAAAAAAAEAAAAABsAAAASAA\n",
              "AAAAACRlZHRzAAAAHGVsc3QAAAAAAAAAAQAABXgAAAQAAAEAAAAAA2RtZGlhAAAAIG1kaGQAAAAA\n",
              "AAAAAAAAAAAAADIAAABGAFXEAAAAAAAtaGRscgAAAAAAAAAAdmlkZQAAAAAAAAAAAAAAAFZpZGVv\n",
              "SGFuZGxlcgAAAAMPbWluZgAAABR2bWhkAAAAAQAAAAAAAAAAAAAAJGRpbmYAAAAcZHJlZgAAAAAA\n",
              "AAABAAAADHVybCAAAAABAAACz3N0YmwAAACzc3RzZAAAAAAAAAABAAAAo2F2YzEAAAAAAAAAAQAA\n",
              "AAAAAAAAAAAAAAAAAAABsAEgAEgAAABIAAAAAAAAAAEAAAAAAAAAAAAAAAAAAAAAAAAAAAAAAAAA\n",
              "AAAAAAAAAAAY//8AAAAxYXZjQwFkABX/4QAYZ2QAFazZQbCWhAAAAwAEAAADAMg8WLZYAQAGaOvj\n",
              "yyLAAAAAHHV1aWRraEDyXyRPxbo5pRvPAyPzAAAAAAAAABhzdHRzAAAAAAAAAAEAAAAjAAACAAAA\n",
              "ABRzdHNzAAAAAAAAAAEAAAABAAABGGN0dHMAAAAAAAAAIQAAAAEAAAQAAAAAAQAACgAAAAABAAAE\n",
              "AAAAAAEAAAAAAAAAAQAAAgAAAAABAAAKAAAAAAEAAAQAAAAAAQAAAAAAAAABAAACAAAAAAEAAAoA\n",
              "AAAAAQAABAAAAAABAAAAAAAAAAEAAAIAAAAAAQAABgAAAAABAAACAAAAAAEAAAgAAAAAAgAAAgAA\n",
              "AAABAAAKAAAAAAEAAAQAAAAAAQAAAAAAAAABAAACAAAAAAEAAAoAAAAAAQAABAAAAAABAAAAAAAA\n",
              "AAEAAAIAAAAAAQAABgAAAAABAAACAAAAAAEAAAoAAAAAAQAABAAAAAABAAAAAAAAAAEAAAIAAAAA\n",
              "AQAACAAAAAACAAACAAAAABxzdHNjAAAAAAAAAAEAAAABAAAAIwAAAAEAAACgc3RzegAAAAAAAAAA\n",
              "AAAAIwAABAsAAABkAAAAMQAAABoAAAAjAAAAcQAAADsAAAA1AAAANwAAAF4AAAAzAAAAHQAAADEA\n",
              "AABNAAAANgAAAIQAAABEAAAAPQAAAG0AAAA2AAAALAAAABwAAABiAAAAQQAAADAAAAAvAAAAWQAA\n",
              "AEQAAACsAAAAWAAAAEEAAABRAAAAgAAAAF8AAABUAAAAFHN0Y28AAAAAAAAAAQAAACwAAABidWR0\n",
              "YQAAAFptZXRhAAAAAAAAACFoZGxyAAAAAAAAAABtZGlyYXBwbAAAAAAAAAAAAAAAAC1pbHN0AAAA\n",
              "Jal0b28AAAAdZGF0YQAAAAEAAAAATGF2ZjU3LjgzLjEwMA==\n",
              "\">\n",
              "  Your browser does not support the video tag.\n",
              "</video>"
            ],
            "text/plain": [
              "<IPython.core.display.HTML object>"
            ]
          },
          "metadata": {
            "tags": []
          },
          "execution_count": 20
        }
      ]
    },
    {
      "metadata": {
        "id": "xGfTVbNLPYwz",
        "colab_type": "code",
        "colab": {}
      },
      "cell_type": "code",
      "source": [
        "import tensorflow as tf"
      ],
      "execution_count": 0,
      "outputs": []
    },
    {
      "metadata": {
        "id": "P6kbLvL7NhzV",
        "colab_type": "code",
        "colab": {}
      },
      "cell_type": "code",
      "source": [
        "\n",
        "# 신경망 구조 정의\n",
        "n_inputs = 4\n",
        "n_hidden = 4\n",
        "n_outputs = 1\n",
        "initializer = tf.contrib.layers.variance_scaling_initializer()\n",
        "\n",
        "# 신경망 구성\n",
        "# placehodler : sesson 실행할 때 feed_dict로 값넘길 수 있는거\n",
        "X = tf.placeholder(tf.float32, shape = [None, n_inputs])\n",
        "hidden = tf.layers.dense(X, n_hidden, activation = tf.nn.elu, \n",
        "                        kernel_initializer = initializer)\n",
        "logits = tf.layers.dense(hidden, n_outputs, kernel_initializer = initializer)\n",
        "# output이 left or right이니 sigmoid. \n",
        "outputs = tf.nn.sigmoid(logits)\n",
        "\n",
        "# 추정된 확률을 기반으로 랜덤하게 행동 선택\n",
        "p_left_and_rights = tf.concat(axis=1, values = [outputs, 1-outputs])\n",
        "\n",
        "#multinomial :  로그 확률들이 담긴 arr이 들어왔을 때 하나의 정수를 선택\n",
        "#[np.log(0.5) , np.log(0.2), np.log(0.3)] 이런 1*n 배열과 num_samples = 5\n",
        "# 일 때, 50% 확률로 0, 20%확률로 1, 30% 확률로 2를 선택해서 다섯 개의 정수 출력\n",
        "# actionspace가 2이므로 왼쪽 확률이 p일 때 오른 쪽 확률은 1-p 가되니, concat \n",
        "action = tf.multinomial(tf.log(p_left_and_rights), num_samples=1)\n",
        "\n",
        "init = tf.global_variables_initializer()\n"
      ],
      "execution_count": 0,
      "outputs": []
    },
    {
      "metadata": {
        "id": "Zy6paA_kT2uv",
        "colab_type": "code",
        "colab": {}
      },
      "cell_type": "code",
      "source": [
        "# game\n",
        "\n",
        "n_max_steps = 1000\n",
        "frames = []\n",
        "\n",
        "with tf.Session() as sess:\n",
        "  init.run()\n",
        "  obs = env.reset()\n",
        "  for step in range(n_max_steps):\n",
        "    img = render_cart_pole(env, obs)\n",
        "    frames.append(img)\n",
        "    action_val = action.eval(feed_dict={X: obs.reshape(1, n_inputs)})\n",
        "    obs, reward, done, info = env.step(action_val[0][0])\n",
        "    if done:\n",
        "      break\n",
        "  \n",
        "env.close()"
      ],
      "execution_count": 0,
      "outputs": []
    },
    {
      "metadata": {
        "id": "Y_Mal7ewTR6k",
        "colab_type": "code",
        "colab": {
          "base_uri": "https://localhost:8080/",
          "height": 308
        },
        "outputId": "22c52d17-7c2a-4646-921c-42a29e39846f"
      },
      "cell_type": "code",
      "source": [
        "#간단한 신경망 검증\n",
        "video = plot_animation(frames, figsize=(6,4), interval= 40)\n",
        "HTML(video.to_html5_video())  # HTML5 동영상으로 만들어 줍니다"
      ],
      "execution_count": 24,
      "outputs": [
        {
          "output_type": "execute_result",
          "data": {
            "text/html": [
              "<video width=\"432\" height=\"288\" controls autoplay>\n",
              "  <source type=\"video/mp4\" src=\"data:video/mp4;base64,AAAAHGZ0eXBNNFYgAAACAGlzb21pc28yYXZjMQAAAAhmcmVlAAAGg21kYXQAAAKuBgX//6rcRem9\n",
              "5tlIt5Ys2CDZI+7veDI2NCAtIGNvcmUgMTUyIHIyODU0IGU5YTU5MDMgLSBILjI2NC9NUEVHLTQg\n",
              "QVZDIGNvZGVjIC0gQ29weWxlZnQgMjAwMy0yMDE3IC0gaHR0cDovL3d3dy52aWRlb2xhbi5vcmcv\n",
              "eDI2NC5odG1sIC0gb3B0aW9uczogY2FiYWM9MSByZWY9MyBkZWJsb2NrPTE6MDowIGFuYWx5c2U9\n",
              "MHgzOjB4MTEzIG1lPWhleCBzdWJtZT03IHBzeT0xIHBzeV9yZD0xLjAwOjAuMDAgbWl4ZWRfcmVm\n",
              "PTEgbWVfcmFuZ2U9MTYgY2hyb21hX21lPTEgdHJlbGxpcz0xIDh4OGRjdD0xIGNxbT0wIGRlYWR6\n",
              "b25lPTIxLDExIGZhc3RfcHNraXA9MSBjaHJvbWFfcXBfb2Zmc2V0PS0yIHRocmVhZHM9MyBsb29r\n",
              "YWhlYWRfdGhyZWFkcz0xIHNsaWNlZF90aHJlYWRzPTAgbnI9MCBkZWNpbWF0ZT0xIGludGVybGFj\n",
              "ZWQ9MCBibHVyYXlfY29tcGF0PTAgY29uc3RyYWluZWRfaW50cmE9MCBiZnJhbWVzPTMgYl9weXJh\n",
              "bWlkPTIgYl9hZGFwdD0xIGJfYmlhcz0wIGRpcmVjdD0xIHdlaWdodGI9MSBvcGVuX2dvcD0wIHdl\n",
              "aWdodHA9MiBrZXlpbnQ9MjUwIGtleWludF9taW49MjUgc2NlbmVjdXQ9NDAgaW50cmFfcmVmcmVz\n",
              "aD0wIHJjX2xvb2thaGVhZD00MCByYz1jcmYgbWJ0cmVlPTEgY3JmPTIzLjAgcWNvbXA9MC42MCBx\n",
              "cG1pbj0wIHFwbWF4PTY5IHFwc3RlcD00IGlwX3JhdGlvPTEuNDAgYXE9MToxLjAwAIAAAAFLZYiE\n",
              "ADf//vbw/gU2O5jQlxHN6J0zH78VuLo0N73OAAADAAA33OZE/sqTBubAAALgAAnhEU1dzVctN/tA\n",
              "8DrFIArAItSA6oK4cLKP6Z8jefFGlDHziCCJlbfW0O95DR7FQFok+7tmbvJdtY/kplNvNzHgNpqT\n",
              "SbGff2r3yZlpkxg8ScunXrzSesoZj0ufkhit6vwaqn/wmHkz0pPjUj9q2DogbxCJUz+bU7G+Niqp\n",
              "rEUUCWs6P2YEMDbnweX++9QnEGKbhxyErpUrL4G5BaD9itrT+IAR8JDLx8YseR/ZWyN6NLMsY8RE\n",
              "JUy4oBnzRc7qpHCP2VfLNp+Sv7RzjBICsR9IDOJUc5H8hyOgP8CBzCO6sWkn7eiAEpnT2ShSHG++\n",
              "CTf2RsfucmnZRjRcPfe6oMOs/I9jvgIzMwK3/FZX4ppmlZ/+xNQLswACYwAAAGNBmiRsQz/+nhAA\n",
              "BT9cWv0ikGwAtE/1OiFD5X1lK9gwI6tT9zASL8sleR+w7dvXauU1/JQICSWXPO1j3AHq7tBwy8im\n",
              "r26FcYzt18OkC7vGyQJlJsALVZogrAuradQbYTu8ZpQAAAAmQZ5CeIX/AADONl48kR1VFnUJ0zvM\n",
              "E8JGoAL1xYFHgqO7Rck4RDMAAAAVAZ5hdEK/AACK+I8F8WZX7q6ZjiuzAAAAOwGeY2pCvwABFduY\n",
              "gButpjIp+2B1EOW8Vy1GdsUl55qBMke3J51fK7oQM29d+zkYPypyNVZOBt+z49PTAAAAhkGaaEmo\n",
              "QWiZTAhX//44QAAUj2rsdBVtwAHENdoVrw0/0XfEqeGft5qXQjedgfeihgRz+M/h8yExb5IHa3SU\n",
              "8KTTuxOsrdCL2GjjUugY9Qw4+hjt6D6DcDJ0Zk5yJ14CO6S4U53ccMQbk/Wch7IZgkQTmEkWxnoX\n",
              "qPXxtLKLvrHzRqdLuw2BAAAAYkGehkURLC//AADOI1a5ABHkU3pDuJXcAfeWewZGovhYJ7LY6U9v\n",
              "sY7f4Ddfgpj7JEDdrxwRt9Mz1WwwhLcOJ9gF/bIahueaEKSNRw9IklR9qEFBRBzGGHdhu96VcKdz\n",
              "XoCZAAAAOQGepXRCvwABFeHdEbbiJn9y951Y0VsSl5lP4rffqOA5s1O2hpnamADhbRswapbb1ynh\n",
              "rmFxVrcuwQAAAGABnqdqQr8AARWRGNypoAHG7qS65PX4+TiJq3cSLvYAKTCvn/dp+suNvqPcE8qR\n",
              "hRMggNQGEV1fiKFcYubo0nOC3R0qLIHgfQjmW6uGukJXcSAL9TJ8z1zEaa3fOMmEN4oAAAOabW9v\n",
              "dgAAAGxtdmhkAAAAAAAAAAAAAAAAAAAD6AAAAWgAAQAAAQAAAAAAAAAAAAAAAAEAAAAAAAAAAAAA\n",
              "AAAAAAABAAAAAAAAAAAAAAAAAABAAAAAAAAAAAAAAAAAAAAAAAAAAAAAAAAAAAAAAAAAAgAAAsR0\n",
              "cmFrAAAAXHRraGQAAAADAAAAAAAAAAAAAAABAAAAAAAAAWgAAAAAAAAAAAAAAAAAAAAAAAEAAAAA\n",
              "AAAAAAAAAAAAAAABAAAAAAAAAAAAAAAAAABAAAAAAbAAAAEgAAAAAAAkZWR0cwAAABxlbHN0AAAA\n",
              "AAAAAAEAAAFoAAAEAAABAAAAAAI8bWRpYQAAACBtZGhkAAAAAAAAAAAAAAAAAAAyAAAAEgBVxAAA\n",
              "AAAALWhkbHIAAAAAAAAAAHZpZGUAAAAAAAAAAAAAAABWaWRlb0hhbmRsZXIAAAAB521pbmYAAAAU\n",
              "dm1oZAAAAAEAAAAAAAAAAAAAACRkaW5mAAAAHGRyZWYAAAAAAAAAAQAAAAx1cmwgAAAAAQAAAadz\n",
              "dGJsAAAAs3N0c2QAAAAAAAAAAQAAAKNhdmMxAAAAAAAAAAEAAAAAAAAAAAAAAAAAAAAAAbABIABI\n",
              "AAAASAAAAAAAAAABAAAAAAAAAAAAAAAAAAAAAAAAAAAAAAAAAAAAAAAAAAAAGP//AAAAMWF2Y0MB\n",
              "ZAAV/+EAGGdkABWs2UGwloQAAAMABAAAAwDIPFi2WAEABmjr48siwAAAABx1dWlka2hA8l8kT8W6\n",
              "OaUbzwMj8wAAAAAAAAAYc3R0cwAAAAAAAAABAAAACQAAAgAAAAAUc3RzcwAAAAAAAAABAAAAAQAA\n",
              "AFhjdHRzAAAAAAAAAAkAAAABAAAEAAAAAAEAAAoAAAAAAQAABAAAAAABAAAAAAAAAAEAAAIAAAAA\n",
              "AQAACgAAAAABAAAEAAAAAAEAAAAAAAAAAQAAAgAAAAAcc3RzYwAAAAAAAAABAAAAAQAAAAkAAAAB\n",
              "AAAAOHN0c3oAAAAAAAAAAAAAAAkAAAQBAAAAZwAAACoAAAAZAAAAPwAAAIoAAABmAAAAPQAAAGQA\n",
              "AAAUc3RjbwAAAAAAAAABAAAALAAAAGJ1ZHRhAAAAWm1ldGEAAAAAAAAAIWhkbHIAAAAAAAAAAG1k\n",
              "aXJhcHBsAAAAAAAAAAAAAAAALWlsc3QAAAAlqXRvbwAAAB1kYXRhAAAAAQAAAABMYXZmNTcuODMu\n",
              "MTAw\n",
              "\">\n",
              "  Your browser does not support the video tag.\n",
              "</video>"
            ],
            "text/plain": [
              "<IPython.core.display.HTML object>"
            ]
          },
          "metadata": {
            "tags": []
          },
          "execution_count": 24
        }
      ]
    },
    {
      "metadata": {
        "id": "NsGZFzuNTdg-",
        "colab_type": "code",
        "colab": {}
      },
      "cell_type": "code",
      "source": [
        "# 기본 정책잉ㅇ\n",
        "# 기본정책 : 막대가 왼쪽으로 기울어지면(action[2] < 0)  오른쪽으로 기울이기. \n",
        "\n",
        "import tensorflow as tf\n",
        "\n",
        "reset_graph()\n",
        "\n",
        "n_inputs= 4\n",
        "n_hidden = 4\n",
        "n_outputs = 1\n",
        "\n",
        "learning_rate = 0.01\n",
        "\n",
        "inititalizer = tf.contrib.layers.variance_scaling_initializer()\n",
        "\n",
        "X= tf.placeholder(tf.float32, shape = [None, n_inputs])\n",
        "y = tf.placeholder(tf.float32, shape = [None, n_outputs])\n",
        "\n",
        "with tf.name_scope(\"dnn\"):  \n",
        "  hidden = tf.layers.dense(X, n_hidden, activation= tf.nn.elu, kernel_initializer= initializer)\n",
        "  logits = tf.layers.dense(hidden, n_outputs)\n",
        "  outputs = tf.nn.sigmoid(logits) # action 0(왼쪽) 일 때 확률\n",
        "  #sampling\n",
        "  p_left_and_right = tf.concat(axis=1, values= [outputs, 1-outputs])\n",
        "  #action 고를 때 랜덤성을 이용한다. 찾아낸 것보다 더 좋은 게 있을 수도 있기 때문\n",
        "  action = tf.multinomial(tf.log(p_left_and_right), num_samples = 1)\n",
        "  \n",
        "with tf.name_scope(\"train\"):\n",
        "  cross_entropy = tf.nn.sigmoid_cross_entropy_with_logits(labels=y, logits = logits)\n",
        "  optimizer = tf.train.AdamOptimizer(learning_rate)\n",
        "  training_op = optimizer.minimize(cross_entropy)\n",
        "  \n",
        "init = tf.global_variables_initializer()\n",
        "saver = tf.train.Saver()\n",
        "  \n"
      ],
      "execution_count": 0,
      "outputs": []
    },
    {
      "metadata": {
        "id": "7WWdwlO1V7m7",
        "colab_type": "text"
      },
      "cell_type": "markdown",
      "source": [
        "동일한 네트워크를 동시에 10개의 다른 환경에서 플레이, 1000번 반복. 완료되면 환경 리셋"
      ]
    },
    {
      "metadata": {
        "id": "t0EsYxbPV56R",
        "colab_type": "code",
        "colab": {}
      },
      "cell_type": "code",
      "source": [
        "n_env = 10\n",
        "n_iterations= 1000\n",
        "\n",
        "envs = [gym.make(\"CartPole-v0\") for _ in range(n_env)]\n",
        "observations = [env.reset() for env in envs]\n",
        "\n",
        "with tf.Session() as sess:\n",
        "  init.run()\n",
        "  for iteration in range(n_iterations):\n",
        "    # angle<0 이면 proba(left) = 1, 아님 0 \n",
        "    # 왼쪽으로 기울었을 때 왼쪽으로 가는게 좋은 행동이라고 하자.\n",
        "    target_proba =np.array( [ ([1.] if obs[2] < 0 else [0.])  for obs in observations] )\n",
        "    # 그럼 트레이닝을 하며 나온 추정치와 target_proba(알고 있는 좋은 행동)의\n",
        "    # 크로스 엔트로피를 최소화하는 방향으로 학습을 하자 train name_Scope 참조\n",
        "    action_val, _ = sess.run([action, training_op], feed_dict= {X: np.array(observations),\n",
        "                                                               y : target_proba})\n",
        "    for env_index, env in enumerate(envs):\n",
        "      obs, reward, done, info = env.step(action_val[env_index][0])\n",
        "      observations[env_index] = obs if not done else env.reset()\n",
        "  saver.save(sess, \"./my_policy_net_basic.ckpt\")\n",
        "  \n",
        "for env in envs:\n",
        "  env.close()"
      ],
      "execution_count": 0,
      "outputs": []
    },
    {
      "metadata": {
        "id": "VME3gZMXXr8t",
        "colab_type": "code",
        "colab": {}
      },
      "cell_type": "code",
      "source": [
        "# rendering policy\n",
        "\n",
        "rewards = []\n",
        "\n",
        "def render_policy_net(model_path, action, X, n_max_steps = 1000):\n",
        "    frames = []\n",
        "    env = gym.make(\"CartPole-v0\")\n",
        "    obs = env.reset()\n",
        "    with tf.Session() as sess:\n",
        "        saver.restore(sess, model_path)\n",
        "        epi_rewards = 0\n",
        "        for step in range(n_max_steps):\n",
        "            img = render_cart_pole(env, obs)\n",
        "            frames.append(img)\n",
        "            action_val = action.eval(feed_dict={X: obs.reshape(1, n_inputs)})\n",
        "            obs, reward, done, info = env.step(action_val[0][0])\n",
        "            epi_rewards += reward\n",
        "            if done:\n",
        "                break\n",
        "        rewards.append(epi_rewards)\n",
        "\n",
        "    env.close()\n",
        "    return frames        "
      ],
      "execution_count": 0,
      "outputs": []
    },
    {
      "metadata": {
        "id": "MeMnqCHSX_rc",
        "colab_type": "code",
        "colab": {
          "base_uri": "https://localhost:8080/",
          "height": 325
        },
        "outputId": "f3d17a3b-28b6-4872-afc7-6cbb52a30a6a"
      },
      "cell_type": "code",
      "source": [
        "frames = render_policy_net(\"./my_policy_net_basic.ckpt\", action, X)\n",
        "video = plot_animation(frames, figsize=(6, 4))\n",
        "HTML(video.to_html5_video())"
      ],
      "execution_count": 28,
      "outputs": [
        {
          "output_type": "stream",
          "text": [
            "INFO:tensorflow:Restoring parameters from ./my_policy_net_basic.ckpt\n"
          ],
          "name": "stdout"
        },
        {
          "output_type": "execute_result",
          "data": {
            "text/html": [
              "<video width=\"432\" height=\"288\" controls autoplay>\n",
              "  <source type=\"video/mp4\" src=\"data:video/mp4;base64,AAAAHGZ0eXBNNFYgAAACAGlzb21pc28yYXZjMQAAAAhmcmVlAAANEm1kYXQAAAKuBgX//6rcRem9\n",
              "5tlIt5Ys2CDZI+7veDI2NCAtIGNvcmUgMTUyIHIyODU0IGU5YTU5MDMgLSBILjI2NC9NUEVHLTQg\n",
              "QVZDIGNvZGVjIC0gQ29weWxlZnQgMjAwMy0yMDE3IC0gaHR0cDovL3d3dy52aWRlb2xhbi5vcmcv\n",
              "eDI2NC5odG1sIC0gb3B0aW9uczogY2FiYWM9MSByZWY9MyBkZWJsb2NrPTE6MDowIGFuYWx5c2U9\n",
              "MHgzOjB4MTEzIG1lPWhleCBzdWJtZT03IHBzeT0xIHBzeV9yZD0xLjAwOjAuMDAgbWl4ZWRfcmVm\n",
              "PTEgbWVfcmFuZ2U9MTYgY2hyb21hX21lPTEgdHJlbGxpcz0xIDh4OGRjdD0xIGNxbT0wIGRlYWR6\n",
              "b25lPTIxLDExIGZhc3RfcHNraXA9MSBjaHJvbWFfcXBfb2Zmc2V0PS0yIHRocmVhZHM9MyBsb29r\n",
              "YWhlYWRfdGhyZWFkcz0xIHNsaWNlZF90aHJlYWRzPTAgbnI9MCBkZWNpbWF0ZT0xIGludGVybGFj\n",
              "ZWQ9MCBibHVyYXlfY29tcGF0PTAgY29uc3RyYWluZWRfaW50cmE9MCBiZnJhbWVzPTMgYl9weXJh\n",
              "bWlkPTIgYl9hZGFwdD0xIGJfYmlhcz0wIGRpcmVjdD0xIHdlaWdodGI9MSBvcGVuX2dvcD0wIHdl\n",
              "aWdodHA9MiBrZXlpbnQ9MjUwIGtleWludF9taW49MjUgc2NlbmVjdXQ9NDAgaW50cmFfcmVmcmVz\n",
              "aD0wIHJjX2xvb2thaGVhZD00MCByYz1jcmYgbWJ0cmVlPTEgY3JmPTIzLjAgcWNvbXA9MC42MCBx\n",
              "cG1pbj0wIHFwbWF4PTY5IHFwc3RlcD00IGlwX3JhdGlvPTEuNDAgYXE9MToxLjAwAIAAAAFRZYiE\n",
              "ADv//vdOvwKbRZdqA5JXCvbKpCZZuVJrAfKmAAADAAARsG58lw15q9IkAACtgAI4M4+FsteG/M8e\n",
              "PgckUgEyDsagRTutJ4w9ezRGZ+fT+9yz9/OYvxTfcN4wxeVPlrfsEyv5c65ItnrxvUy57CLGkEVn\n",
              "M30mrJR9dezeeZCgntPwA7H7P9xEQvgB67Q8109PM7Ty5/PFakvX7tseoxn/7V6at+lm9r9eDmZf\n",
              "VAJThK0xisxAxCRblyHlydYcPkldW32+I0LkG/Tz4WL05y82jYJPa+Ugm4xJ7xUpM7RZAJU8NHyE\n",
              "l1Zje5h8v3W80dERTX8WwRNe5JD46kCQcB6RzBglI+oRGbi8meVE9vrB0j/S38dvMNIVa6HIl8rA\n",
              "w+4ZuhF/G+/8B1CfQu+FcZD/HyuRsPaoc4USmz/UAZm2BRvSwe0IHu8DpKAJAACCgQAAACdBmiNs\n",
              "Q7/+qZYAAFUqkdMlm7NcsRx1KNTaAKE12VTi9hQCxf+8LiwAAAA9QZ5BeIV/AAEOn1YAre0x/mV2\n",
              "EyJUDZy1/B7lShLuXztf2+iDtLWCa6nDpb/Bv7+s4dP3A2THcRb/yyQDUQAAADEBnmJqQr8AAQ3X\n",
              "6R3RowAC4TsaA8s/LyjkVq/dotS5BN4d6B3ch1bbWhJdPVphM8lAAAAANEGaZ0moQWiZTAh3//6p\n",
              "lgAAqWrzoTgnj0z/tAB+cxKwGaoeeXkIdbHuNIW0kBaJzPYXda0AAAAoQZ6FRREsL/8AAMkpxij8\n",
              "5/gRQVACxdJYjyqiwXu7m+hlR+iv5nlurQAAAA8BnqR0Qr8AAENdCgj4g5kAAAAWAZ6makK/AAEN\n",
              "1/EYEUhXAUMATGiJuwAAADRBmqtJqEFsmUwIb//+p4QAAVAAkLHBVJcZ+CD83AC2QWa7xi9IhSNy\n",
              "ugOGwamdRVFRYRHAAAAAHUGeyUUVLC//AADN/YgIwumxTJmIDE60Vst5PLZ4AAAAFQGe6HRCvwAB\n",
              "FXNjWYLOhVV0giQRrQAAABMBnupqQr8AARWQnl4cV6RSGv2HAAAAPUGa7UmoQWyZTBRMO//+qZYA\n",
              "AKmLkaHAYAGxYTgVXud4mSBn7MP6nCqhqtIq2YmR91GWXHuhIlFF5Bcsb4AAAAAbAZ8MakK/AAEN\n",
              "1/EahvTYYEzCro5ZaTa9vllBAAAAW0GbEUnhClJlMCHf/qmWAACuC4UuJsuTdd2OwAqaIFMDM8/N\n",
              "vmnfdYMLCRYwMHoaff5RLmdNg5bLsfO4fyxw8r5Z+WwjY/3zTlp4I5Ac1NoEmf7MbCOPsbcdZb8A\n",
              "AAArQZ8vRTRML/8AAM4pnKlQA3bwAmrfAa5bNnkMvnwfnwIw8ABw6b66o64Z0QAAACABn050Qr8A\n",
              "AQ3xHq68AJpUxUI7MKrzX0Lra7Y5zQPAwAAAAB8Bn1BqQr8AARXXcvmHVQe16iwAuMAgm8O9AbGi\n",
              "CjxYAAAAPUGbVUmoQWiZTAhv//6nhAABWQCQN5ECoyzup8pGGde0DsB9frJOFSMk+PnHHgWuwW+R\n",
              "Un6ntpIlY4aLEUEAAAAZQZ9zRREsL/8AAM4pkPVCr/qHjEhIgfGS5gAAAAsBn5J0Qr8AAAMBiwAA\n",
              "ACsBn5RqQr8AARXXcvZo7D7dLvKTzdU/MAODLmNeXECpJzMfBeP3lFlDXuGBAAAANUGblkmoQWyZ\n",
              "TAh3//6plgAArerzoTgnH/bU7RyHku6flQf/8JXyEmSlj1IqcqmOI8D4sIOqAAAAXUGbuknhClJl\n",
              "MCHf/qmWAACuAgaX6VC0+BByqfj6FWgA/pDEq29+9i0Z5cknr04OPAwP/ehgktubZXE/x5UAEac8\n",
              "6sn35IbXgc6X+yiTw4eklyj8CoYd6N5z/cl/gQAAAC9Bn9hFNEwv/wAAziTJqbHlftkAAfzxogNm\n",
              "NeYAZJsD4aEJG0aYfr5Dg+19hlqPyQAAACIBn/d0Qr8AARXhHRUIm4ou5+N6rqdDbl3txjuZaDBT\n",
              "ajrkAAAAKgGf+WpCvwABFc9xCsgr3zNy9q8aj+warzqey/9ywAZSFh+KYQCX886DFwAAAFdBm/5J\n",
              "qEFomUwIb//+p4QAAVingkAVjEheFzYIvD1bPYD79xw7/owTRmaXbYZKRVaoDpys+qmcPFLru7Uf\n",
              "LZAbz3aUNVe6WmTm2dMR8w4yTA2tmqsOqEgAAAAjQZ4cRREsL/8AAM4lwfkdTtiQ3pN0x94aOSgm\n",
              "eMCFtkmDYC0AAAAjAZ47dEK/AAEV8Q3Yfsh30dlcuvUmNpBgIxiOaJhuB0XHgsEAAAAVAZ49akK/\n",
              "AAEV13L5sNAlGCRh3nSQAAAAWkGaIkmoQWyZTAhv//6nhAABWt/fA0L4AWH///CGp/ZdhZyxaMqI\n",
              "LlKs0w7YsbY1rJTM6GPgPLzhOgSYjAQCen/3R9PFcN0K9+b9huixOEXBox54aYJ00AdwkAAAADJB\n",
              "nkBFFSwv/wAAzjeDBLvEVWoVsIdky3MTGIeD9VvUYAJxMA1MUmrUIUoZaWI5o3HaQQAAACUBnn90\n",
              "Qr8AARVqlGfXDAHV6MTqQG2tkmI/g/fqS/1YuKT/YJpgAAAANAGeYWpCvwABFc/PmWlW0m5IAPf5\n",
              "MFc5mw2dvPfCE0Neepc1N5LRg53iuujsUaClUI561IEAAABUQZpjSahBbJlMCG///qeEAAFYxkEd\n",
              "bcQAVbhL9H8CeG2P+Yt93x9m8ZTnVXffVDfdSB0yKsda7UcGP474rxsYIzxY8jDM/BH0ICXF4U9m\n",
              "KhRHmPvAAAAAoUGah0nhClJlMCGf/p4QAAVHmXPcI/2CAwAWn7+bGj8eacNRek4CWp6QGnSl01qi\n",
              "d9JPnpZF3gvOtXjGjSZw5HgbWZU5tIgu4gTKRZuFxFh/ucOjkJH/kZtQMECV9OpttItK/6UOhOax\n",
              "vGSCxa+MKuaO7TBsf/zNydspjyOc38iUPsvFyY2+iNfrgUtXkfe1xgUFNNJPTVuvZSEyQc392R/J\n",
              "AAAAS0GepUU0TC//AADOBdr3znT0AC1/ErMCrhIxGgMiJ54W4+PIzYsYxW7lzeH4oynRyoobqF3W\n",
              "t17NylcGRLJp8d1kH4vb+GuPGv0FewAAADgBnsR0Qr8AARVzqPqCRDwFTovxKAyz4EtxUAH87qcA\n",
              "BJfVbJUy4rS+5Fx6b9ULsYft9lk/iwMWgQAAAFEBnsZqQr8AAQz+KcTcAAcYxD9hBKYE5RU9WhRo\n",
              "XtWJtDVxMZsZUW1sXTCKfzh4/U8liml5qmwKkbYlAtR9hHf4+/Wsn5U40fMhVMiBEompLCEAAABw\n",
              "QZrJSahBaJlMFPCv/jhAABPUiBGENC4iAIiNGrHZuefKApDgNRz0o80fW1PeOlwFdx/ToFHcoQOu\n",
              "X7gmENu+TH8WUgiBwiA75UVqemzSZ6r3x+pCMUA3e3YHuqXXUl9JH6LegZoWRym+fps76riIyAAA\n",
              "AEoBnuhqQr8AAQ0jw+P0RdF9MgFu0AJjfg4lRbaC650tK2LmzDH7sxBEodC24GSBlH6I506ovB8R\n",
              "6nrFoDBBosFyQHm17i4MMu5QwAAABR5tb292AAAAbG12aGQAAAAAAAAAAAAAAAAAAAPoAAAGkAAB\n",
              "AAABAAAAAAAAAAAAAAAAAQAAAAAAAAAAAAAAAAAAAAEAAAAAAAAAAAAAAAAAAEAAAAAAAAAAAAAA\n",
              "AAAAAAAAAAAAAAAAAAAAAAAAAAACAAAESHRyYWsAAABcdGtoZAAAAAMAAAAAAAAAAAAAAAEAAAAA\n",
              "AAAGkAAAAAAAAAAAAAAAAAAAAAAAAQAAAAAAAAAAAAAAAAAAAAEAAAAAAAAAAAAAAAAAAEAAAAAB\n",
              "sAAAASAAAAAAACRlZHRzAAAAHGVsc3QAAAAAAAAAAQAABpAAAAQAAAEAAAAAA8BtZGlhAAAAIG1k\n",
              "aGQAAAAAAAAAAAAAAAAAADIAAABUAFXEAAAAAAAtaGRscgAAAAAAAAAAdmlkZQAAAAAAAAAAAAAA\n",
              "AFZpZGVvSGFuZGxlcgAAAANrbWluZgAAABR2bWhkAAAAAQAAAAAAAAAAAAAAJGRpbmYAAAAcZHJl\n",
              "ZgAAAAAAAAABAAAADHVybCAAAAABAAADK3N0YmwAAACzc3RzZAAAAAAAAAABAAAAo2F2YzEAAAAA\n",
              "AAAAAQAAAAAAAAAAAAAAAAAAAAABsAEgAEgAAABIAAAAAAAAAAEAAAAAAAAAAAAAAAAAAAAAAAAA\n",
              "AAAAAAAAAAAAAAAAAAAY//8AAAAxYXZjQwFkABX/4QAYZ2QAFazZQbCWhAAAAwAEAAADAMg8WLZY\n",
              "AQAGaOvjyyLAAAAAHHV1aWRraEDyXyRPxbo5pRvPAyPzAAAAAAAAABhzdHRzAAAAAAAAAAEAAAAq\n",
              "AAACAAAAABRzdHNzAAAAAAAAAAEAAAABAAABWGN0dHMAAAAAAAAAKQAAAAEAAAQAAAAAAQAACAAA\n",
              "AAACAAACAAAAAAEAAAoAAAAAAQAABAAAAAABAAAAAAAAAAEAAAIAAAAAAQAACgAAAAABAAAEAAAA\n",
              "AAEAAAAAAAAAAQAAAgAAAAABAAAGAAAAAAEAAAIAAAAAAQAACgAAAAABAAAEAAAAAAEAAAAAAAAA\n",
              "AQAAAgAAAAABAAAKAAAAAAEAAAQAAAAAAQAAAAAAAAABAAACAAAAAAEAAAQAAAAAAQAACgAAAAAB\n",
              "AAAEAAAAAAEAAAAAAAAAAQAAAgAAAAABAAAKAAAAAAEAAAQAAAAAAQAAAAAAAAABAAACAAAAAAEA\n",
              "AAoAAAAAAQAABAAAAAABAAAAAAAAAAEAAAIAAAAAAQAABAAAAAABAAAKAAAAAAEAAAQAAAAAAQAA\n",
              "AAAAAAABAAACAAAAAAEAAAYAAAAAAQAAAgAAAAAcc3RzYwAAAAAAAAABAAAAAQAAACoAAAABAAAA\n",
              "vHN0c3oAAAAAAAAAAAAAACoAAAQHAAAAKwAAAEEAAAA1AAAAOAAAACwAAAATAAAAGgAAADgAAAAh\n",
              "AAAAGQAAABcAAABBAAAAHwAAAF8AAAAvAAAAJAAAACMAAABBAAAAHQAAAA8AAAAvAAAAOQAAAGEA\n",
              "AAAzAAAAJgAAAC4AAABbAAAAJwAAACcAAAAZAAAAXgAAADYAAAApAAAAOAAAAFgAAAClAAAATwAA\n",
              "ADwAAABVAAAAdAAAAE4AAAAUc3RjbwAAAAAAAAABAAAALAAAAGJ1ZHRhAAAAWm1ldGEAAAAAAAAA\n",
              "IWhkbHIAAAAAAAAAAG1kaXJhcHBsAAAAAAAAAAAAAAAALWlsc3QAAAAlqXRvbwAAAB1kYXRhAAAA\n",
              "AQAAAABMYXZmNTcuODMuMTAw\n",
              "\">\n",
              "  Your browser does not support the video tag.\n",
              "</video>"
            ],
            "text/plain": [
              "<IPython.core.display.HTML object>"
            ]
          },
          "metadata": {
            "tags": []
          },
          "execution_count": 28
        }
      ]
    },
    {
      "metadata": {
        "id": "R8PN1mUoYKaU",
        "colab_type": "code",
        "colab": {
          "base_uri": "https://localhost:8080/",
          "height": 34
        },
        "outputId": "a670030a-5bad-4c37-fdf6-e5c48608b350"
      },
      "cell_type": "code",
      "source": [
        "rewards"
      ],
      "execution_count": 29,
      "outputs": [
        {
          "output_type": "execute_result",
          "data": {
            "text/plain": [
              "[42.0]"
            ]
          },
          "metadata": {
            "tags": []
          },
          "execution_count": 29
        }
      ]
    },
    {
      "metadata": {
        "id": "zYtf4TOswcOe",
        "colab_type": "text"
      },
      "cell_type": "markdown",
      "source": [
        "## Policy Gradient\n",
        "\n",
        "1) 신경망 정책이 여러 번에 걸쳐 게임을 플레이하고, 매 스텝마다 선택된 행동이 더 높은 가능성을 가지도록 만드는 gradient를 계산한다.\n",
        "\n",
        "2) 몇 번의 에피소드를 실행한 다음, 각 행동의 점수를 계산한다. (discount factor 적용시켜서)\n",
        "\n",
        "3) 한 행동의 점수가 양수면 이 행동은 좋은 것을 의미, 미래에 선택될 가능성을 높히기 위해 앞서 계산한 그레이디언트에 적용시킨다. 음수라면 미래 선택가능성을 낮추기 위해 그레디언트에 적용\n",
        "\n",
        "4) 마지막 모든 결과 그레디언트 벡터를 평균 내어 경사하강법을 수행"
      ]
    },
    {
      "metadata": {
        "id": "v6VqB1lShrsk",
        "colab_type": "code",
        "colab": {}
      },
      "cell_type": "code",
      "source": [
        "import tensorflow as tf\n",
        "\n",
        "reset_graph()\n",
        "\n",
        "n_inputs = 4\n",
        "n_hidden = 4\n",
        "n_outputs = 1\n",
        "\n",
        "learning_rate = 0.01\n",
        "\n",
        "initializer = tf.contrib.layers.variance_scaling_initializer()\n",
        "\n",
        "X = tf.placeholder(tf.float32, shape=[None, n_inputs])\n",
        "\n",
        "hidden = tf.layers.dense(X, n_hidden, activation=tf.nn.elu, kernel_initializer=initializer)\n",
        "logits = tf.layers.dense(hidden, n_outputs)\n",
        "outputs = tf.nn.sigmoid(logits)  # 행동 0(왼쪽)에 대한 확률\n",
        "p_left_and_right = tf.concat(axis=1, values=[outputs, 1 - outputs])\n",
        "action = tf.multinomial(tf.log(p_left_and_right), num_samples=1)\n",
        "\n",
        "y = 1. - tf.to_float(action)\n",
        "cross_entropy = tf.nn.sigmoid_cross_entropy_with_logits(labels=y, logits=logits)\n",
        "optimizer = tf.train.AdamOptimizer(learning_rate)\n",
        "grads_and_vars = optimizer.compute_gradients(cross_entropy)\n",
        "gradients = [grad for grad, variable in grads_and_vars]\n",
        "gradient_placeholders = []\n",
        "grads_and_vars_feed = []\n",
        "for grad, variable in grads_and_vars:\n",
        "    gradient_placeholder = tf.placeholder(tf.float32, shape=grad.get_shape())\n",
        "    gradient_placeholders.append(gradient_placeholder)\n",
        "    grads_and_vars_feed.append((gradient_placeholder, variable))\n",
        "training_op = optimizer.apply_gradients(grads_and_vars_feed)\n",
        "\n",
        "init = tf.global_variables_initializer()\n",
        "saver = tf.train.Saver()"
      ],
      "execution_count": 0,
      "outputs": []
    },
    {
      "metadata": {
        "id": "eUKVd0Lv1FDA",
        "colab_type": "code",
        "colab": {}
      },
      "cell_type": "code",
      "source": [
        "# 원본 보상을 받아서 할인된 전체 보상을 계산\n",
        "# 여러 에피소드에 걸친 결과를 정규화하는 두 개의 함수가 필요\n",
        "def discount_rewards(rewards, discount_rate):\n",
        "    discounted_rewards = np.zeros(len(rewards))\n",
        "    cumulative_rewards = 0\n",
        "    for step in reversed(range(len(rewards))):\n",
        "        cumulative_rewards = rewards[step] + cumulative_rewards * discount_rate\n",
        "        discounted_rewards[step] = cumulative_rewards\n",
        "    return discounted_rewards\n",
        "\n",
        "def discount_and_normalize_rewards(all_rewards, discount_rate):\n",
        "    all_discounted_rewards = [discount_rewards(rewards, discount_rate) for rewards in all_rewards]\n",
        "    flat_rewards = np.concatenate(all_discounted_rewards)\n",
        "    reward_mean = flat_rewards.mean()\n",
        "    reward_std = flat_rewards.std()\n",
        "    return [(discounted_rewards - reward_mean)/reward_std for discounted_rewards in all_discounted_rewards]"
      ],
      "execution_count": 0,
      "outputs": []
    },
    {
      "metadata": {
        "id": "EvPV1jWW12Rm",
        "colab_type": "code",
        "colab": {
          "base_uri": "https://localhost:8080/",
          "height": 34
        },
        "outputId": "ffac5292-dbb6-42b6-a511-3d597cbd1b38"
      },
      "cell_type": "code",
      "source": [
        "env = gym.make(\"CartPole-v0\")\n",
        "\n",
        "n_games_per_update = 10\n",
        "n_max_steps = 1000\n",
        "n_iterations = 250\n",
        "save_iterations = 10\n",
        "discount_rate = 0.95\n",
        "\n",
        "with tf.Session() as sess:\n",
        "    init.run()\n",
        "    for iteration in range(n_iterations):\n",
        "      \n",
        "        print(\"\\r반복: {}\".format(iteration), end=\"\")\n",
        "        all_rewards = []\n",
        "        all_gradients = []\n",
        "#### n_games_per_update 만큼 먼저 시행을 한다. 각 action이 얼마나 좋을지.. ? \n",
        "\n",
        "        for game in range(n_games_per_update):\n",
        "            current_rewards = []\n",
        "            current_gradients = []\n",
        "            obs = env.reset()\n",
        "            \n",
        "            for step in range(n_max_steps):\n",
        "                # 이 obs가 들어왔을 때 골라야할 action, gradient를 구한다. \n",
        "                action_val, gradients_val = sess.run([action, gradients], feed_dict={X: obs.reshape(1, n_inputs)})\n",
        "                #action_val[0][0] : 예측한 action 값,\n",
        "                obs, reward, done, info = env.step(action_val[0][0])\n",
        "                current_rewards.append(reward)\n",
        "                current_gradients.append(gradients_val)\n",
        "                if done:\n",
        "                    break\n",
        "            # update계산을 위해 넣는다. \n",
        "            all_rewards.append(current_rewards)\n",
        "            all_gradients.append(current_gradients)\n",
        "####\n",
        "        #앞서 언급한 알고리즘을 사용해 정책을 업데이트할 준비. \n",
        "        all_rewards = discount_and_normalize_rewards(all_rewards, discount_rate=discount_rate)  \n",
        "        feed_dict = {}\n",
        "        for var_index, gradient_placeholder in enumerate(gradient_placeholders):\n",
        "            # 그레디언트와 행동 점수를 곱하고 평균을 계산한다. \n",
        "            mean_gradients = np.mean(\n",
        "                [reward * all_gradients[game_index][step][var_index]\n",
        "                                      for game_index, rewards in enumerate(all_rewards)\n",
        "                                      for step, reward in enumerate(rewards)], \n",
        "                axis=0)\n",
        "            feed_dict[gradient_placeholder] = mean_gradients\n",
        "        sess.run(training_op, feed_dict=feed_dict)\n",
        "        if iteration % save_iterations == 0:\n",
        "            saver.save(sess, \"./my_policy_net_pg.ckpt\")"
      ],
      "execution_count": 32,
      "outputs": [
        {
          "output_type": "stream",
          "text": [
            "반복: 249"
          ],
          "name": "stdout"
        }
      ]
    },
    {
      "metadata": {
        "id": "cbbycqBv2S7q",
        "colab_type": "code",
        "colab": {}
      },
      "cell_type": "code",
      "source": [
        "env.close()"
      ],
      "execution_count": 0,
      "outputs": []
    },
    {
      "metadata": {
        "id": "NWITuO7Y3aa-",
        "colab_type": "code",
        "colab": {
          "base_uri": "https://localhost:8080/",
          "height": 325
        },
        "outputId": "cc5d7bf8-af5f-4ab6-fe9f-20a41512219c"
      },
      "cell_type": "code",
      "source": [
        "frames = render_policy_net(\"./my_policy_net_pg.ckpt\", action, X, n_max_steps=1000)\n",
        "video = plot_animation(frames, figsize=(6,4))\n",
        "HTML(video.to_html5_video())  # HTML5 동영상으로 만들어 줍니다"
      ],
      "execution_count": 34,
      "outputs": [
        {
          "output_type": "stream",
          "text": [
            "INFO:tensorflow:Restoring parameters from ./my_policy_net_pg.ckpt\n"
          ],
          "name": "stdout"
        },
        {
          "output_type": "execute_result",
          "data": {
            "text/html": [
              "<video width=\"432\" height=\"288\" controls autoplay>\n",
              "  <source type=\"video/mp4\" src=\"data:video/mp4;base64,AAAAHGZ0eXBNNFYgAAACAGlzb21pc28yYXZjMQAAAAhmcmVlAAAkvW1kYXQAAAKuBgX//6rcRem9\n",
              "5tlIt5Ys2CDZI+7veDI2NCAtIGNvcmUgMTUyIHIyODU0IGU5YTU5MDMgLSBILjI2NC9NUEVHLTQg\n",
              "QVZDIGNvZGVjIC0gQ29weWxlZnQgMjAwMy0yMDE3IC0gaHR0cDovL3d3dy52aWRlb2xhbi5vcmcv\n",
              "eDI2NC5odG1sIC0gb3B0aW9uczogY2FiYWM9MSByZWY9MyBkZWJsb2NrPTE6MDowIGFuYWx5c2U9\n",
              "MHgzOjB4MTEzIG1lPWhleCBzdWJtZT03IHBzeT0xIHBzeV9yZD0xLjAwOjAuMDAgbWl4ZWRfcmVm\n",
              "PTEgbWVfcmFuZ2U9MTYgY2hyb21hX21lPTEgdHJlbGxpcz0xIDh4OGRjdD0xIGNxbT0wIGRlYWR6\n",
              "b25lPTIxLDExIGZhc3RfcHNraXA9MSBjaHJvbWFfcXBfb2Zmc2V0PS0yIHRocmVhZHM9MyBsb29r\n",
              "YWhlYWRfdGhyZWFkcz0xIHNsaWNlZF90aHJlYWRzPTAgbnI9MCBkZWNpbWF0ZT0xIGludGVybGFj\n",
              "ZWQ9MCBibHVyYXlfY29tcGF0PTAgY29uc3RyYWluZWRfaW50cmE9MCBiZnJhbWVzPTMgYl9weXJh\n",
              "bWlkPTIgYl9hZGFwdD0xIGJfYmlhcz0wIGRpcmVjdD0xIHdlaWdodGI9MSBvcGVuX2dvcD0wIHdl\n",
              "aWdodHA9MiBrZXlpbnQ9MjUwIGtleWludF9taW49MjUgc2NlbmVjdXQ9NDAgaW50cmFfcmVmcmVz\n",
              "aD0wIHJjX2xvb2thaGVhZD00MCByYz1jcmYgbWJ0cmVlPTEgY3JmPTIzLjAgcWNvbXA9MC42MCBx\n",
              "cG1pbj0wIHFwbWF4PTY5IHFwc3RlcD00IGlwX3JhdGlvPTEuNDAgYXE9MToxLjAwAIAAAAEZZYiE\n",
              "ADv//vdOvwKbRZdqA5JXCvbKpCZZuVJrAfKmAAADAAARsG58lw15q9IkAACtgAI4M4+FsteG/NKn\n",
              "ZY/wOiEL6OkeCobWY6F6OubE1VAZD9ypgx5+Yb0dXFaczXkKGu58GMuc7cD2vUuphWirS2c0KgGQ\n",
              "AMKvK0gfHfwWid5MNOF7Oj4Q1aBknegYv5f4dwQgbH7YI27OY1vo+GudsT4G5qPo9j+8VQe9Umjd\n",
              "CMLM8iwQnkJiPCiTTnqaYGfUuLaRUwQnRzbbspku5bX+MGm/MGl78GnAc07a++Pdr6zwj/mBel7i\n",
              "4qR56Dvat3ieToxMmrOgrWsDUIY/Mbo33foE56Vwwt+9LRSnBuSpMEWmdI7GWGBIBH0AAAA+QZok\n",
              "bEN//qeEAAFY6LnUBQ5+DyKmBDqa38G/ExDd03ecnK6WCj2AuBO5p7z28ipTAGHJ7sVh+flyFpOJ\n",
              "itQAAAAuQZ5CeIX/AADN/YjKiTv1htyP57ZLrADgZhRPpZq288vSXlWZtUHtZ0yfajmbDwAAABQB\n",
              "nmF0Qr8AAEUt+35SAvlaoxWCoAAAABYBnmNqQr8AARXXcvmoXFZGmV/IirrJAAAAQ0GaaEmoQWiZ\n",
              "TAhv//6nhAABWQ9KvIAbgbY/9/J/r/pLfbePNirYG3rGdcnggtUqnEJoUpcnTUJ7v8YmUn9+YKIB\n",
              "l6EAAAAwQZ6GRREsL/8AAM4GOHgMp3D6mlHetKnIUAEH6w737W6HeyFmc8syFrUF/uWsQ2JpAAAA\n",
              "HgGepXRCvwABFe/YvmhcxyO4i5uqltRk4tbihmiSpQAAABIBnqdqQr8AAQ3YAc0ONmt7v9YAAAAg\n",
              "QZqpSahBbJlMCG///qeEAAFZD0pzTf9QBHu8q5Nb9UAAAABFQZrKSeEKUmUwId/+qZYAACu8Kexu\n",
              "ue4AMqSiv8GX6bY+hl9/4BTOJZIcw91Gf1zb58dC+6FFDJ4fb2Ugd5STsNUuUAixAAAAQEGa7Enh\n",
              "DomUwU0TDv/+qZYAAK4K0euAUDbIZS0QvpIzpKAsHW4WFrJSoZPBGkli+5q9HW1erlKjN4DEVwy0\n",
              "Ag0AAAAsAZ8LakK/AAEVkNB96oGZtY9tleUEZfAoKegCmUJWZ7gpkCur7ifyceSxFAwAAABAQZsQ\n",
              "SeEPJlMCHf/+qZYAAFd4Ux30FzgASpMEOhFd5vnJysWxOw/AC+B3nLHo+XnnkHl/xxnG0vl063ke\n",
              "ck3QtQAAADtBny5FETwv/wAAzf3516CAALlFjrTcMgIHNl1ouEuZN9s7XrhX11ilf823hXoeFEFW\n",
              "YCsVr5l2nnPYxQAAABgBn010Qr8AARV0KBTVnqnyKiE7+DG534EAAAAVAZ9PakK/AAEV1/EP6grY\n",
              "FGKB36CrAAAAIkGbVEmoQWiZTAh3//6plgAAqnOlJsD0nWF7o6fyCKv+quAAAAAeQZ9yRREsL/8A\n",
              "AMkGouzfrJB9nIftHPdZ1ZrDs5DBAAAAFgGfkXRCvwABDXRJPAs5JBONKSVr3OAAAAAUAZ+TakK/\n",
              "AACK6/iNMK3EgSl0S84AAABOQZuWSahBbJlMFEw7//6plgAAresvXAJ0p1qgZWftZNkv14Y5lZOf\n",
              "BebfpBte7/2WkuCD7Jb/LWtIs09EtQ1rTT1SQb2CRea+Jb2G+SMFAAAAGQGftWpCvwABFX7uCshb\n",
              "W10rO04DqVbTasAAAAA0QZu6SeEKUmUwId/+qZYAAKlrNKXy7y/QAVAXfFIBC4S7Mb8LfTZcIMI8\n",
              "XUvmQ0ghPVPfzwAAAC9Bn9hFNEwv/wAAyQajhU8DG/T2Oe44p4+kM4x3POl8AHWc0ZhiyAeYCLLZ\n",
              "drZPWQAAADEBn/d0Qr8AAQ3xRaPEtt4Zj/AAuMAgiQmctru878VsRUaDibr2AON/tKdjPU4lpisY\n",
              "AAAAFAGf+WpCvwAAiuu5fNQuKyM706pjAAAAL0Gb/UmoQWiZTAh3//6plgAAqnuO6FnKusyAjFP4\n",
              "+bF2biE3mxOJCoA6WOFG14iwAAAAIkGeG0URLCv/AAENkhn0G9wLyipu7yQwwAj2lqzvmk45K00A\n",
              "AAAjAZ48akK/AAEODNMKV2+fp05FUGNMtWvDhJme/NoMLRZD/uMAAABGQZohSahBbJlMCHf//qmW\n",
              "AACuCqD6AA0LMW2T3trmDIyb+wsqv+tpFDws/HfhFaydO3PGqtRxqrKrmn3uigxKR/03g4ue4AAA\n",
              "ACJBnl9FFSwv/wAAzf36N4SYAJNHGuebGXpiKgoRFnG3OktQAAAAKQGefnRCvwABFfEf16+96Yge\n",
              "D8TdWVT83eAOADQQsb6Edx5udOUWflWrAAAAFAGeYGpCvwABFZHbMDkHZc0wIJWAAAAAXUGaZUmo\n",
              "QWyZTAh3//6plgAAV14kjEGKFQ8LgAARldAL5NYEUiwgZ5loHRh1W+n9hLlYhot1ahn9ZHL65lOm\n",
              "uII63vkE1WQ+tlryte4oula/ry/eUz5jzM6agWlTwQAAACJBnoNFFSwv/wAAZuRbkLl8QD+NEzcy\n",
              "g/Lt/g5pmgWp42TKAAAAHwGeonRCvwAAiofc2xpJgtWSkcPKSd7ZR0zyrMarE7EAAAAmAZ6kakK/\n",
              "AAEVf84o/wwAjkLEijU4FiZVr0hI84/z6tlC2rQG5U0AAABWQZqpSahBbJlMCG///qeEAAFYp4JA\n",
              "HKJs3MHRP+xgI5VMPnWkVa0mpLj4F4U0D7Nb1iuWaHDV8gBx6RikbDzzkYkm+OjKt/uBIVdYvCuI\n",
              "Z+XY/hqmgSEAAAAmQZ7HRRUsL/8AAM4pkPLtEntQF3YlLhz4lt2+WqmIybYkHch0W0EAAAAiAZ7m\n",
              "dEK/AAEWeIgBuWvT0aV4rhSFFrW6IK+3NtlQC3CWzwAAADUBnuhqQr8AARV/ylIVfKT0HVTnhh5s\n",
              "S9ZoXc/yWALuY9HXYFc011gA3Hi3xWggiFxpod+dgAAAAFVBmuxJqEFsmUwIb//+p4QAAVkBUXIA\n",
              "OlPwf/v/n7kyyfo8AV3rSrt8tE+iB1ONsRrbALQYKfsYgaCK+QdENOEuugf7Mh8Kp/VOAzvR3N3O\n",
              "Mx2OJGU1AAAAOEGfCkUVLCv/AAEWDd7ACMC56oqR3RybG3P8AOSMnRd2cBOtk1ToRafV3xwj2a9g\n",
              "/mnlGcSyUaR0AAAAOgGfK2pCvwABFgoU+wAcWarpsZPpOFA0uUa+EcDYXIx9DhVWcuDtEj1bq0KA\n",
              "KpAyN96/sGjNOz4kOYAAAAA+QZstSahBbJlMCG///qeEAAFZvNSIhAF+QGcpmgkBI5zHDYtqfvom\n",
              "Yegkhn7dB+dxYkVUS0oIOXbpCZUnDEUAAAA5QZtOSeEKUmUwId/+qZYAAK5Fd4Vt4yaV+yiOlJxX\n",
              "RvBWWKpnETQLbdu155BMbxk2mO+rhbaHAcMTAAAAY0GbcEnhDomUwU0TDv/+qZYAAK4ngtR9QAcP\n",
              "JY4m46+xCT+F1TTl6WiIiPZd777yaDF5102WuOUFzPCXPUI00//LwpABtPv42w2LSc062i54aRnv\n",
              "y1+MqlNd92oK5BvQm0WcaQAAACcBn49qQr8AARHPlKYrADdHYti1uArjPF3vagSClHpzC1I6n4Wg\n",
              "5YgAAABPQZuUSeEPJlMCHf/+qZYAAK4Kj0DNgBuep2wBPZxf+pigzrmcQ0dAwH+6zR2enP/zlp4I\n",
              "wN0u2x6//Gd0Nh4X7GmwKvmdoxNhZ2m2++CegAAAAERBn7JFETwv/wAAzbVtOpOiYqGMEcICTZ1A\n",
              "MW1BUZcQuXT5BgAtVqQMrk/0tCpeV238HwoWTJEFiGf8cXRCdSlwUd/yaQAAACABn9F0Qr8AARVr\n",
              "Bu9apGhZhY4Y1ZFxGAWIxcU2ZZZ+QAAAADcBn9NqQr8AARafVgBuaQEyvtWyZxEksmhY3/WrPP6k\n",
              "dJMBUmSkZx7AEC6UCRIN5vl9hzMUlOezAAAAfEGb2EmoQWiZTAh3//6plgAAsmkCJqADi13VygdJ\n",
              "xXj1794n1aDqbb8iEGPhSwjh/G/mArljS+Svvo1lFIAolcTDAn/+NZrUVWh1wUM9IbE5F1c9KGp3\n",
              "2Gx5ifQ8TTf4pwr2Wchz0uyf0/g3Elf7J3QNXB1APXrUIykvCOUAAAA4QZ/2RREsL/8AANM2+WMA\n",
              "M/yBhPq7c1aaJf1T31b1YcS+Q8NKevuomzcef/PABLVtB4wAyD6dO5AAAAA9AZ4VdEK/AAEd3UDG\n",
              "uJ0KVjDVRe6PuwAru14UiRNqO2gwR3C25r/d3SaKXXOiZRTLvPOrXSUl7k+0zMDQgwAAADIBnhdq\n",
              "Qr8AAR4I/feXxpDzsOpsY+GbLbkfPwAWA0FMB9E3gXmzpikUPp5L5Dq/LUF7gQAAAEZBmhxJqEFs\n",
              "mUwIb//+p4QAAWIOzkjse2mzLUQqSgBLbYu0nrXreEADgDlY9d9rJDfkeMR7Eg9rQ1uUU4t8W7/q\n",
              "ZE43rikkAAAAMkGeOkUVLC//AADSylma25OuNU9BPBsFLh4omAAON1Bk71Z0BNt+Pdnmc4AC2ysP\n",
              "ODuBAAAAJQGeWXRCvwABGhrOHhs2LCAFvbpwv5qufX/KWJ7Ug+TLIHnH8oAAAAAlAZ5bakK/AAEd\n",
              "evElagHtfXdAq3HoYgQAt5N0z9XOKiNsBJHbwQAAADtBmkBJqEFsmUwIb//+p4QAAWsAWOGTbisP\n",
              "8SVcmFKRtmP5VEFEznrmiz6ZOcz/sEJAvoHq4PMwUwEaNwAAAC9Bnn5FFSwv/wAA1/mIEIbfw5k/\n",
              "WgAIU36RsaLDmbkNHZHs5SHANxx7sOzTNLk2HgAAACQBnp10Qr8AASXwG8acLLLAFNq1AB8xDqBT\n",
              "zam39LgV9+WK48AAAAAfAZ6fakK/AAEleu9SH3cFzPV4nKAKPq/fBLinkTXUgQAAAEBBmoFJqEFs\n",
              "mUwIb//+p4QAAWuKsp54AqeDD3s/aj5RYvPrXEXY5UVRGwNvWK2AtrH3yyw7CrQdkQJSesvcYLSw\n",
              "AAAAT0Gao0nhClJlMFFSw3/+p4QAAWrERx2lP2I+TBdyMID/dLqnmfiuzJKl7JCGq6W2+6F1u8+3\n",
              "KiCoTt3nJphlDX/UDR/6tL6qzkAGu47TeYEAAAA3AZ7CakK/AAEmCNILWAa6pBBekU79IykDgOoA\n",
              "P6gzT+r4hPAvjIept9aEW49le2tfeCpyP4mAwAAAAFZBmsVJ4Q6JlMFEw7/+qZYAALtojczLIcAQ\n",
              "Xrifv/1nqKOPNu656XkNeiNwSee1feFY3drari57pfEEeYR4gs5Yp9+BhTypY+q46kzkerNVuyEs\n",
              "wt8CMwAAADgBnuRqQr8AAS3XPjqHiqV8CWgjAB+JKYHGgXoOL3BXzmxqmZ6F91wNkYpuD2utlWBU\n",
              "MzprjjpewwAAAFdBmulJ4Q8mUwIb//6nhAABdFPjlVUrnW9lC7AUKAH4ALayOY1ilvZ+vpSg+Qik\n",
              "+SeHulxiDScNEROvdpDq50RUJbsoDOVKkfXGN88H8/4/WFdA8ugrS6EAAAAqQZ8HRRE8L/8AAN0j\n",
              "8OuWZiDCNwW5Z0k++Mstge66QES5IVGdASHB6zGBAAAAJAGfJnRCvwABLa9SC5bZpP8x3R2xKJr4\n",
              "F5oUYcn4nDyhKVdkRwAAACUBnyhqQr8AASzRIvvJJmfLZJISX099VdzeSYV5wkfyjHKTXELAAAAA\n",
              "QkGbLEmoQWiZTAhv//6nhAABfbBY3UdgjJPUTLcd5eIAYQIs6qu/76Wv9P+rqZ6SGpEeUnkrEv+Q\n",
              "x7/qIS7aUtx2MQAAADBBn0pFESwr/wABNdblgdFG1XVgJACWOsrvXbvI8AEL0pooIw+PtzqdmwPK\n",
              "YdiACKAAAABAAZ9rakK/AAE11z46h8p2RT7XH72TH7TABaopt6qG3vhWHFZnca+8x9RSmT7aDtOW\n",
              "mTg1P1YIYgm8EhOuFTB4xQAAAElBm25JqEFsmUwUTDv//qmWAADAjukZtAEeByicQoGTH1ghuNaR\n",
              "PWnt0XvHNLwtM8YCc5pxG5fHdF1YZtXTnmdmjU5mPFTfXztNAAAAKQGfjWpCvwABNc2ARiAZ/tqt\n",
              "EUAQ1CJOnY+z8agKD/6pj/8h2VPeFV9LAAAARUGbkknhClJlMCG//qeEAAGHsGo9VqkFQDYkeGx/\n",
              "jNFTzRHpQMI3eN8DKu2qKMDpwARm7mXfGLgQltTDetObcWq9IhS80QAAACVBn7BFNEwv/wAA6CX3\n",
              "Ktp0qaU4T54/SxRAfDuTUQGbT/ps/YoYAAAANgGfz3RCvwABNd1CZQypfQm1VDOrbX+3V8xKe6zn\n",
              "g2IqqHiAAOyGgoRGHL4d7SA0gVryCuwSkAAAAEQBn9FqQr8AAT6vjI9Ah+e+EPwwATtx5V4uECZ4\n",
              "+BD6oeSrIG+w1Koe6owBRNDly6UQcxxUQ/N+fN7xPmCRp5j+uZXuiQAAAF1Bm9RJqEFomUwU8N/+\n",
              "p4QAAYe+0ELJObvZlP7AQZ8BOi8cXO4un9rvegDj0pTxRqh23BiiXtL2WDBgb0+j1IC0UC9Pgktz\n",
              "KeOOBwezTau+EQj3acAlRfBc93A2TUAAAAAnAZ/zakK/AAE+pYBGIOGoH0ALApi9V6xpLC7Oa9Wj\n",
              "t6nCl1uRLGPwAAAATEGb90nhClJlMCG//qeEAAGHsFjh3EYRX/MAcK3NQ0AB0HLLaXrvfewJeDIj\n",
              "CeQ0PS6FzJPj54R+Rzy1sIOUOdHJynrazB3LkCkvCWMAAAAxQZ4VRTRMK/8AAT6jHuVj+ecNdAA4\n",
              "s9VO1ndN1rRZyU4xaFFJ7w6VvEA7op6W/SyZwAAAACwBnjZqQr8AAT6lgXjQkVkpA/2tcDz415YQ\n",
              "AfA9deKv93zKbNLCt2L9uD04wQAAAEZBmjtJqEFomUwIb//+p4QAAZIBkwi/Sudb0xwhCqMGylAU\n",
              "X3AB1s1UOvfv0qtB1wilaIgdqQslsp6HEznJrybl891vHtEtAAAAM0GeWUURLC//AADtnvM8dspX\n",
              "ulYATVvgKD5VnLXsJ+0RHZovyd1w7couGIgbMgd5JtA3kgAAAEMBnnh0Qr8AAUewfS5pNmYACm6D\n",
              "pniTdK2GNc0PgS2ec+q/s2m2KOo6Mg99JhA3ITOB6/pf5sCasv92ZnCGgPTZF8/hAAAAKQGeempC\n",
              "vwABR01We+pNR0b8ZIQxMALVSrrEc0t7TLsJxJYWhuNCs0JAAAAAO0GafEmoQWyZTAhv//6nhAAB\n",
              "knXiYQGyZoudrrKu74Ea5wAVAh7xn883b4aX3z5IxSOeiuxb1zM7wRclAAAAQ0Gan0nhClJlMCG/\n",
              "/qeEAAGbsFSJk24q2SzgAXy2I/eWV61n6xUoioKtT5gkr5IyKDVE/ykHx8KmUHWrBXL0dAEOhIEA\n",
              "AAAxQZ69RTRMK/8AAVCvbG08KDoojMPuOvP/yFuYjktgBatpDZR6l/6pWYRYJi2RKd+XYAAAADIB\n",
              "nt5qQr8AAVCjHpC3k91Oi4NMqG1ICIYmAFrf1S/s2m2DYJ9jRD7UhqT+I39r8mctbgAAAEBBmsFJ\n",
              "qEFomUwU8N/+p4QAAZuwVInktSHc6RKAU3UxZvC85VYEPGE4hqN13uxLP6/a0VwEtCAO7GyGROdq\n",
              "/emhAAAAJwGe4GpCvwABUE1XkfOQYeU1ACavOErZcv98xUrOFJ51qBVF7e7sbgAAAFJBmuJJ4QpS\n",
              "ZTAhv/6nhAABm3GqoSAIk8sf11qVlytiH2i34ClaANHQlfT3QUwq0/wITx6Eu6vl5O6ixchXgdm6\n",
              "/y2R3wyDR1KbEdTBo5u+qzZBAAAAQUGbBknhDomUwIb//qeEAAGlsFjhk3reh/4kW0PG1a8tmGmu\n",
              "o7AcwAdByzBFKpTylIpMR9tcmVUxCVEOedET8YsIAAAAMEGfJEURPC//AAD4bYyHZRr02jSAG61J\n",
              "2QvohGV7dMHNGR/7nFEiQJZprMzjuJ8QoQAAAB4Bn0N0Qr8AAVnHylTQrMMaXSmnrh3TWu5hKo5D\n",
              "O4EAAAAkAZ9FakK/AAFZUu73u1E8XwIpOaFk/UZHt+0jXOJ9cCWn775pAAAAOkGbR0moQWiZTAhv\n",
              "//6nhAABpXYCx0AVEgA2qfg/eVtnhdklMu3sNsAxNMgmp4kMfx2PNDuzAse9BW0AAAAsQZtpSeEK\n",
              "UmUwURLDf/6nhAABpXRHHcEg4Kw86kE4X+W970uIE6VZMmBHadQAAAAlAZ+IakK/AAFZTVeWlQdr\n",
              "wAt4Vi1MUL1OSQhgikO+WRFa9zhvrQAAACpBm4tJ4Q6JlMFEw7/+qZYAANlAje6HtDEjYJ/7m5vt\n",
              "c4cXX1H8iHZx9aEAAAAlAZ+qakK/AAFiUu9XNw/nSWgkAJYxY5mKQ/CPwov/6XaM0zXKJgAAAHhB\n",
              "m69J4Q8mUwIb//6nhAABr3T0ChIAbnxMuKvOKr0p8If9P0Xp6Fw1z/WD/ewt+dHxVFn7A/9aUAqg\n",
              "cAFOpEcwu7GV6WRbBlNYEW7UHANzmyajLqYKtoYnfdCG6akCDPaDLkWxNR1rb1v87sqSJ4aIksf0\n",
              "Jz13JYAAAAA9QZ/NRRE8L/8AAP4e0if4nYpjdTFMdDkjTJgAP56hBFKu1SzVmeb3U7xWqDMi9nou\n",
              "iYQXvpWYdyIZgdkXHwAAAEcBn+x0Qr8AAWKHZauWijMngCQAr1kPwn0oRVrfJO1sIzoTn7d66+RW\n",
              "+rQzk37hoKPhkoQIYVHdCaSWxLqJsrqTG5Smg8pQ3wAAACABn+5qQr8AAWJS8cTTCRvRIF5XnC3L\n",
              "/es4xoQGP29h4QAAAFtBm/NJqEFomUwIb//+p4QAAbm+05A1YI3Ea6AA7Lyx+R4XrWfrFKYKQp+q\n",
              "R1foixOu9rpCFRDhKpbYqk8nmeWnBnsnFhxPnS1bJri4O3ipBUP41Jkz9NQ9HyHwAAAAREGeEUUR\n",
              "LC//AAEFjOodlGU2s62pGywDBfdMT8QXvgQh+sNpCq8BHxrltnkqZzpliP3EVTr/n2skYPuv94Xc\n",
              "C0AILtHwAAAAQAGeMHRCvwABa8fG53IHjA5NCYAS1XoKkIwkGkXYZaD16QpENhzmKJ7uyPARimrr\n",
              "oLj9o5LLdJvHZdFHWFwtd38AAAA4AZ4yakK/AAFrV8jnZnH+FAAsH9qTgMGC5rICdqBpND/dhGN8\n",
              "sv7IIkeRMqMsciLoTeN7AwfE8O8AAABNQZo0SahBbJlMCG///qeEAAG6E23qoAW51H76o38c8t4R\n",
              "vu3rNo9AlaYcdEVzoWl1uZDQNuk5SKlaGjRjXfk+J4+ukyCRhen4ConhEvAAAAA/QZpWSeEKUmUw\n",
              "UVLDf/6nhAABu/ZUVl4CzMvqpuiMAHCqOP5OiTvMJfMugWBOoFCM08cY+/2wl/kq2U/lk8vBAAAA\n",
              "LQGedWpCvwABbFywAr15H7tPkdlovdoTQY+T+q6pOqWtVwG2rgjGuJHOu6S0gAAAABlBmndJ4Q6J\n",
              "lMCHf/6plgAADZQapQmHq6ZhAAAALEGamknhDyZTAh3//qmWAAAN98QYl2zaELhQCsHxUO99HyhS\n",
              "5Un1qiaS/8WdAAAAP0GeuEURPCv/AAAWfzfBQUigAmbw3uE1VLFNRcaNOf9OZGC6e5wWY/L1e45v\n",
              "xGUMD/ruCYh8v3buAI8MlsYsgAAAADMBntlqQr8AAC11+fl8IBxVAAe/Y3uE1VLFN1I4CdKcAGP4\n",
              "3/8fpRLQnnj51jF2jLb53UEAAAAVQZreSahBaJlMCHf//qmWAAADAPCAAAAAD0Ge/EURLC//AAAg\n",
              "vnMO+QAAAA0Bnxt0Qr8AAC1phpShAAAADQGfHWpCvwAALXX/FKAAAAAVQZsCSahBbJlMCHf//qmW\n",
              "AAADAPCAAAAAD0GfIEUVLC//AAAgvnMO+QAAAA0Bn190Qr8AAC1phpSgAAAADQGfQWpCvwAALXX/\n",
              "FKEAAAAVQZtGSahBbJlMCHf//qmWAAADAPCAAAAAD0GfZEUVLC//AAAgvnMO+QAAAA0Bn4N0Qr8A\n",
              "AC1phpShAAAADQGfhWpCvwAALXX/FKEAAAAVQZuKSahBbJlMCHf//qmWAAADAPCBAAAAD0GfqEUV\n",
              "LC//AAAgvnMO+AAAAA0Bn8d0Qr8AAC1phpSgAAAADQGfyWpCvwAALXX/FKEAAAAVQZvOSahBbJlM\n",
              "CHf//qmWAAADAPCAAAAAD0Gf7EUVLC//AAAgvnMO+AAAAA0Bngt0Qr8AAC1phpShAAAADQGeDWpC\n",
              "vwAALXX/FKEAAAAVQZoSSahBbJlMCHf//qmWAAADAPCBAAAAD0GeMEUVLC//AAAgvnMO+AAAAA0B\n",
              "nk90Qr8AAC1phpSgAAAADQGeUWpCvwAALXX/FKEAAAAVQZpWSahBbJlMCHf//qmWAAADAPCAAAAA\n",
              "D0GedEUVLC//AAAgvnMO+AAAAA0BnpN0Qr8AAC1phpShAAAADQGelWpCvwAALXX/FKAAAAAVQZqa\n",
              "SahBbJlMCHf//qmWAAADAPCBAAAAD0GeuEUVLC//AAAgvnMO+QAAAA0Bntd0Qr8AAC1phpSgAAAA\n",
              "DQGe2WpCvwAALXX/FKEAAAAVQZreSahBbJlMCHf//qmWAAADAPCAAAAAD0Ge/EUVLC//AAAgvnMO\n",
              "+QAAAA0Bnxt0Qr8AAC1phpShAAAADQGfHWpCvwAALXX/FKAAAAAVQZsCSahBbJlMCHf//qmWAAAD\n",
              "APCAAAAAD0GfIEUVLC//AAAgvnMO+QAAAA0Bn190Qr8AAC1phpSgAAAADQGfQWpCvwAALXX/FKEA\n",
              "AAAVQZtGSahBbJlMCHf//qmWAAADAPCAAAAAD0GfZEUVLC//AAAgvnMO+QAAAA0Bn4N0Qr8AAC1p\n",
              "hpShAAAADQGfhWpCvwAALXX/FKEAAAAVQZuKSahBbJlMCHf//qmWAAADAPCBAAAAD0GfqEUVLC//\n",
              "AAAgvnMO+AAAAA0Bn8d0Qr8AAC1phpSgAAAADQGfyWpCvwAALXX/FKEAAAAVQZvOSahBbJlMCHf/\n",
              "/qmWAAADAPCAAAAAD0Gf7EUVLC//AAAgvnMO+AAAAA0Bngt0Qr8AAC1phpShAAAADQGeDWpCvwAA\n",
              "LXX/FKEAAAAVQZoSSahBbJlMCHf//qmWAAADAPCBAAAAD0GeMEUVLC//AAAgvnMO+AAAAA0Bnk90\n",
              "Qr8AAC1phpSgAAAADQGeUWpCvwAALXX/FKEAAAAVQZpWSahBbJlMCHf//qmWAAADAPCAAAAAD0Ge\n",
              "dEUVLC//AAAgvnMO+AAAAA0BnpN0Qr8AAC1phpShAAAADQGelWpCvwAALXX/FKAAAAAVQZqaSahB\n",
              "bJlMCHf//qmWAAADAPCBAAAAD0GeuEUVLC//AAAgvnMO+QAAAA0Bntd0Qr8AAC1phpSgAAAADQGe\n",
              "2WpCvwAALXX/FKEAAAAUQZreSahBbJlMCG///qeEAAADAd0AAAAPQZ78RRUsL/8AACC+cw75AAAA\n",
              "DQGfG3RCvwAALWmGlKEAAAANAZ8dakK/AAAtdf8UoAAAABRBmwJJqEFsmUwIb//+p4QAAAMB3QAA\n",
              "AA9BnyBFFSwv/wAAIL5zDvkAAAANAZ9fdEK/AAAtaYaUoAAAAA0Bn0FqQr8AAC11/xShAAAAE0Gb\n",
              "RkmoQWyZTAhf//6MsAAAB1QAAAAPQZ9kRRUsL/8AACC+cw75AAAADQGfg3RCvwAALWmGlKEAAAAN\n",
              "AZ+FakK/AAAtdf8UoQAAABNBm4dJqEFsmUwIV//+OEAAABxxAAAMTm1vb3YAAABsbXZoZAAAAAAA\n",
              "AAAAAAAAAAAAA+gAAB9AAAEAAAEAAAAAAAAAAAAAAAABAAAAAAAAAAAAAAAAAAAAAQAAAAAAAAAA\n",
              "AAAAAAAAQAAAAAAAAAAAAAAAAAAAAAAAAAAAAAAAAAAAAAAAAAIAAAt4dHJhawAAAFx0a2hkAAAA\n",
              "AwAAAAAAAAAAAAAAAQAAAAAAAB9AAAAAAAAAAAAAAAAAAAAAAAABAAAAAAAAAAAAAAAAAAAAAQAA\n",
              "AAAAAAAAAAAAAAAAQAAAAAGwAAABIAAAAAAAJGVkdHMAAAAcZWxzdAAAAAAAAAABAAAfQAAABAAA\n",
              "AQAAAAAK8G1kaWEAAAAgbWRoZAAAAAAAAAAAAAAAAAAAMgAAAZAAVcQAAAAAAC1oZGxyAAAAAAAA\n",
              "AAB2aWRlAAAAAAAAAAAAAAAAVmlkZW9IYW5kbGVyAAAACpttaW5mAAAAFHZtaGQAAAABAAAAAAAA\n",
              "AAAAAAAkZGluZgAAABxkcmVmAAAAAAAAAAEAAAAMdXJsIAAAAAEAAApbc3RibAAAALNzdHNkAAAA\n",
              "AAAAAAEAAACjYXZjMQAAAAAAAAABAAAAAAAAAAAAAAAAAAAAAAGwASAASAAAAEgAAAAAAAAAAQAA\n",
              "AAAAAAAAAAAAAAAAAAAAAAAAAAAAAAAAAAAAAAAAABj//wAAADFhdmNDAWQAFf/hABhnZAAVrNlB\n",
              "sJaEAAADAAQAAAMAyDxYtlgBAAZo6+PLIsAAAAAcdXVpZGtoQPJfJE/FujmlG88DI/MAAAAAAAAA\n",
              "GHN0dHMAAAAAAAAAAQAAAMgAAAIAAAAAFHN0c3MAAAAAAAAAAQAAAAEAAAYQY3R0cwAAAAAAAADA\n",
              "AAAAAQAABAAAAAABAAAKAAAAAAEAAAQAAAAAAQAAAAAAAAABAAACAAAAAAEAAAoAAAAAAQAABAAA\n",
              "AAABAAAAAAAAAAEAAAIAAAAAAgAABAAAAAABAAAGAAAAAAEAAAIAAAAAAQAACgAAAAABAAAEAAAA\n",
              "AAEAAAAAAAAAAQAAAgAAAAABAAAKAAAAAAEAAAQAAAAAAQAAAAAAAAABAAACAAAAAAEAAAYAAAAA\n",
              "AQAAAgAAAAABAAAKAAAAAAEAAAQAAAAAAQAAAAAAAAABAAACAAAAAAEAAAgAAAAAAgAAAgAAAAAB\n",
              "AAAKAAAAAAEAAAQAAAAAAQAAAAAAAAABAAACAAAAAAEAAAoAAAAAAQAABAAAAAABAAAAAAAAAAEA\n",
              "AAIAAAAAAQAACgAAAAABAAAEAAAAAAEAAAAAAAAAAQAAAgAAAAABAAAIAAAAAAIAAAIAAAAAAgAA\n",
              "BAAAAAABAAAGAAAAAAEAAAIAAAAAAQAACgAAAAABAAAEAAAAAAEAAAAAAAAAAQAAAgAAAAABAAAK\n",
              "AAAAAAEAAAQAAAAAAQAAAAAAAAABAAACAAAAAAEAAAoAAAAAAQAABAAAAAABAAAAAAAAAAEAAAIA\n",
              "AAAAAQAACgAAAAABAAAEAAAAAAEAAAAAAAAAAQAAAgAAAAABAAAEAAAAAAEAAAYAAAAAAQAAAgAA\n",
              "AAABAAAGAAAAAAEAAAIAAAAAAQAACgAAAAABAAAEAAAAAAEAAAAAAAAAAQAAAgAAAAABAAAIAAAA\n",
              "AAIAAAIAAAAAAQAABgAAAAABAAACAAAAAAEAAAoAAAAAAQAABAAAAAABAAAAAAAAAAEAAAIAAAAA\n",
              "AQAABgAAAAABAAACAAAAAAEAAAgAAAAAAgAAAgAAAAABAAAKAAAAAAEAAAQAAAAAAQAAAAAAAAAB\n",
              "AAACAAAAAAEAAAQAAAAAAQAACAAAAAACAAACAAAAAAEAAAYAAAAAAQAAAgAAAAABAAAEAAAAAAEA\n",
              "AAoAAAAAAQAABAAAAAABAAAAAAAAAAEAAAIAAAAAAQAABAAAAAABAAAGAAAAAAEAAAIAAAAAAQAA\n",
              "BgAAAAABAAACAAAAAAEAAAoAAAAAAQAABAAAAAABAAAAAAAAAAEAAAIAAAAAAQAACgAAAAABAAAE\n",
              "AAAAAAEAAAAAAAAAAQAAAgAAAAABAAAEAAAAAAEAAAYAAAAAAQAAAgAAAAABAAAEAAAAAAEAAAgA\n",
              "AAAAAgAAAgAAAAABAAAKAAAAAAEAAAQAAAAAAQAAAAAAAAABAAACAAAAAAEAAAoAAAAAAQAABAAA\n",
              "AAABAAAAAAAAAAEAAAIAAAAAAQAACgAAAAABAAAEAAAAAAEAAAAAAAAAAQAAAgAAAAABAAAKAAAA\n",
              "AAEAAAQAAAAAAQAAAAAAAAABAAACAAAAAAEAAAoAAAAAAQAABAAAAAABAAAAAAAAAAEAAAIAAAAA\n",
              "AQAACgAAAAABAAAEAAAAAAEAAAAAAAAAAQAAAgAAAAABAAAKAAAAAAEAAAQAAAAAAQAAAAAAAAAB\n",
              "AAACAAAAAAEAAAoAAAAAAQAABAAAAAABAAAAAAAAAAEAAAIAAAAAAQAACgAAAAABAAAEAAAAAAEA\n",
              "AAAAAAAAAQAAAgAAAAABAAAKAAAAAAEAAAQAAAAAAQAAAAAAAAABAAACAAAAAAEAAAoAAAAAAQAA\n",
              "BAAAAAABAAAAAAAAAAEAAAIAAAAAAQAACgAAAAABAAAEAAAAAAEAAAAAAAAAAQAAAgAAAAABAAAK\n",
              "AAAAAAEAAAQAAAAAAQAAAAAAAAABAAACAAAAAAEAAAoAAAAAAQAABAAAAAABAAAAAAAAAAEAAAIA\n",
              "AAAAAQAACgAAAAABAAAEAAAAAAEAAAAAAAAAAQAAAgAAAAABAAAKAAAAAAEAAAQAAAAAAQAAAAAA\n",
              "AAABAAACAAAAAAEAAAoAAAAAAQAABAAAAAABAAAAAAAAAAEAAAIAAAAAAQAACgAAAAABAAAEAAAA\n",
              "AAEAAAAAAAAAAQAAAgAAAAABAAAKAAAAAAEAAAQAAAAAAQAAAAAAAAABAAACAAAAAAEAAAQAAAAA\n",
              "HHN0c2MAAAAAAAAAAQAAAAEAAADIAAAAAQAAAzRzdHN6AAAAAAAAAAAAAADIAAADzwAAAEIAAAAy\n",
              "AAAAGAAAABoAAABHAAAANAAAACIAAAAWAAAAJAAAAEkAAABEAAAAMAAAAEQAAAA/AAAAHAAAABkA\n",
              "AAAmAAAAIgAAABoAAAAYAAAAUgAAAB0AAAA4AAAAMwAAADUAAAAYAAAAMwAAACYAAAAnAAAASgAA\n",
              "ACYAAAAtAAAAGAAAAGEAAAAmAAAAIwAAACoAAABaAAAAKgAAACYAAAA5AAAAWQAAADwAAAA+AAAA\n",
              "QgAAAD0AAABnAAAAKwAAAFMAAABIAAAAJAAAADsAAACAAAAAPAAAAEEAAAA2AAAASgAAADYAAAAp\n",
              "AAAAKQAAAD8AAAAzAAAAKAAAACMAAABEAAAAUwAAADsAAABaAAAAPAAAAFsAAAAuAAAAKAAAACkA\n",
              "AABGAAAANAAAAEQAAABNAAAALQAAAEkAAAApAAAAOgAAAEgAAABhAAAAKwAAAFAAAAA1AAAAMAAA\n",
              "AEoAAAA3AAAARwAAAC0AAAA/AAAARwAAADUAAAA2AAAARAAAACsAAABWAAAARQAAADQAAAAiAAAA\n",
              "KAAAAD4AAAAwAAAAKQAAAC4AAAApAAAAfAAAAEEAAABLAAAAJAAAAF8AAABIAAAARAAAADwAAABR\n",
              "AAAAQwAAADEAAAAdAAAAMAAAAEMAAAA3AAAAGQAAABMAAAARAAAAEQAAABkAAAATAAAAEQAAABEA\n",
              "AAAZAAAAEwAAABEAAAARAAAAGQAAABMAAAARAAAAEQAAABkAAAATAAAAEQAAABEAAAAZAAAAEwAA\n",
              "ABEAAAARAAAAGQAAABMAAAARAAAAEQAAABkAAAATAAAAEQAAABEAAAAZAAAAEwAAABEAAAARAAAA\n",
              "GQAAABMAAAARAAAAEQAAABkAAAATAAAAEQAAABEAAAAZAAAAEwAAABEAAAARAAAAGQAAABMAAAAR\n",
              "AAAAEQAAABkAAAATAAAAEQAAABEAAAAZAAAAEwAAABEAAAARAAAAGQAAABMAAAARAAAAEQAAABgA\n",
              "AAATAAAAEQAAABEAAAAYAAAAEwAAABEAAAARAAAAFwAAABMAAAARAAAAEQAAABcAAAAUc3RjbwAA\n",
              "AAAAAAABAAAALAAAAGJ1ZHRhAAAAWm1ldGEAAAAAAAAAIWhkbHIAAAAAAAAAAG1kaXJhcHBsAAAA\n",
              "AAAAAAAAAAAALWlsc3QAAAAlqXRvbwAAAB1kYXRhAAAAAQAAAABMYXZmNTcuODMuMTAw\n",
              "\">\n",
              "  Your browser does not support the video tag.\n",
              "</video>"
            ],
            "text/plain": [
              "<IPython.core.display.HTML object>"
            ]
          },
          "metadata": {
            "tags": []
          },
          "execution_count": 34
        }
      ]
    },
    {
      "metadata": {
        "id": "YzTV1Qc2Earc",
        "colab_type": "text"
      },
      "cell_type": "markdown",
      "source": [
        "# 간접 Policy 추정 방법\n",
        "- 각 State에서 미래에 얻을 수 있는 값의 기대값들을 계산. \n",
        "  - Q(s,a) 를 계산하고, 이 것을 이용해 최대가 되는 action들을 구한다. \n",
        "  - action을 직접적으로 최적화하는 pg와 이 점에서 다름. value 찾아보고 나오는 action을 구한다. "
      ]
    },
    {
      "metadata": {
        "id": "RWRCM-kB3bgm",
        "colab_type": "code",
        "colab": {}
      },
      "cell_type": "code",
      "source": [
        "T = [ # T (s, a, s')\n",
        "        [[0.7, 0.3, 0.0], [1.0, 0.0, 0.0], [0.8, 0.2, 0.0]], \n",
        "        [[0.0, 1.0, 0.0], None, [0.0, 0.0, 1.0]],\n",
        "        [None, [0.8, 0.1, 0.1], None],\n",
        "    ]\n",
        "\n",
        "R = [ # R (s, a, s')\n",
        "        [[+10, 0, 0], [0, 0, 0], [0, 0, 0]],\n",
        "        [[0, 0, 0], [0, 0, 0], [0, 0, -50]],\n",
        "        [[0, 0, 0], [+40, 0, 0], [0, 0, 0]],\n",
        "    ]\n",
        "\n",
        "# 각 State에서 갈 수 있는 action\n",
        "possible_actions = [[0, 1, 2], [0, 2], [1]]\n"
      ],
      "execution_count": 0,
      "outputs": []
    },
    {
      "metadata": {
        "id": "McLs5EXwFQO3",
        "colab_type": "code",
        "colab": {}
      },
      "cell_type": "code",
      "source": [
        "import numpy as np\n",
        "\n",
        "# Q(s, a)를 구하자\n",
        "n_iteration = 100\n",
        "discount_factor = 0.95\n",
        "\n",
        "# Q(s, a) 는 s에서 어떤 행동 a를 할 때 얻을 수 있는 기댓값 \n",
        "# Q(s, a) <- sum_s' [ T(s, a, s') * [R(s, a, s') + d_factor * max_a' Q(s', a')] ]\n",
        "# s에서 할 행동 a는 argmax_a Q*(s, a)\n",
        "\n",
        "# 불가능한 행동은 -inf. \n",
        "# state는 3개, 최대 행동은 3개 \n",
        "Q = np.full( ( 3,3), -np.inf)\n",
        "\n",
        "# 0으로 초기화\n",
        "for state, actions in enumerate(possible_actions):\n",
        "  Q[state, actions] = 0.0\n",
        "\n",
        "# Q(s, a) 계산\n",
        "# Q(s, a) <- sum_s' [ T(s, a, s') * [R(s, a, s') + d_factor * max_a' Q(s', a')] ]\n",
        "for iter in range(n_iterations):\n",
        "  Q_prev = Q.copy()\n",
        "  for s in range(3):\n",
        "    for a in possible_actions[s]:\n",
        "      Q[s, a] = np.sum([\n",
        "          \n",
        "          T[s][a][sp] * (R[s][a][sp] + discount_factor * np.max(Q_prev[sp]))\n",
        "          for sp in range(3)\n",
        "      ])"
      ],
      "execution_count": 0,
      "outputs": []
    },
    {
      "metadata": {
        "id": "QjvGzp-UHPSr",
        "colab_type": "code",
        "colab": {
          "base_uri": "https://localhost:8080/",
          "height": 68
        },
        "outputId": "d0afb095-ee59-4aff-a388-009f890690df"
      },
      "cell_type": "code",
      "source": [
        "Q"
      ],
      "execution_count": 37,
      "outputs": [
        {
          "output_type": "execute_result",
          "data": {
            "text/plain": [
              "array([[21.89924423, 20.80428172, 16.86759006],\n",
              "       [ 1.1208234 ,        -inf,  1.17981441],\n",
              "       [       -inf, 53.87348916,        -inf]])"
            ]
          },
          "metadata": {
            "tags": []
          },
          "execution_count": 37
        }
      ]
    },
    {
      "metadata": {
        "id": "UDU4sCgvI1dP",
        "colab_type": "code",
        "colab": {
          "base_uri": "https://localhost:8080/",
          "height": 34
        },
        "outputId": "2403b87a-443d-4908-9e76-312e6b1c526a"
      },
      "cell_type": "code",
      "source": [
        "np.argmax(Q, axis=1)"
      ],
      "execution_count": 38,
      "outputs": [
        {
          "output_type": "execute_result",
          "data": {
            "text/plain": [
              "array([0, 2, 1])"
            ]
          },
          "metadata": {
            "tags": []
          },
          "execution_count": 38
        }
      ]
    },
    {
      "metadata": {
        "id": "y3C3SWTCyLbR",
        "colab_type": "text"
      },
      "cell_type": "markdown",
      "source": [
        "##DQN - Pacman을 통한 deepmind dqn 구현"
      ]
    },
    {
      "metadata": {
        "id": "CO88E04WI4on",
        "colab_type": "code",
        "colab": {}
      },
      "cell_type": "code",
      "source": [
        "import gym"
      ],
      "execution_count": 0,
      "outputs": []
    },
    {
      "metadata": {
        "id": "6vNAQ_1wyen8",
        "colab_type": "code",
        "colab": {
          "base_uri": "https://localhost:8080/",
          "height": 445
        },
        "outputId": "43ea66d2-bd81-41d4-f53d-33163545f0b7"
      },
      "cell_type": "code",
      "source": [
        "!pip3 install gym[atari]"
      ],
      "execution_count": 42,
      "outputs": [
        {
          "output_type": "stream",
          "text": [
            "Requirement already satisfied: gym[atari] in /usr/local/lib/python3.6/dist-packages (0.10.8)\n",
            "Requirement already satisfied: requests>=2.0 in /usr/local/lib/python3.6/dist-packages (from gym[atari]) (2.18.4)\n",
            "Requirement already satisfied: pyglet>=1.2.0 in /usr/local/lib/python3.6/dist-packages (from gym[atari]) (1.3.2)\n",
            "Requirement already satisfied: numpy>=1.10.4 in /usr/local/lib/python3.6/dist-packages (from gym[atari]) (1.14.6)\n",
            "Requirement already satisfied: scipy in /usr/local/lib/python3.6/dist-packages (from gym[atari]) (0.19.1)\n",
            "Requirement already satisfied: six in /usr/local/lib/python3.6/dist-packages (from gym[atari]) (1.11.0)\n",
            "Requirement already satisfied: Pillow; extra == \"atari\" in /usr/local/lib/python3.6/dist-packages (from gym[atari]) (4.0.0)\n",
            "Collecting PyOpenGL; extra == \"atari\" (from gym[atari])\n",
            "  Using cached https://files.pythonhosted.org/packages/9c/1d/4544708aaa89f26c97cc09450bb333a23724a320923e74d73e028b3560f9/PyOpenGL-3.1.0.tar.gz\n",
            "Collecting atari-py>=0.1.4; extra == \"atari\" (from gym[atari])\n",
            "\u001b[?25l  Downloading https://files.pythonhosted.org/packages/16/cc/aabbe1580df0f9b22851e210d5e35e3faa305d10a8783997fb8e79239dbc/atari_py-0.1.6-py3-none-manylinux1_x86_64.whl (1.7MB)\n",
            "\u001b[K    100% |████████████████████████████████| 1.7MB 15.1MB/s \n",
            "\u001b[?25hRequirement already satisfied: idna<2.7,>=2.5 in /usr/local/lib/python3.6/dist-packages (from requests>=2.0->gym[atari]) (2.6)\n",
            "Requirement already satisfied: urllib3<1.23,>=1.21.1 in /usr/local/lib/python3.6/dist-packages (from requests>=2.0->gym[atari]) (1.22)\n",
            "Requirement already satisfied: certifi>=2017.4.17 in /usr/local/lib/python3.6/dist-packages (from requests>=2.0->gym[atari]) (2018.8.24)\n",
            "Requirement already satisfied: chardet<3.1.0,>=3.0.2 in /usr/local/lib/python3.6/dist-packages (from requests>=2.0->gym[atari]) (3.0.4)\n",
            "Requirement already satisfied: future in /usr/local/lib/python3.6/dist-packages (from pyglet>=1.2.0->gym[atari]) (0.16.0)\n",
            "Requirement already satisfied: olefile in /usr/local/lib/python3.6/dist-packages (from Pillow; extra == \"atari\"->gym[atari]) (0.46)\n",
            "Building wheels for collected packages: PyOpenGL\n",
            "  Running setup.py bdist_wheel for PyOpenGL ... \u001b[?25l-\b \b\\\b \b|\b \b/\b \b-\b \b\\\b \b|\b \b/\b \b-\b \b\\\b \b|\b \b/\b \b-\b \b\\\b \b|\b \b/\b \b-\b \b\\\b \b|\b \bdone\n",
            "\u001b[?25h  Stored in directory: /root/.cache/pip/wheels/6c/00/7f/1dd736f380848720ad79a1a1de5272e0d3f79c15a42968fb58\n",
            "Successfully built PyOpenGL\n",
            "Installing collected packages: PyOpenGL, atari-py\n",
            "Successfully installed PyOpenGL-3.1.0 atari-py-0.1.6\n"
          ],
          "name": "stdout"
        }
      ]
    },
    {
      "metadata": {
        "id": "Q_ryPA8KyShs",
        "colab_type": "code",
        "colab": {
          "base_uri": "https://localhost:8080/",
          "height": 34
        },
        "outputId": "98d1aa4e-b961-45d4-a9b2-1cbcf7003c46"
      },
      "cell_type": "code",
      "source": [
        "env = gym.make(\"MsPacman-v0\")\n",
        "obs = env.reset()\n",
        "obs.shape"
      ],
      "execution_count": 43,
      "outputs": [
        {
          "output_type": "execute_result",
          "data": {
            "text/plain": [
              "(210, 160, 3)"
            ]
          },
          "metadata": {
            "tags": []
          },
          "execution_count": 43
        }
      ]
    },
    {
      "metadata": {
        "id": "NAf5W4OxyY7-",
        "colab_type": "code",
        "colab": {
          "base_uri": "https://localhost:8080/",
          "height": 34
        },
        "outputId": "8d060ed6-2694-4292-939d-67a0558854a2"
      },
      "cell_type": "code",
      "source": [
        "env.action_space"
      ],
      "execution_count": 44,
      "outputs": [
        {
          "output_type": "execute_result",
          "data": {
            "text/plain": [
              "Discrete(9)"
            ]
          },
          "metadata": {
            "tags": []
          },
          "execution_count": 44
        }
      ]
    },
    {
      "metadata": {
        "id": "fmN1JYYVysoT",
        "colab_type": "text"
      },
      "cell_type": "markdown",
      "source": [
        "(210, 160, 3) 3d numpy를 이미지를 잘라 (88,80,1)로 전처리"
      ]
    },
    {
      "metadata": {
        "id": "L7se_uJPynNm",
        "colab_type": "code",
        "colab": {}
      },
      "cell_type": "code",
      "source": [
        "mspacman_color = 210 + 164 + 74\n",
        "\n",
        "def preprocess_observation(obs):\n",
        "    img = obs[1:176:2, ::2] # 자르고 크기를 줄입니다.\n",
        "    img = img.sum(axis=2) # 흑백 스케일로 변환합니다.\n",
        "    img[img==mspacman_color] = 0 # 대비를 높입니다.\n",
        "    img = (img // 3 - 128).astype(np.int8) # -128~127 사이로 정규화합니다.\n",
        "    return img.reshape(88, 80, 1)\n",
        "\n",
        "img = preprocess_observation(obs)"
      ],
      "execution_count": 0,
      "outputs": []
    },
    {
      "metadata": {
        "id": "mlFh42yUzVfR",
        "colab_type": "code",
        "colab": {
          "base_uri": "https://localhost:8080/",
          "height": 447
        },
        "outputId": "fe5059f3-8b6c-4e52-ceb3-e82cd4b8c2c4"
      },
      "cell_type": "code",
      "source": [
        "plt.figure(figsize=(10, 6))\n",
        "plt.subplot(121)\n",
        "plt.title(\"Original obs (160×210 RGB)\")\n",
        "plt.imshow(obs)\n",
        "plt.axis(\"off\")\n",
        "plt.subplot(122)\n",
        "plt.title(\"Preprocess obs(88×80 Gray scale)\")\n",
        "plt.imshow(img.reshape(88, 80), interpolation=\"nearest\", cmap=\"gray\")\n",
        "plt.axis(\"off\")\n",
        "plt.show()"
      ],
      "execution_count": 57,
      "outputs": [
        {
          "output_type": "stream",
          "text": [
            "/usr/local/lib/python3.6/dist-packages/matplotlib/font_manager.py:1320: UserWarning: findfont: Font family ['NanumBarunGothic'] not found. Falling back to DejaVu Sans\n",
            "  (prop.get_family(), self.defaultFamily[fontext]))\n"
          ],
          "name": "stderr"
        },
        {
          "output_type": "display_data",
          "data": {
            "image/png": "[encoded data removed]",
            "text/plain": [
              "<matplotlib.figure.Figure at 0x7f3c114daa20>"
            ]
          },
          "metadata": {
            "tags": []
          }
        }
      ]
    },
    {
      "metadata": {
        "id": "N0jCX6Fn0fnl",
        "colab_type": "text"
      },
      "cell_type": "markdown",
      "source": [
        "### Network 설계\n",
        "- 딥마인드에서 고안한 DQN 훈련 알고리즘은 동일한 DQN 두 개(모델 파라미터는 다른)를 사용한다. \n",
        "  - Online DQN은 팩맨을 조정하는 법을 배운다\n",
        "  - Target DQN은 온라인 DQN을 훈련하기 위한 타깃 Q-value를 만드는데 사용된다. \n",
        "\n",
        "-> 일정 간격마다 온라인 네트워크의 가중치가 타깃 네트워크로 복사된다.\n",
        "  - 하나의 네트워크만이 있으면 자기 꼬리를 자기가 쫓는 피드백 루프를 생성한다. \n",
        "  - 두 개의 네크워크를 구성함으로써 이런 피드백 루프를 감소시키고 훈련 과정을 안정화시키는데 도움을 준다. \n"
      ]
    },
    {
      "metadata": {
        "id": "XLHThENvC17P",
        "colab_type": "text"
      },
      "cell_type": "markdown",
      "source": [
        "### network 구성 "
      ]
    },
    {
      "metadata": {
        "id": "a_dAufDZzYHw",
        "colab_type": "code",
        "colab": {}
      },
      "cell_type": "code",
      "source": [
        "import tensorflow as tf\n",
        "\n",
        "\n",
        "# DQN 만들기\n",
        "# input\n",
        "input_height = 88\n",
        "input_width = 80\n",
        "input_channel = 1\n",
        "\n",
        "# conv layer 3개\n",
        "conv_n_fmaps = [32, 64, 64]\n",
        "conv_kernel_size = [(8, 8), (4, 4), (3, 3)]\n",
        "conv_strides = [4, 2, 1]\n",
        "conv_paddings=[\"SAME\"] * 3\n",
        "conv_activation = [tf.nn.relu] * 3\n",
        "\n",
        "# hidden\n",
        "n_hidden_in = 11*10 * 64\n",
        "n_hidden = 512\n",
        "hidden_activation = tf.nn.relu\n",
        "# output\n",
        "n_outputs = env.action_space.n\n",
        "initializer = tf.contrib.layers.variance_scaling_initializer()\n",
        "\n",
        "# 환경의 상태인 X_STATE와 변수 범위의 이름을 입력으로 받음,  여기에는 숨겨진 상태가 거의 없으므로, \n",
        "# 환경의 상태를 표현하는데 하나의 관측만 사용한다.\n",
        "#PONG 게임 같은 경우, 마지막 몇 개의 관측을 연결해서 하나의 환경상태를 만들어야 한다. \n",
        "\n",
        "def q_network(X_state, name):\n",
        "  prev_layer = X_state\n",
        "  with tf.variable_scope(name) as scope:\n",
        "    # conv layer 3개 쌓기\n",
        "    for n_maps, kernel_size, strides, padding, activation in zip(\n",
        "    conv_n_fmaps, conv_kernel_size, conv_strides, conv_paddings, conv_activation):\n",
        "      prev_layer = tf.layers.conv2d(prev_layer, filters=n_maps, kernel_size = kernel_size, \n",
        "                                    strides = strides, padding = padding, activation = activation, kernel_initializer = initializer)\n",
        "    # last_layer\n",
        "    last_conv_layer_flat = tf.reshape(prev_layer, shape=[-1, n_hidden_in])\n",
        "    hidden = tf.layers.dense(last_conv_layer_flat, n_hidden, \n",
        "                            activation = hidden_activation, \n",
        "                            kernel_initializer = initializer)\n",
        "    outputs = tf.layers.dense(hidden, n_outputs, kernel_initializer= initializer)\n",
        "  # dqn에 있는 모든 훈련 가능한 변수를 담는다. 나중에 온라인 dqn을 타깃 dqn으로 복하는 연산을 만들 때 사용  \n",
        "  trainable_vars = tf.get_collection(tf.GraphKeys.TRAINABLE_VARIABLES, \n",
        "                                    scope = scope.name)\n",
        "  \n",
        "  trainable_vars_by_name = {\n",
        "      var.name[len(scope.name):]: var\n",
        "      for var in trainable_vars}\n",
        "  \n",
        "  return outputs, trainable_vars_by_name\n",
        "    \n",
        "\n"
      ],
      "execution_count": 0,
      "outputs": []
    },
    {
      "metadata": {
        "id": "LU7bXGDc3UBj",
        "colab_type": "code",
        "colab": {}
      },
      "cell_type": "code",
      "source": [
        "tf.reset_default_graph()\n",
        "# 입력부 \n",
        "\n",
        "X_state = tf.placeholder(tf.float32, shape=[None, input_height, input_width, input_channel])\n",
        "\n",
        "#Online dqn\n",
        "online_q_values, online_vars = q_network(X_state, name=\"q_networks/online\")\n",
        "#Target dqn\n",
        "target_q_values, target_vars = q_network(X_state, name=\"q_networks/target\")\n",
        "\n",
        "\n",
        "copy_ops = [target_var.assign(online_vars[var_name])\n",
        "           for var_name, target_var in target_vars.items()]\n",
        "copy_online_to_target = tf.group(*copy_ops)\n"
      ],
      "execution_count": 0,
      "outputs": []
    },
    {
      "metadata": {
        "id": "08WS5TzL5q_Z",
        "colab_type": "code",
        "colab": {
          "base_uri": "https://localhost:8080/",
          "height": 88
        },
        "outputId": "7fa36093-87b5-48c1-8994-28416848de92"
      },
      "cell_type": "code",
      "source": [
        "# online dqn의 훈련 연산을 추가 \n",
        "# 먼저 메모리 배치에 있는 각 상태-행동에 대한 예측 q-value를 계산 \n",
        "# dqn은 가능한 모든 행동에 대해 하나의 q 가치를 출력하므로d, 실제로 플레이된 행동에 상응하는 q 가치만 저장해야 한다. \n",
        "\n",
        "X_action = tf.placeholder(tf.int32, shape=[None])\n",
        "q_value = tf.reduce_sum(online_q_values * tf.one_hot(X_action, n_outputs), axis=1, keep_dims=True)"
      ],
      "execution_count": 77,
      "outputs": [
        {
          "output_type": "stream",
          "text": [
            "WARNING:tensorflow:From <ipython-input-77-c5981f487037>:3: calling reduce_sum (from tensorflow.python.ops.math_ops) with keep_dims is deprecated and will be removed in a future version.\n",
            "Instructions for updating:\n",
            "keep_dims is deprecated, use keepdims instead\n"
          ],
          "name": "stdout"
        }
      ]
    },
    {
      "metadata": {
        "id": "ezN9mveK82Vg",
        "colab_type": "code",
        "colab": {}
      },
      "cell_type": "code",
      "source": [
        "y = tf.placeholder(tf.float32, shape=[None, 1])\n",
        "error = tf.abs(y - q_value)\n",
        "clipped_error = tf.clip_by_value(error, 0.0, 1.0)\n",
        "linear_error = 2 * (error - clipped_error)\n",
        "loss = tf.reduce_mean(tf.square(clipped_error) + linear_error)"
      ],
      "execution_count": 0,
      "outputs": []
    },
    {
      "metadata": {
        "id": "rZ3nb2IS83vG",
        "colab_type": "code",
        "colab": {}
      },
      "cell_type": "code",
      "source": [
        "learning_rate = 0.01\n",
        "momentum = 0.95\n",
        "\n",
        "global_step = tf.Variable(0, trainable= False, name='global_step')\n",
        "optimizer = tf.train.MomentumOptimizer(learning_rate, momentum, use_nesterov = True)\n",
        "training_op = optimizer.minimize(loss, global_step = global_step)\n",
        "\n",
        "init = tf.global_variables_initializer()\n",
        "saver = tf.train.Saver()"
      ],
      "execution_count": 0,
      "outputs": []
    },
    {
      "metadata": {
        "id": "_jLoS_wf-aq6",
        "colab_type": "code",
        "colab": {}
      },
      "cell_type": "code",
      "source": [
        "# 재현 메모리 구현. \n",
        "# 재현 메모리는 deque, 재현 메모리에서 배치를 무작위로 샘플링 하기 위해 간단한 함수를 생성 \n",
        "# 각 경험 데이터는 5개의 튜플 ( s, a , r, s', done) \n",
        "\n",
        "from collections import deque\n",
        "\n",
        "replay_memory_size = 500000\n",
        "replay_memory = deque([], maxlen=replay_memory_size)\n",
        "\n",
        "def sample_memories(batch_size):\n",
        "  indices = np.random.permutation(len(replay_memory))[:batch_size]\n",
        "  cols = [[], [], [], [], []] # 상태, 행동, 보상, 다음 상태, 계속\n",
        "  for idx in indices:\n",
        "    memory = replay_memory[idx]\n",
        "    for col, value in zip(cols, memory):\n",
        "      col.append(value)\n",
        "  cols = [np.array(col) for col in cols]\n",
        "  return (cols[0], cols[1], cols[2].reshape(-1, 1), cols[3], cols[4].reshape(-1, 1))"
      ],
      "execution_count": 0,
      "outputs": []
    },
    {
      "metadata": {
        "id": "nKGKoGET_iYk",
        "colab_type": "code",
        "colab": {}
      },
      "cell_type": "code",
      "source": [
        "# 게임을 탐험할 에이전트가 필요. e-greedy 정책 사용\n",
        "\n",
        "eps_min = 0.1\n",
        "eps_max = 1.0\n",
        "eps_decay_steps = 2000000\n",
        "\n",
        "def epsilon_greedy(q_values, step):\n",
        "  epsilon = max(eps_min, eps_max - (eps_max-eps_min)* step/eps_decay_steps)\n",
        "  if np.random.rand() < epsilon:\n",
        "    return np.random.randint(n_outputs)\n",
        "  else:\n",
        "    return np.argmax(q_values)"
      ],
      "execution_count": 0,
      "outputs": []
    },
    {
      "metadata": {
        "id": "WrM-TK4RCykP",
        "colab_type": "text"
      },
      "cell_type": "markdown",
      "source": [
        "### 실행"
      ]
    },
    {
      "metadata": {
        "id": "YFwj_6lb_-Gu",
        "colab_type": "code",
        "colab": {}
      },
      "cell_type": "code",
      "source": [
        "# hyper param 설정\n",
        "\n",
        "n_steps = 4000000\n",
        "training_start = 10000 # 10,000 반복후 훈련 시작\n",
        "\n",
        "training_interval  = 4 # 4게임 반복마다 훈련 스텝 실행\n",
        "\n",
        "save_steps = 1000 # 1000 훈련 스텝마다 모델 저장\n",
        "copy_steps = 10000 # 10000 훈련 스텝마다 온라인 DQN을 타깃 DQN에 복사\n",
        "discount_factor = 0.99\n",
        "skip_start = 90 # 매 게임 시작을 스킵\n",
        "batch_size = 50\n",
        "iteration = 0\n",
        "checkpoint_path = \"./my_dqn.ckpt\"\n",
        "done = True"
      ],
      "execution_count": 0,
      "outputs": []
    },
    {
      "metadata": {
        "id": "MykDN0tQDdle",
        "colab_type": "code",
        "colab": {
          "base_uri": "https://localhost:8080/",
          "height": 71
        },
        "outputId": "214450cf-547e-4faf-bd87-65e898477b77"
      },
      "cell_type": "code",
      "source": [
        "with tf.Session() as sess:\n",
        "  if os.path.isfile(checkpoint_path + \".index\"):\n",
        "    saver.restore(sess, checkpoint_path)\n",
        "  else:\n",
        "    init.run()\n",
        "    copy_online_to_target.run()\n",
        "    while True:\n",
        "      step = global_step.eval()\n",
        "      # traing_op를 n_step만큼 시키면 break\n",
        "      if step >= n_steps:\n",
        "        break\n",
        "      iteration += 1\n",
        "      \n",
        "      if done : #게임 종료, 재시작\n",
        "        obs = env.reset()\n",
        "        for skip in range(skip_start):\n",
        "          obs, reward, done, info = env.step(0)\n",
        "        state = preprocess_observation(obs)\n",
        "      \n",
        "      # 온라인 dqn이 해야 할 일을 평가한다.\n",
        "      q_values = online_q_values.eval(feed_dict={X_state: [state]})\n",
        "      action = epsilon_greedy(q_values, step)\n",
        "      # online dqn을 시작한다\n",
        "      obs, reward, done, info = env.step(action)\n",
        "      next_state = preprocess_observation(obs)\n",
        "      \n",
        "      # 일어난 일을 기억한다\n",
        "      replay_memory.append((state, action, reward, next_state, 1.0 - done))\n",
        "      state = next_state\n",
        "      \n",
        "      if iteration< training_start or iteration % training_interval != 0:\n",
        "        continue \n",
        "      \n",
        "      # 메모리를 샘플링하고 target q-value를 만들기 위해 target dqn을 사용한다.\n",
        "      X_state_val, X_action_val, rewards, X_next_state_val, continues = (sample_memories(batch_size))\n",
        "      next_q_values = target_q_values.eval(\n",
        "        feed_dict = {X_state: X_next_state_val})\n",
        "      max_next_q_values = np.max(next_q_values, axis=1, keepdims=True)\n",
        "      # 식 적용, 게임 종료시 미래 가치를 0으로 만든다 \n",
        "      y_val = rewards + continues * discount_factor * max_next_q_values\n",
        "      \n",
        "      # online dqn 훈련\n",
        "      training_op.run(feed_dict = {X_state: X_state_val, X_action: X_action_val, y: y_val})\n",
        "      \n",
        "      # 정기적으로 온라인 dqn을 타깃 dqn으로 복사\n",
        "      if step % copy_steps == 0:\n",
        "        copy_online_to_target.run()\n",
        "      \n",
        "      #일정 간격으로 저장\n",
        "      if step% save_steps == 0:\n",
        "        saver.save(sess,checkpoint_path)\n",
        "        \n",
        "        "
      ],
      "execution_count": 0,
      "outputs": [
        {
          "output_type": "stream",
          "text": [
            "/usr/local/lib/python3.6/dist-packages/numpy/core/_methods.py:26: RuntimeWarning: invalid value encountered in reduce\n",
            "  return umr_maximum(a, axis, None, out, keepdims)\n"
          ],
          "name": "stderr"
        }
      ]
    },
    {
      "metadata": {
        "id": "QtORByRxDoKZ",
        "colab_type": "code",
        "colab": {}
      },
      "cell_type": "code",
      "source": [
        "frames = []\n",
        "n_max_steps = 10000\n",
        "\n",
        "with tf.Session() as sess:\n",
        "    saver.restore(sess, checkpoint_path)\n",
        "\n",
        "    obs = env.reset()\n",
        "    for step in range(n_max_steps):\n",
        "        state = preprocess_observation(obs)\n",
        "\n",
        "        # 온라인 DQN이 해야할 행동을 평가합니다\n",
        "        q_values = online_q_values.eval(feed_dict={X_state: [state]})\n",
        "        action = np.argmax(q_values)\n",
        "\n",
        "        # 온라인 DQN이 게임을 플레이합니다\n",
        "        obs, reward, done, info = env.step(action)\n",
        "\n",
        "        img = env.render(mode=\"rgb_array\")\n",
        "        frames.append(img)\n",
        "\n",
        "        if done:\n",
        "            break"
      ],
      "execution_count": 0,
      "outputs": []
    }
  ]
}